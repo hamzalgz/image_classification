{
 "cells": [
  {
   "cell_type": "code",
   "execution_count": 1,
   "metadata": {},
   "outputs": [],
   "source": [
    "from tensorflow.compat.v1 import ConfigProto\n",
    "from tensorflow.compat.v1 import InteractiveSession\n",
    "config = ConfigProto()\n",
    "config.gpu_options.allow_growth = True\n",
    "session = InteractiveSession(config=config)"
   ]
  },
  {
   "cell_type": "code",
   "execution_count": 2,
   "metadata": {
    "id": "rWzMYFMXb8Ez",
    "scrolled": true
   },
   "outputs": [],
   "source": [
    "import numpy as np \n",
    "import pandas as pd\n",
    "import os\n",
    "import shutil\n",
    "import cv2\n",
    "from matplotlib import pyplot as plt\n",
    "import tensorflow as tf\n",
    "from tensorflow import keras\n",
    "from tensorflow.keras.preprocessing.image import ImageDataGenerator, array_to_img, img_to_array, load_img\n",
    "from sklearn.model_selection import train_test_split\n",
    "from tensorflow.keras.models import Sequential, Model\n",
    "from tensorflow.keras.layers import Activation, Dropout, Flatten, Dense, Conv2D, MaxPooling2D, BatchNormalization\n",
    "from tensorflow.keras.optimizers import Adam\n",
    "from tensorflow.keras.regularizers import l2\n",
    "from tensorflow.keras.applications import Xception"
   ]
  },
  {
   "cell_type": "code",
   "execution_count": 3,
   "metadata": {
    "id": "yym6QEtncRGM"
   },
   "outputs": [],
   "source": [
    "df = pd.read_csv('data_llhajbb.csv',sep=',' )\n",
    "\n",
    "AUTO = tf.data.experimental.AUTOTUNE"
   ]
  },
  {
   "cell_type": "code",
   "execution_count": 4,
   "metadata": {},
   "outputs": [
    {
     "data": {
      "text/html": [
       "<div>\n",
       "<style scoped>\n",
       "    .dataframe tbody tr th:only-of-type {\n",
       "        vertical-align: middle;\n",
       "    }\n",
       "\n",
       "    .dataframe tbody tr th {\n",
       "        vertical-align: top;\n",
       "    }\n",
       "\n",
       "    .dataframe thead th {\n",
       "        text-align: right;\n",
       "    }\n",
       "</style>\n",
       "<table border=\"1\" class=\"dataframe\">\n",
       "  <thead>\n",
       "    <tr style=\"text-align: right;\">\n",
       "      <th></th>\n",
       "      <th>path_image</th>\n",
       "      <th>lebel</th>\n",
       "    </tr>\n",
       "  </thead>\n",
       "  <tbody>\n",
       "    <tr>\n",
       "      <th>0</th>\n",
       "      <td>new_data0.jpeg</td>\n",
       "      <td>rouille</td>\n",
       "    </tr>\n",
       "    <tr>\n",
       "      <th>1</th>\n",
       "      <td>new_data1.jpeg</td>\n",
       "      <td>rouille</td>\n",
       "    </tr>\n",
       "    <tr>\n",
       "      <th>2</th>\n",
       "      <td>new_data2.jpeg</td>\n",
       "      <td>rouille</td>\n",
       "    </tr>\n",
       "    <tr>\n",
       "      <th>3</th>\n",
       "      <td>new_data3.jpeg</td>\n",
       "      <td>rouille</td>\n",
       "    </tr>\n",
       "    <tr>\n",
       "      <th>4</th>\n",
       "      <td>new_data4.jpeg</td>\n",
       "      <td>rouille</td>\n",
       "    </tr>\n",
       "  </tbody>\n",
       "</table>\n",
       "</div>"
      ],
      "text/plain": [
       "       path_image    lebel\n",
       "0  new_data0.jpeg  rouille\n",
       "1  new_data1.jpeg  rouille\n",
       "2  new_data2.jpeg  rouille\n",
       "3  new_data3.jpeg  rouille\n",
       "4  new_data4.jpeg  rouille"
      ]
     },
     "execution_count": 4,
     "metadata": {},
     "output_type": "execute_result"
    }
   ],
   "source": [
    "df.head()"
   ]
  },
  {
   "cell_type": "code",
   "execution_count": 5,
   "metadata": {
    "colab": {
     "base_uri": "https://localhost:8080/",
     "height": 195
    },
    "id": "QXgncPtChPJU",
    "outputId": "06155ebb-1980-4eff-84d0-a065d081f702"
   },
   "outputs": [
    {
     "data": {
      "text/html": [
       "<div>\n",
       "<style scoped>\n",
       "    .dataframe tbody tr th:only-of-type {\n",
       "        vertical-align: middle;\n",
       "    }\n",
       "\n",
       "    .dataframe tbody tr th {\n",
       "        vertical-align: top;\n",
       "    }\n",
       "\n",
       "    .dataframe thead th {\n",
       "        text-align: right;\n",
       "    }\n",
       "</style>\n",
       "<table border=\"1\" class=\"dataframe\">\n",
       "  <thead>\n",
       "    <tr style=\"text-align: right;\">\n",
       "      <th></th>\n",
       "      <th>path_image</th>\n",
       "      <th>lebel</th>\n",
       "      <th>acariens</th>\n",
       "      <th>chancre fusicocum</th>\n",
       "      <th>coryneum</th>\n",
       "      <th>faux tigre</th>\n",
       "      <th>othyorinques</th>\n",
       "      <th>polystigma</th>\n",
       "      <th>puceron noir</th>\n",
       "      <th>puceron vert</th>\n",
       "      <th>rouille</th>\n",
       "      <th>scolytes</th>\n",
       "    </tr>\n",
       "  </thead>\n",
       "  <tbody>\n",
       "    <tr>\n",
       "      <th>0</th>\n",
       "      <td>new_data0.jpeg</td>\n",
       "      <td>rouille</td>\n",
       "      <td>0</td>\n",
       "      <td>0</td>\n",
       "      <td>0</td>\n",
       "      <td>0</td>\n",
       "      <td>0</td>\n",
       "      <td>0</td>\n",
       "      <td>0</td>\n",
       "      <td>0</td>\n",
       "      <td>1</td>\n",
       "      <td>0</td>\n",
       "    </tr>\n",
       "    <tr>\n",
       "      <th>1</th>\n",
       "      <td>new_data1.jpeg</td>\n",
       "      <td>rouille</td>\n",
       "      <td>0</td>\n",
       "      <td>0</td>\n",
       "      <td>0</td>\n",
       "      <td>0</td>\n",
       "      <td>0</td>\n",
       "      <td>0</td>\n",
       "      <td>0</td>\n",
       "      <td>0</td>\n",
       "      <td>1</td>\n",
       "      <td>0</td>\n",
       "    </tr>\n",
       "    <tr>\n",
       "      <th>2</th>\n",
       "      <td>new_data2.jpeg</td>\n",
       "      <td>rouille</td>\n",
       "      <td>0</td>\n",
       "      <td>0</td>\n",
       "      <td>0</td>\n",
       "      <td>0</td>\n",
       "      <td>0</td>\n",
       "      <td>0</td>\n",
       "      <td>0</td>\n",
       "      <td>0</td>\n",
       "      <td>1</td>\n",
       "      <td>0</td>\n",
       "    </tr>\n",
       "    <tr>\n",
       "      <th>3</th>\n",
       "      <td>new_data3.jpeg</td>\n",
       "      <td>rouille</td>\n",
       "      <td>0</td>\n",
       "      <td>0</td>\n",
       "      <td>0</td>\n",
       "      <td>0</td>\n",
       "      <td>0</td>\n",
       "      <td>0</td>\n",
       "      <td>0</td>\n",
       "      <td>0</td>\n",
       "      <td>1</td>\n",
       "      <td>0</td>\n",
       "    </tr>\n",
       "    <tr>\n",
       "      <th>4</th>\n",
       "      <td>new_data4.jpeg</td>\n",
       "      <td>rouille</td>\n",
       "      <td>0</td>\n",
       "      <td>0</td>\n",
       "      <td>0</td>\n",
       "      <td>0</td>\n",
       "      <td>0</td>\n",
       "      <td>0</td>\n",
       "      <td>0</td>\n",
       "      <td>0</td>\n",
       "      <td>1</td>\n",
       "      <td>0</td>\n",
       "    </tr>\n",
       "  </tbody>\n",
       "</table>\n",
       "</div>"
      ],
      "text/plain": [
       "       path_image    lebel  acariens  chancre fusicocum  coryneum  faux tigre  \\\n",
       "0  new_data0.jpeg  rouille         0                  0         0           0   \n",
       "1  new_data1.jpeg  rouille         0                  0         0           0   \n",
       "2  new_data2.jpeg  rouille         0                  0         0           0   \n",
       "3  new_data3.jpeg  rouille         0                  0         0           0   \n",
       "4  new_data4.jpeg  rouille         0                  0         0           0   \n",
       "\n",
       "   othyorinques  polystigma  puceron noir  puceron vert  rouille  scolytes  \n",
       "0             0           0             0             0        1         0  \n",
       "1             0           0             0             0        1         0  \n",
       "2             0           0             0             0        1         0  \n",
       "3             0           0             0             0        1         0  \n",
       "4             0           0             0             0        1         0  "
      ]
     },
     "execution_count": 5,
     "metadata": {},
     "output_type": "execute_result"
    }
   ],
   "source": [
    "a=df.copy()\n",
    "a=pd.get_dummies(a['lebel'])\n",
    "df1=pd.concat([df, a], axis=1)\n",
    "df1.head()"
   ]
  },
  {
   "cell_type": "code",
   "execution_count": 6,
   "metadata": {
    "id": "UK8RpBoqf0M8"
   },
   "outputs": [],
   "source": [
    "data=df1[df1['puceron noir']!=1]"
   ]
  },
  {
   "cell_type": "code",
   "execution_count": 7,
   "metadata": {
    "id": "lnKSW3GqmQ9B"
   },
   "outputs": [],
   "source": [
    "data=data[data['scolytes']!=1]\n",
    "data=data[data['puceron vert']!=1]"
   ]
  },
  {
   "cell_type": "code",
   "execution_count": 8,
   "metadata": {
    "colab": {
     "base_uri": "https://localhost:8080/"
    },
    "id": "409PM2CumcDC",
    "outputId": "15fb1cd0-57db-4a82-f986-374bfc6a3383"
   },
   "outputs": [
    {
     "data": {
      "text/plain": [
       "(402, 11)"
      ]
     },
     "execution_count": 8,
     "metadata": {},
     "output_type": "execute_result"
    }
   ],
   "source": [
    "data.drop(columns='lebel', inplace=True)\n",
    "\n",
    "data.shape"
   ]
  },
  {
   "cell_type": "code",
   "execution_count": 9,
   "metadata": {
    "id": "OZZszMkXmxGf"
   },
   "outputs": [],
   "source": [
    "data.drop(columns=['puceron noir','scolytes','puceron vert'],inplace=True)"
   ]
  },
  {
   "cell_type": "code",
   "execution_count": 10,
   "metadata": {
    "colab": {
     "base_uri": "https://localhost:8080/",
     "height": 195
    },
    "id": "Fezy3m4ycxe7",
    "outputId": "0db79526-24e2-42ce-f3df-207475cf925a"
   },
   "outputs": [
    {
     "data": {
      "text/html": [
       "<div>\n",
       "<style scoped>\n",
       "    .dataframe tbody tr th:only-of-type {\n",
       "        vertical-align: middle;\n",
       "    }\n",
       "\n",
       "    .dataframe tbody tr th {\n",
       "        vertical-align: top;\n",
       "    }\n",
       "\n",
       "    .dataframe thead th {\n",
       "        text-align: right;\n",
       "    }\n",
       "</style>\n",
       "<table border=\"1\" class=\"dataframe\">\n",
       "  <thead>\n",
       "    <tr style=\"text-align: right;\">\n",
       "      <th></th>\n",
       "      <th>path_image</th>\n",
       "      <th>acariens</th>\n",
       "      <th>chancre fusicocum</th>\n",
       "      <th>coryneum</th>\n",
       "      <th>faux tigre</th>\n",
       "      <th>othyorinques</th>\n",
       "      <th>polystigma</th>\n",
       "      <th>rouille</th>\n",
       "    </tr>\n",
       "  </thead>\n",
       "  <tbody>\n",
       "    <tr>\n",
       "      <th>0</th>\n",
       "      <td>new_data0.jpeg</td>\n",
       "      <td>0</td>\n",
       "      <td>0</td>\n",
       "      <td>0</td>\n",
       "      <td>0</td>\n",
       "      <td>0</td>\n",
       "      <td>0</td>\n",
       "      <td>1</td>\n",
       "    </tr>\n",
       "    <tr>\n",
       "      <th>1</th>\n",
       "      <td>new_data1.jpeg</td>\n",
       "      <td>0</td>\n",
       "      <td>0</td>\n",
       "      <td>0</td>\n",
       "      <td>0</td>\n",
       "      <td>0</td>\n",
       "      <td>0</td>\n",
       "      <td>1</td>\n",
       "    </tr>\n",
       "    <tr>\n",
       "      <th>2</th>\n",
       "      <td>new_data2.jpeg</td>\n",
       "      <td>0</td>\n",
       "      <td>0</td>\n",
       "      <td>0</td>\n",
       "      <td>0</td>\n",
       "      <td>0</td>\n",
       "      <td>0</td>\n",
       "      <td>1</td>\n",
       "    </tr>\n",
       "    <tr>\n",
       "      <th>3</th>\n",
       "      <td>new_data3.jpeg</td>\n",
       "      <td>0</td>\n",
       "      <td>0</td>\n",
       "      <td>0</td>\n",
       "      <td>0</td>\n",
       "      <td>0</td>\n",
       "      <td>0</td>\n",
       "      <td>1</td>\n",
       "    </tr>\n",
       "    <tr>\n",
       "      <th>4</th>\n",
       "      <td>new_data4.jpeg</td>\n",
       "      <td>0</td>\n",
       "      <td>0</td>\n",
       "      <td>0</td>\n",
       "      <td>0</td>\n",
       "      <td>0</td>\n",
       "      <td>0</td>\n",
       "      <td>1</td>\n",
       "    </tr>\n",
       "  </tbody>\n",
       "</table>\n",
       "</div>"
      ],
      "text/plain": [
       "       path_image  acariens  chancre fusicocum  coryneum  faux tigre  \\\n",
       "0  new_data0.jpeg         0                  0         0           0   \n",
       "1  new_data1.jpeg         0                  0         0           0   \n",
       "2  new_data2.jpeg         0                  0         0           0   \n",
       "3  new_data3.jpeg         0                  0         0           0   \n",
       "4  new_data4.jpeg         0                  0         0           0   \n",
       "\n",
       "   othyorinques  polystigma  rouille  \n",
       "0             0           0        1  \n",
       "1             0           0        1  \n",
       "2             0           0        1  \n",
       "3             0           0        1  \n",
       "4             0           0        1  "
      ]
     },
     "execution_count": 10,
     "metadata": {},
     "output_type": "execute_result"
    }
   ],
   "source": [
    "data.head()"
   ]
  },
  {
   "cell_type": "code",
   "execution_count": 11,
   "metadata": {
    "colab": {
     "base_uri": "https://localhost:8080/"
    },
    "id": "ggW-f4LB4P3W",
    "outputId": "b02344b3-8545-4258-f745-1f62ebbcbb10"
   },
   "outputs": [
    {
     "data": {
      "text/plain": [
       "Index(['path_image', 'acariens', 'chancre fusicocum', 'coryneum', 'faux tigre',\n",
       "       'othyorinques', 'polystigma', 'rouille'],\n",
       "      dtype='object')"
      ]
     },
     "execution_count": 11,
     "metadata": {},
     "output_type": "execute_result"
    }
   ],
   "source": [
    "data.columns"
   ]
  },
  {
   "cell_type": "code",
   "execution_count": 12,
   "metadata": {
    "colab": {
     "base_uri": "https://localhost:8080/",
     "height": 265
    },
    "id": "1oJpVUs5c3OE",
    "outputId": "e8f19f28-bd80-4e94-e154-32f8505a1d9f"
   },
   "outputs": [
    {
     "name": "stderr",
     "output_type": "stream",
     "text": [
      "<ipython-input-12-e50005ee8130>:1: FutureWarning: Dropping of nuisance columns in DataFrame reductions (with 'numeric_only=None') is deprecated; in a future version this will raise TypeError.  Select only valid columns before calling the reduction.\n",
      "  pcts=data.mean()\n"
     ]
    },
    {
     "data": {
      "text/plain": [
       "<AxesSubplot:ylabel='None'>"
      ]
     },
     "execution_count": 12,
     "metadata": {},
     "output_type": "execute_result"
    },
    {
     "data": {
      "image/png": "[encoded data removed]",
      "text/plain": [
       "<Figure size 432x288 with 1 Axes>"
      ]
     },
     "metadata": {},
     "output_type": "display_data"
    }
   ],
   "source": [
    "pcts=data.mean()\n",
    "pcts.plot(kind = 'pie',autopct='%1.2f%%')"
   ]
  },
  {
   "cell_type": "code",
   "execution_count": 13,
   "metadata": {
    "id": "PhB-yeM13fsH"
   },
   "outputs": [],
   "source": [
    "img_size={'height': 960,\n",
    "         'width': 1280 }"
   ]
  },
  {
   "cell_type": "code",
   "execution_count": 14,
   "metadata": {
    "colab": {
     "base_uri": "https://localhost:8080/"
    },
    "id": "sxqXxaPl39Wy",
    "outputId": "9eda7fac-9cd4-4a46-bd88-387ef12ed640"
   },
   "outputs": [
    {
     "data": {
      "text/plain": [
       "(402, 8)"
      ]
     },
     "execution_count": 14,
     "metadata": {},
     "output_type": "execute_result"
    }
   ],
   "source": [
    "data.shape"
   ]
  },
  {
   "cell_type": "code",
   "execution_count": 15,
   "metadata": {
    "id": "u9BVWB3Kzxie"
   },
   "outputs": [],
   "source": [
    "path='paths/'\n",
    "data_path=data.path_image.apply(lambda x: path +x).values"
   ]
  },
  {
   "cell_type": "code",
   "execution_count": 16,
   "metadata": {},
   "outputs": [
    {
     "name": "stdout",
     "output_type": "stream",
     "text": [
      "(1280, 958, 3)\n"
     ]
    },
    {
     "data": {
      "text/plain": [
       "<matplotlib.image.AxesImage at 0x291025b9a00>"
      ]
     },
     "execution_count": 16,
     "metadata": {},
     "output_type": "execute_result"
    },
    {
     "data": {
      "image/png": "[encoded data removed]",
      "text/plain": [
       "<Figure size 432x288 with 1 Axes>"
      ]
     },
     "metadata": {
      "needs_background": "light"
     },
     "output_type": "display_data"
    }
   ],
   "source": [
    "from matplotlib import pyplot as plt\n",
    "\n",
    "img = plt.imread(path+'new_data1.jpeg')\n",
    "print(img.shape)\n",
    "plt.imshow(img)"
   ]
  },
  {
   "cell_type": "code",
   "execution_count": 17,
   "metadata": {
    "colab": {
     "base_uri": "https://localhost:8080/"
    },
    "id": "vUVSHnWrz7sF",
    "outputId": "6d783025-81f4-4fbd-df18-f97a6e1a60a4"
   },
   "outputs": [
    {
     "data": {
      "text/plain": [
       "array(['paths/new_data0.jpeg', 'paths/new_data1.jpeg',\n",
       "       'paths/new_data2.jpeg', 'paths/new_data3.jpeg',\n",
       "       'paths/new_data4.jpeg', 'paths/new_data5.jpeg',\n",
       "       'paths/new_data6.jpeg', 'paths/new_data7.jpeg',\n",
       "       'paths/new_data8.jpeg', 'paths/new_data9.jpeg',\n",
       "       'paths/new_data10.jpeg', 'paths/new_data11.jpeg',\n",
       "       'paths/new_data12.jpeg', 'paths/new_data13.jpeg',\n",
       "       'paths/new_data14.jpeg', 'paths/new_data15.jpeg',\n",
       "       'paths/new_data16.jpeg', 'paths/new_data17.jpeg',\n",
       "       'paths/new_data18.jpeg', 'paths/new_data19.jpeg',\n",
       "       'paths/new_data20.jpeg', 'paths/new_data21.jpeg',\n",
       "       'paths/new_data22.jpeg', 'paths/new_data23.jpeg',\n",
       "       'paths/new_data24.jpeg', 'paths/new_data25.jpeg',\n",
       "       'paths/new_data26.jpeg', 'paths/new_data27.jpeg',\n",
       "       'paths/new_data28.jpeg', 'paths/new_data29.jpeg',\n",
       "       'paths/new_data30.jpeg', 'paths/new_data31.jpeg',\n",
       "       'paths/new_data32.jpeg', 'paths/new_data33.jpeg',\n",
       "       'paths/new_data34.jpeg', 'paths/new_data35.jpeg',\n",
       "       'paths/new_data36.jpeg', 'paths/new_data37.jpeg',\n",
       "       'paths/new_data38.jpeg', 'paths/new_data39.jpeg',\n",
       "       'paths/new_data40.jpeg', 'paths/new_data41.jpeg',\n",
       "       'paths/new_data42.jpeg', 'paths/new_data43.jpeg',\n",
       "       'paths/new_data44.jpeg', 'paths/new_data45.jpeg',\n",
       "       'paths/new_data46.jpeg', 'paths/new_data47.jpeg',\n",
       "       'paths/new_data48.jpeg', 'paths/new_data49.jpeg',\n",
       "       'paths/new_data50.jpeg', 'paths/new_data51.jpeg',\n",
       "       'paths/new_data52.jpeg', 'paths/new_data53.jpeg',\n",
       "       'paths/new_data54.jpeg', 'paths/new_data55.jpeg',\n",
       "       'paths/new_data56.jpeg', 'paths/new_data57.jpeg',\n",
       "       'paths/new_data58.jpeg', 'paths/new_data59.jpeg',\n",
       "       'paths/new_data60.jpeg', 'paths/new_data61.jpeg',\n",
       "       'paths/new_data62.jpeg', 'paths/new_data63.jpeg',\n",
       "       'paths/new_data64.jpeg', 'paths/new_data65.jpeg',\n",
       "       'paths/new_data66.jpeg', 'paths/new_data67.jpeg',\n",
       "       'paths/new_data68.jpeg', 'paths/new_data69.jpeg',\n",
       "       'paths/new_data70.jpeg', 'paths/new_data71.jpeg',\n",
       "       'paths/new_data72.jpeg', 'paths/new_data73.jpeg',\n",
       "       'paths/new_data74.jpeg', 'paths/new_data75.jpeg',\n",
       "       'paths/new_data76.jpeg', 'paths/new_data77.jpeg',\n",
       "       'paths/new_data78.jpeg', 'paths/new_data79.jpeg',\n",
       "       'paths/new_data80.jpeg', 'paths/new_data81.jpeg',\n",
       "       'paths/new_data82.jpeg', 'paths/new_data83.jpeg',\n",
       "       'paths/new_data84.jpeg', 'paths/new_data85.jpeg',\n",
       "       'paths/new_data86.jpeg', 'paths/new_data87.jpeg',\n",
       "       'paths/new_data88.jpeg', 'paths/new_data89.jpeg',\n",
       "       'paths/new_data90.jpeg', 'paths/new_data91.jpeg',\n",
       "       'paths/new_data92.jpeg', 'paths/new_data93.jpeg',\n",
       "       'paths/new_data94.jpeg', 'paths/new_data95.jpeg',\n",
       "       'paths/new_data96.jpeg', 'paths/new_data97.jpeg',\n",
       "       'paths/new_data98.jpeg', 'paths/new_data99.jpeg',\n",
       "       'paths/new_data100.jpeg', 'paths/new_data101.jpeg',\n",
       "       'paths/new_data102.jpeg', 'paths/new_data103.jpeg',\n",
       "       'paths/new_data104.jpeg', 'paths/new_data105.jpeg',\n",
       "       'paths/new_data106.jpeg', 'paths/new_data107.jpeg',\n",
       "       'paths/new_data108.jpeg', 'paths/new_data109.jpeg',\n",
       "       'paths/new_data110.jpeg', 'paths/new_data111.jpeg',\n",
       "       'paths/new_data112.jpeg', 'paths/new_data113.jpeg',\n",
       "       'paths/new_data114.jpeg', 'paths/new_data115.jpeg',\n",
       "       'paths/new_data116.jpeg', 'paths/new_data117.jpeg',\n",
       "       'paths/new_data118.jpeg', 'paths/new_data119.jpeg',\n",
       "       'paths/new_data120.jpeg', 'paths/new_data121.jpeg',\n",
       "       'paths/new_data122.jpeg', 'paths/new_data123.jpeg',\n",
       "       'paths/new_data124.jpeg', 'paths/new_data125.jpeg',\n",
       "       'paths/new_data126.jpeg', 'paths/new_data127.jpeg',\n",
       "       'paths/new_data128.jpeg', 'paths/new_data129.jpeg',\n",
       "       'paths/new_data130.jpeg', 'paths/new_data131.jpeg',\n",
       "       'paths/new_data132.jpeg', 'paths/new_data133.jpeg',\n",
       "       'paths/new_data134.jpeg', 'paths/new_data135.jpeg',\n",
       "       'paths/new_data136.jpeg', 'paths/new_data137.jpeg',\n",
       "       'paths/new_data138.jpeg', 'paths/new_data139.jpeg',\n",
       "       'paths/new_data140.jpeg', 'paths/new_data141.jpeg',\n",
       "       'paths/new_data142.jpeg', 'paths/new_data143.jpeg',\n",
       "       'paths/new_data144.jpeg', 'paths/new_data145.jpeg',\n",
       "       'paths/new_data146.jpeg', 'paths/new_data147.jpeg',\n",
       "       'paths/new_data148.jpeg', 'paths/new_data149.jpeg',\n",
       "       'paths/new_data150.jpeg', 'paths/new_data151.jpeg',\n",
       "       'paths/new_data152.jpeg', 'paths/new_data153.jpeg',\n",
       "       'paths/new_data154.jpeg', 'paths/new_data155.jpeg',\n",
       "       'paths/new_data156.jpeg', 'paths/new_data157.jpeg',\n",
       "       'paths/new_data158.jpeg', 'paths/new_data159.jpeg',\n",
       "       'paths/new_data160.jpeg', 'paths/new_data161.jpeg',\n",
       "       'paths/new_data162.jpeg', 'paths/new_data163.jpeg',\n",
       "       'paths/new_data164.jpeg', 'paths/new_data165.jpeg',\n",
       "       'paths/new_data166.jpeg', 'paths/new_data167.jpeg',\n",
       "       'paths/new_data168.jpeg', 'paths/new_data169.jpeg',\n",
       "       'paths/new_data170.jpeg', 'paths/new_data171.jpeg',\n",
       "       'paths/new_data172.jpeg', 'paths/new_data173.jpeg',\n",
       "       'paths/new_data174.jpeg', 'paths/new_data175.jpeg',\n",
       "       'paths/new_data176.jpeg', 'paths/new_data177.jpeg',\n",
       "       'paths/new_data178.jpeg', 'paths/new_data179.jpeg',\n",
       "       'paths/new_data180.jpeg', 'paths/new_data181.jpeg',\n",
       "       'paths/new_data182.jpeg', 'paths/new_data183.jpeg',\n",
       "       'paths/new_data184.jpeg', 'paths/new_data185.jpeg',\n",
       "       'paths/new_data186.jpeg', 'paths/new_data187.jpeg',\n",
       "       'paths/new_data188.jpeg', 'paths/new_data189.jpeg',\n",
       "       'paths/new_data190.jpeg', 'paths/new_data191.jpeg',\n",
       "       'paths/new_data192.jpeg', 'paths/new_data193.jpeg',\n",
       "       'paths/new_data194.jpeg', 'paths/new_data195.jpeg',\n",
       "       'paths/new_data196.jpeg', 'paths/new_data197.jpeg',\n",
       "       'paths/new_data198.jpeg', 'paths/new_data199.jpeg',\n",
       "       'paths/new_data200.jpeg', 'paths/new_data201.jpeg',\n",
       "       'paths/new_data202.jpeg', 'paths/new_data203.jpeg',\n",
       "       'paths/new_data204.jpeg', 'paths/new_data205.jpeg',\n",
       "       'paths/new_data206.jpeg', 'paths/new_data207.jpeg',\n",
       "       'paths/new_data208.jpeg', 'paths/new_data209.jpeg',\n",
       "       'paths/new_data210.jpeg', 'paths/new_data211.jpeg',\n",
       "       'paths/new_data212.jpeg', 'paths/new_data213.jpeg',\n",
       "       'paths/new_data214.jpeg', 'paths/new_data215.jpeg',\n",
       "       'paths/new_data216.jpeg', 'paths/new_data217.jpeg',\n",
       "       'paths/new_data218.jpeg', 'paths/new_data219.jpeg',\n",
       "       'paths/new_data220.jpeg', 'paths/new_data221.jpeg',\n",
       "       'paths/new_data222.jpeg', 'paths/new_data223.jpeg',\n",
       "       'paths/new_data224.jpeg', 'paths/new_data225.jpeg',\n",
       "       'paths/new_data226.jpeg', 'paths/new_data227.jpeg',\n",
       "       'paths/new_data228.jpeg', 'paths/new_data229.jpeg',\n",
       "       'paths/new_data230.jpeg', 'paths/new_data231.jpeg',\n",
       "       'paths/new_data232.jpeg', 'paths/new_data233.jpeg',\n",
       "       'paths/new_data234.jpeg', 'paths/new_data235.jpeg',\n",
       "       'paths/new_data236.jpeg', 'paths/new_data237.jpeg',\n",
       "       'paths/new_data238.jpeg', 'paths/new_data239.jpeg',\n",
       "       'paths/new_data240.jpeg', 'paths/new_data241.jpeg',\n",
       "       'paths/new_data242.jpeg', 'paths/new_data243.jpeg',\n",
       "       'paths/new_data244.jpeg', 'paths/new_data245.jpeg',\n",
       "       'paths/new_data246.jpeg', 'paths/new_data247.jpeg',\n",
       "       'paths/new_data248.jpeg', 'paths/new_data249.jpeg',\n",
       "       'paths/new_data250.jpeg', 'paths/new_data251.jpeg',\n",
       "       'paths/new_data252.jpeg', 'paths/new_data253.jpeg',\n",
       "       'paths/new_data254.jpeg', 'paths/new_data255.jpeg',\n",
       "       'paths/new_data256.jpeg', 'paths/new_data257.jpeg',\n",
       "       'paths/new_data258.jpeg', 'paths/new_data259.jpeg',\n",
       "       'paths/new_data260.jpeg', 'paths/new_data261.jpeg',\n",
       "       'paths/new_data262.jpeg', 'paths/new_data263.jpeg',\n",
       "       'paths/new_data264.jpeg', 'paths/new_data265.jpeg',\n",
       "       'paths/new_data266.jpeg', 'paths/new_data267.jpeg',\n",
       "       'paths/new_data268.jpeg', 'paths/new_data269.jpeg',\n",
       "       'paths/new_data270.jpeg', 'paths/new_data271.jpeg',\n",
       "       'paths/new_data272.jpeg', 'paths/new_data273.jpeg',\n",
       "       'paths/new_data274.jpeg', 'paths/new_data275.jpeg',\n",
       "       'paths/new_data276.jpeg', 'paths/new_data277.jpeg',\n",
       "       'paths/new_data278.jpeg', 'paths/new_data279.jpeg',\n",
       "       'paths/new_data280.jpeg', 'paths/new_data281.jpeg',\n",
       "       'paths/new_data282.jpeg', 'paths/new_data283.jpeg',\n",
       "       'paths/new_data284.jpeg', 'paths/new_data285.jpeg',\n",
       "       'paths/new_data286.jpeg', 'paths/new_data287.jpeg',\n",
       "       'paths/new_data288.jpeg', 'paths/new_data289.jpeg',\n",
       "       'paths/new_data290.jpeg', 'paths/new_data291.jpeg',\n",
       "       'paths/new_data292.jpeg', 'paths/new_data293.jpeg',\n",
       "       'paths/new_data294.jpeg', 'paths/new_data295.jpeg',\n",
       "       'paths/new_data296.jpeg', 'paths/new_data297.jpeg',\n",
       "       'paths/new_data298.jpeg', 'paths/new_data299.jpeg',\n",
       "       'paths/new_data300.jpeg', 'paths/new_data301.jpeg',\n",
       "       'paths/new_data302.jpeg', 'paths/new_data336.jpeg',\n",
       "       'paths/new_data337.jpeg', 'paths/new_data338.jpeg',\n",
       "       'paths/new_data339.jpeg', 'paths/new_data340.jpeg',\n",
       "       'paths/new_data341.jpeg', 'paths/new_data342.jpeg',\n",
       "       'paths/new_data343.jpeg', 'paths/new_data344.jpeg',\n",
       "       'paths/new_data345.jpeg', 'paths/new_data346.jpeg',\n",
       "       'paths/new_data347.jpeg', 'paths/new_data348.jpeg',\n",
       "       'paths/new_data349.jpeg', 'paths/new_data350.jpeg',\n",
       "       'paths/new_data351.jpeg', 'paths/new_data352.jpeg',\n",
       "       'paths/new_data353.jpeg', 'paths/new_data354.jpeg',\n",
       "       'paths/new_data355.jpeg', 'paths/new_data356.jpeg',\n",
       "       'paths/new_data357.jpeg', 'paths/new_data358.jpeg',\n",
       "       'paths/new_data359.jpeg', 'paths/new_data360.jpeg',\n",
       "       'paths/new_data361.jpeg', 'paths/new_data362.jpeg',\n",
       "       'paths/new_data363.jpeg', 'paths/new_data364.jpeg',\n",
       "       'paths/new_data365.jpeg', 'paths/new_data366.jpeg',\n",
       "       'paths/new_data367.jpeg', 'paths/new_data368.jpeg',\n",
       "       'paths/new_data369.jpeg', 'paths/new_data370.jpeg',\n",
       "       'paths/new_data371.jpeg', 'paths/new_data372.jpeg',\n",
       "       'paths/new_data373.jpeg', 'paths/new_data374.jpeg',\n",
       "       'paths/new_data375.jpeg', 'paths/new_data376.jpeg',\n",
       "       'paths/new_data377.jpeg', 'paths/new_data378.jpeg',\n",
       "       'paths/new_data379.jpeg', 'paths/new_data380.jpeg',\n",
       "       'paths/new_data381.jpeg', 'paths/new_data382.jpeg',\n",
       "       'paths/new_data383.jpeg', 'paths/new_data384.jpeg',\n",
       "       'paths/new_data385.jpeg', 'paths/new_data386.jpeg',\n",
       "       'paths/new_data387.jpeg', 'paths/new_data388.jpeg',\n",
       "       'paths/new_data389.jpeg', 'paths/new_data390.jpeg',\n",
       "       'paths/new_data391.jpeg', 'paths/new_data392.jpeg',\n",
       "       'paths/new_data393.jpeg', 'paths/new_data394.jpeg',\n",
       "       'paths/new_data457.jpeg', 'paths/new_data458.jpeg',\n",
       "       'paths/new_data459.jpeg', 'paths/new_data460.jpeg',\n",
       "       'paths/new_data461.jpeg', 'paths/new_data462.jpeg',\n",
       "       'paths/new_data463.jpeg', 'paths/new_data464.jpeg',\n",
       "       'paths/new_data465.jpeg', 'paths/new_data466.jpeg',\n",
       "       'paths/new_data467.jpeg', 'paths/new_data468.jpeg',\n",
       "       'paths/new_data469.jpeg', 'paths/new_data470.jpeg',\n",
       "       'paths/new_data471.jpeg', 'paths/new_data472.jpeg',\n",
       "       'paths/new_data473.jpeg', 'paths/new_data474.jpeg',\n",
       "       'paths/new_data475.jpeg', 'paths/new_data476.jpeg',\n",
       "       'paths/new_data477.jpeg', 'paths/new_data478.jpeg',\n",
       "       'paths/new_data479.jpeg', 'paths/new_data480.jpeg',\n",
       "       'paths/new_data481.jpeg', 'paths/new_data482.jpeg',\n",
       "       'paths/new_data483.jpeg', 'paths/new_data484.jpeg',\n",
       "       'paths/new_data485.jpeg', 'paths/new_data486.jpeg',\n",
       "       'paths/new_data487.jpeg', 'paths/new_data488.jpeg',\n",
       "       'paths/new_data489.jpeg', 'paths/new_data490.jpeg',\n",
       "       'paths/new_data491.jpeg', 'paths/new_data492.jpeg',\n",
       "       'paths/new_data493.jpeg', 'paths/new_data494.jpeg',\n",
       "       'paths/new_data495.jpeg', 'paths/new_data496.jpeg'], dtype=object)"
      ]
     },
     "execution_count": 17,
     "metadata": {},
     "output_type": "execute_result"
    }
   ],
   "source": [
    "data_path"
   ]
  },
  {
   "cell_type": "code",
   "execution_count": 18,
   "metadata": {
    "id": "NbgUZOg3xd2a"
   },
   "outputs": [],
   "source": [
    "data_labels = data.loc[:, ['acariens', 'chancre fusicocum', 'faux tigre','othyorinques', 'polystigma','coryneum', 'rouille']].values"
   ]
  },
  {
   "cell_type": "code",
   "execution_count": 19,
   "metadata": {},
   "outputs": [],
   "source": [
    "train_paths, test_paths, train_labels, test_labels =train_test_split(data_path, data_labels, test_size=0.2, random_state=42)\n"
   ]
  },
  {
   "cell_type": "code",
   "execution_count": 20,
   "metadata": {},
   "outputs": [
    {
     "data": {
      "text/plain": [
       "81"
      ]
     },
     "execution_count": 20,
     "metadata": {},
     "output_type": "execute_result"
    }
   ],
   "source": [
    "len(test_paths)"
   ]
  },
  {
   "cell_type": "code",
   "execution_count": 46,
   "metadata": {
    "id": "xlhCw2Vl4YqQ"
   },
   "outputs": [],
   "source": [
    "IMG_SIZE=299\n",
    "def decode_image(filename, label=None, IMG_SIZE=(IMG_SIZE, IMG_SIZE)):\n",
    "    bits = tf.io.read_file(filename)\n",
    "    image = tf.image.decode_jpeg(bits, channels=3)\n",
    "    image = tf.cast(image, tf.float32) / 255.0\n",
    "    image = tf.image.resize(image, IMG_SIZE)\n",
    "    \n",
    "    if label is None:\n",
    "        return image\n",
    "    else:\n",
    "        return image, label\n",
    "\n",
    "\n",
    "def data_augment(image, label=None):\n",
    "    image = tf.image.random_flip_left_right(image)\n",
    "    image = tf.image.random_flip_up_down(image)\n",
    "    \n",
    "    if label is None:\n",
    "        return image\n",
    "    else:\n",
    "        return image, label"
   ]
  },
  {
   "cell_type": "code",
   "execution_count": 73,
   "metadata": {
    "id": "rQSYB8F24fUX"
   },
   "outputs": [],
   "source": [
    "BATCH_SIZE = 8\n",
    "\n",
    "train_dataset = (\n",
    "tf.data.Dataset\n",
    "    .from_tensor_slices((train_paths, train_labels))\n",
    "    .map(decode_image, num_parallel_calls=AUTO)\n",
    "    .cache()\n",
    "    .map(data_augment, num_parallel_calls=AUTO)\n",
    "    .repeat()\n",
    "    .shuffle(512)\n",
    "    .batch(BATCH_SIZE)\n",
    "    .prefetch(AUTO)\n",
    ")\n",
    "test_dataset = (\n",
    "    tf.data.Dataset\n",
    "    .from_tensor_slices((test_paths,test_labels))\n",
    "    .map(decode_image, num_parallel_calls=AUTO)\n",
    "    .map(data_augment, num_parallel_calls=AUTO)\n",
    "    .batch(BATCH_SIZE)\n",
    "    \n",
    ")"
   ]
  },
  {
   "cell_type": "code",
   "execution_count": 74,
   "metadata": {
    "id": "l9jDTNEY6uGC"
   },
   "outputs": [],
   "source": [
    "LR_START = 0.00001\n",
    "LR_MAX = 0.00005 \n",
    "LR_MIN = 0.00001\n",
    "LR_RAMPUP_EPOCHS = 5\n",
    "LR_SUSTAIN_EPOCHS = 0\n",
    "LR_EXP_DECAY = .8\n",
    "\n",
    "def lrfn(epoch):\n",
    "    if epoch < LR_RAMPUP_EPOCHS:\n",
    "        lr = (LR_MAX - LR_START) / LR_RAMPUP_EPOCHS * epoch + LR_START\n",
    "    elif epoch < LR_RAMPUP_EPOCHS + LR_SUSTAIN_EPOCHS:\n",
    "        lr = LR_MAX\n",
    "    else:\n",
    "        lr = (LR_MAX - LR_MIN) * LR_EXP_DECAY**(epoch - LR_RAMPUP_EPOCHS - LR_SUSTAIN_EPOCHS) + LR_MIN\n",
    "    return lr\n",
    "    \n",
    "lr_callback = tf.keras.callbacks.LearningRateScheduler(lrfn, verbose=True)"
   ]
  },
  {
   "cell_type": "code",
   "execution_count": null,
   "metadata": {},
   "outputs": [],
   "source": []
  },
  {
   "cell_type": "code",
   "execution_count": 75,
   "metadata": {},
   "outputs": [],
   "source": [
    "from tensorflow.keras.applications import Xception\n",
    "from tensorflow.keras.models import Model\n",
    "from tensorflow import keras\n",
    "\n",
    "Dense_net = keras.models.load_model('xceptions')"
   ]
  },
  {
   "cell_type": "code",
   "execution_count": 76,
   "metadata": {
    "scrolled": true
   },
   "outputs": [
    {
     "name": "stdout",
     "output_type": "stream",
     "text": [
      "Model: \"model_3\"\n",
      "__________________________________________________________________________________________________\n",
      "Layer (type)                    Output Shape         Param #     Connected to                     \n",
      "==================================================================================================\n",
      "input_4 (InputLayer)            [(None, 299, 299, 3) 0                                            \n",
      "__________________________________________________________________________________________________\n",
      "block1_conv1 (Conv2D)           (None, 149, 149, 32) 864         input_4[0][0]                    \n",
      "__________________________________________________________________________________________________\n",
      "block1_conv1_bn (BatchNormaliza (None, 149, 149, 32) 128         block1_conv1[0][0]               \n",
      "__________________________________________________________________________________________________\n",
      "block1_conv1_act (Activation)   (None, 149, 149, 32) 0           block1_conv1_bn[0][0]            \n",
      "__________________________________________________________________________________________________\n",
      "block1_conv2 (Conv2D)           (None, 147, 147, 64) 18432       block1_conv1_act[0][0]           \n",
      "__________________________________________________________________________________________________\n",
      "block1_conv2_bn (BatchNormaliza (None, 147, 147, 64) 256         block1_conv2[0][0]               \n",
      "__________________________________________________________________________________________________\n",
      "block1_conv2_act (Activation)   (None, 147, 147, 64) 0           block1_conv2_bn[0][0]            \n",
      "__________________________________________________________________________________________________\n",
      "block2_sepconv1 (SeparableConv2 (None, 147, 147, 128 8768        block1_conv2_act[0][0]           \n",
      "__________________________________________________________________________________________________\n",
      "block2_sepconv1_bn (BatchNormal (None, 147, 147, 128 512         block2_sepconv1[0][0]            \n",
      "__________________________________________________________________________________________________\n",
      "block2_sepconv2_act (Activation (None, 147, 147, 128 0           block2_sepconv1_bn[0][0]         \n",
      "__________________________________________________________________________________________________\n",
      "block2_sepconv2 (SeparableConv2 (None, 147, 147, 128 17536       block2_sepconv2_act[0][0]        \n",
      "__________________________________________________________________________________________________\n",
      "block2_sepconv2_bn (BatchNormal (None, 147, 147, 128 512         block2_sepconv2[0][0]            \n",
      "__________________________________________________________________________________________________\n",
      "conv2d_12 (Conv2D)              (None, 74, 74, 128)  8192        block1_conv2_act[0][0]           \n",
      "__________________________________________________________________________________________________\n",
      "block2_pool (MaxPooling2D)      (None, 74, 74, 128)  0           block2_sepconv2_bn[0][0]         \n",
      "__________________________________________________________________________________________________\n",
      "batch_normalization_12 (BatchNo (None, 74, 74, 128)  512         conv2d_12[0][0]                  \n",
      "__________________________________________________________________________________________________\n",
      "add_36 (Add)                    (None, 74, 74, 128)  0           block2_pool[0][0]                \n",
      "                                                                 batch_normalization_12[0][0]     \n",
      "__________________________________________________________________________________________________\n",
      "block3_sepconv1_act (Activation (None, 74, 74, 128)  0           add_36[0][0]                     \n",
      "__________________________________________________________________________________________________\n",
      "block3_sepconv1 (SeparableConv2 (None, 74, 74, 256)  33920       block3_sepconv1_act[0][0]        \n",
      "__________________________________________________________________________________________________\n",
      "block3_sepconv1_bn (BatchNormal (None, 74, 74, 256)  1024        block3_sepconv1[0][0]            \n",
      "__________________________________________________________________________________________________\n",
      "block3_sepconv2_act (Activation (None, 74, 74, 256)  0           block3_sepconv1_bn[0][0]         \n",
      "__________________________________________________________________________________________________\n",
      "block3_sepconv2 (SeparableConv2 (None, 74, 74, 256)  67840       block3_sepconv2_act[0][0]        \n",
      "__________________________________________________________________________________________________\n",
      "block3_sepconv2_bn (BatchNormal (None, 74, 74, 256)  1024        block3_sepconv2[0][0]            \n",
      "__________________________________________________________________________________________________\n",
      "conv2d_13 (Conv2D)              (None, 37, 37, 256)  32768       add_36[0][0]                     \n",
      "__________________________________________________________________________________________________\n",
      "block3_pool (MaxPooling2D)      (None, 37, 37, 256)  0           block3_sepconv2_bn[0][0]         \n",
      "__________________________________________________________________________________________________\n",
      "batch_normalization_13 (BatchNo (None, 37, 37, 256)  1024        conv2d_13[0][0]                  \n",
      "__________________________________________________________________________________________________\n",
      "add_37 (Add)                    (None, 37, 37, 256)  0           block3_pool[0][0]                \n",
      "                                                                 batch_normalization_13[0][0]     \n",
      "__________________________________________________________________________________________________\n",
      "block4_sepconv1_act (Activation (None, 37, 37, 256)  0           add_37[0][0]                     \n",
      "__________________________________________________________________________________________________\n",
      "block4_sepconv1 (SeparableConv2 (None, 37, 37, 728)  188672      block4_sepconv1_act[0][0]        \n",
      "__________________________________________________________________________________________________\n",
      "block4_sepconv1_bn (BatchNormal (None, 37, 37, 728)  2912        block4_sepconv1[0][0]            \n",
      "__________________________________________________________________________________________________\n",
      "block4_sepconv2_act (Activation (None, 37, 37, 728)  0           block4_sepconv1_bn[0][0]         \n",
      "__________________________________________________________________________________________________\n",
      "block4_sepconv2 (SeparableConv2 (None, 37, 37, 728)  536536      block4_sepconv2_act[0][0]        \n",
      "__________________________________________________________________________________________________\n",
      "block4_sepconv2_bn (BatchNormal (None, 37, 37, 728)  2912        block4_sepconv2[0][0]            \n",
      "__________________________________________________________________________________________________\n",
      "conv2d_14 (Conv2D)              (None, 19, 19, 728)  186368      add_37[0][0]                     \n",
      "__________________________________________________________________________________________________\n",
      "block4_pool (MaxPooling2D)      (None, 19, 19, 728)  0           block4_sepconv2_bn[0][0]         \n",
      "__________________________________________________________________________________________________\n",
      "batch_normalization_14 (BatchNo (None, 19, 19, 728)  2912        conv2d_14[0][0]                  \n",
      "__________________________________________________________________________________________________\n",
      "add_38 (Add)                    (None, 19, 19, 728)  0           block4_pool[0][0]                \n",
      "                                                                 batch_normalization_14[0][0]     \n",
      "__________________________________________________________________________________________________\n",
      "block5_sepconv1_act (Activation (None, 19, 19, 728)  0           add_38[0][0]                     \n",
      "__________________________________________________________________________________________________\n",
      "block5_sepconv1 (SeparableConv2 (None, 19, 19, 728)  536536      block5_sepconv1_act[0][0]        \n",
      "__________________________________________________________________________________________________\n",
      "block5_sepconv1_bn (BatchNormal (None, 19, 19, 728)  2912        block5_sepconv1[0][0]            \n",
      "__________________________________________________________________________________________________\n",
      "block5_sepconv2_act (Activation (None, 19, 19, 728)  0           block5_sepconv1_bn[0][0]         \n",
      "__________________________________________________________________________________________________\n",
      "block5_sepconv2 (SeparableConv2 (None, 19, 19, 728)  536536      block5_sepconv2_act[0][0]        \n",
      "__________________________________________________________________________________________________\n",
      "block5_sepconv2_bn (BatchNormal (None, 19, 19, 728)  2912        block5_sepconv2[0][0]            \n",
      "__________________________________________________________________________________________________\n",
      "block5_sepconv3_act (Activation (None, 19, 19, 728)  0           block5_sepconv2_bn[0][0]         \n",
      "__________________________________________________________________________________________________\n",
      "block5_sepconv3 (SeparableConv2 (None, 19, 19, 728)  536536      block5_sepconv3_act[0][0]        \n",
      "__________________________________________________________________________________________________\n",
      "block5_sepconv3_bn (BatchNormal (None, 19, 19, 728)  2912        block5_sepconv3[0][0]            \n",
      "__________________________________________________________________________________________________\n",
      "add_39 (Add)                    (None, 19, 19, 728)  0           block5_sepconv3_bn[0][0]         \n",
      "                                                                 add_38[0][0]                     \n",
      "__________________________________________________________________________________________________\n",
      "block6_sepconv1_act (Activation (None, 19, 19, 728)  0           add_39[0][0]                     \n",
      "__________________________________________________________________________________________________\n",
      "block6_sepconv1 (SeparableConv2 (None, 19, 19, 728)  536536      block6_sepconv1_act[0][0]        \n",
      "__________________________________________________________________________________________________\n",
      "block6_sepconv1_bn (BatchNormal (None, 19, 19, 728)  2912        block6_sepconv1[0][0]            \n",
      "__________________________________________________________________________________________________\n",
      "block6_sepconv2_act (Activation (None, 19, 19, 728)  0           block6_sepconv1_bn[0][0]         \n",
      "__________________________________________________________________________________________________\n",
      "block6_sepconv2 (SeparableConv2 (None, 19, 19, 728)  536536      block6_sepconv2_act[0][0]        \n",
      "__________________________________________________________________________________________________\n",
      "block6_sepconv2_bn (BatchNormal (None, 19, 19, 728)  2912        block6_sepconv2[0][0]            \n",
      "__________________________________________________________________________________________________\n",
      "block6_sepconv3_act (Activation (None, 19, 19, 728)  0           block6_sepconv2_bn[0][0]         \n",
      "__________________________________________________________________________________________________\n",
      "block6_sepconv3 (SeparableConv2 (None, 19, 19, 728)  536536      block6_sepconv3_act[0][0]        \n",
      "__________________________________________________________________________________________________\n",
      "block6_sepconv3_bn (BatchNormal (None, 19, 19, 728)  2912        block6_sepconv3[0][0]            \n",
      "__________________________________________________________________________________________________\n",
      "add_40 (Add)                    (None, 19, 19, 728)  0           block6_sepconv3_bn[0][0]         \n",
      "                                                                 add_39[0][0]                     \n",
      "__________________________________________________________________________________________________\n",
      "block7_sepconv1_act (Activation (None, 19, 19, 728)  0           add_40[0][0]                     \n",
      "__________________________________________________________________________________________________\n",
      "block7_sepconv1 (SeparableConv2 (None, 19, 19, 728)  536536      block7_sepconv1_act[0][0]        \n",
      "__________________________________________________________________________________________________\n",
      "block7_sepconv1_bn (BatchNormal (None, 19, 19, 728)  2912        block7_sepconv1[0][0]            \n",
      "__________________________________________________________________________________________________\n",
      "block7_sepconv2_act (Activation (None, 19, 19, 728)  0           block7_sepconv1_bn[0][0]         \n",
      "__________________________________________________________________________________________________\n",
      "block7_sepconv2 (SeparableConv2 (None, 19, 19, 728)  536536      block7_sepconv2_act[0][0]        \n",
      "__________________________________________________________________________________________________\n",
      "block7_sepconv2_bn (BatchNormal (None, 19, 19, 728)  2912        block7_sepconv2[0][0]            \n",
      "__________________________________________________________________________________________________\n",
      "block7_sepconv3_act (Activation (None, 19, 19, 728)  0           block7_sepconv2_bn[0][0]         \n",
      "__________________________________________________________________________________________________\n",
      "block7_sepconv3 (SeparableConv2 (None, 19, 19, 728)  536536      block7_sepconv3_act[0][0]        \n",
      "__________________________________________________________________________________________________\n",
      "block7_sepconv3_bn (BatchNormal (None, 19, 19, 728)  2912        block7_sepconv3[0][0]            \n",
      "__________________________________________________________________________________________________\n",
      "add_41 (Add)                    (None, 19, 19, 728)  0           block7_sepconv3_bn[0][0]         \n",
      "                                                                 add_40[0][0]                     \n",
      "__________________________________________________________________________________________________\n",
      "block8_sepconv1_act (Activation (None, 19, 19, 728)  0           add_41[0][0]                     \n",
      "__________________________________________________________________________________________________\n",
      "block8_sepconv1 (SeparableConv2 (None, 19, 19, 728)  536536      block8_sepconv1_act[0][0]        \n",
      "__________________________________________________________________________________________________\n",
      "block8_sepconv1_bn (BatchNormal (None, 19, 19, 728)  2912        block8_sepconv1[0][0]            \n",
      "__________________________________________________________________________________________________\n",
      "block8_sepconv2_act (Activation (None, 19, 19, 728)  0           block8_sepconv1_bn[0][0]         \n",
      "__________________________________________________________________________________________________\n",
      "block8_sepconv2 (SeparableConv2 (None, 19, 19, 728)  536536      block8_sepconv2_act[0][0]        \n",
      "__________________________________________________________________________________________________\n",
      "block8_sepconv2_bn (BatchNormal (None, 19, 19, 728)  2912        block8_sepconv2[0][0]            \n",
      "__________________________________________________________________________________________________\n",
      "block8_sepconv3_act (Activation (None, 19, 19, 728)  0           block8_sepconv2_bn[0][0]         \n",
      "__________________________________________________________________________________________________\n",
      "block8_sepconv3 (SeparableConv2 (None, 19, 19, 728)  536536      block8_sepconv3_act[0][0]        \n",
      "__________________________________________________________________________________________________\n",
      "block8_sepconv3_bn (BatchNormal (None, 19, 19, 728)  2912        block8_sepconv3[0][0]            \n",
      "__________________________________________________________________________________________________\n",
      "add_42 (Add)                    (None, 19, 19, 728)  0           block8_sepconv3_bn[0][0]         \n",
      "                                                                 add_41[0][0]                     \n",
      "__________________________________________________________________________________________________\n",
      "block9_sepconv1_act (Activation (None, 19, 19, 728)  0           add_42[0][0]                     \n",
      "__________________________________________________________________________________________________\n",
      "block9_sepconv1 (SeparableConv2 (None, 19, 19, 728)  536536      block9_sepconv1_act[0][0]        \n",
      "__________________________________________________________________________________________________\n",
      "block9_sepconv1_bn (BatchNormal (None, 19, 19, 728)  2912        block9_sepconv1[0][0]            \n",
      "__________________________________________________________________________________________________\n",
      "block9_sepconv2_act (Activation (None, 19, 19, 728)  0           block9_sepconv1_bn[0][0]         \n",
      "__________________________________________________________________________________________________\n",
      "block9_sepconv2 (SeparableConv2 (None, 19, 19, 728)  536536      block9_sepconv2_act[0][0]        \n",
      "__________________________________________________________________________________________________\n",
      "block9_sepconv2_bn (BatchNormal (None, 19, 19, 728)  2912        block9_sepconv2[0][0]            \n",
      "__________________________________________________________________________________________________\n",
      "block9_sepconv3_act (Activation (None, 19, 19, 728)  0           block9_sepconv2_bn[0][0]         \n",
      "__________________________________________________________________________________________________\n",
      "block9_sepconv3 (SeparableConv2 (None, 19, 19, 728)  536536      block9_sepconv3_act[0][0]        \n",
      "__________________________________________________________________________________________________\n",
      "block9_sepconv3_bn (BatchNormal (None, 19, 19, 728)  2912        block9_sepconv3[0][0]            \n",
      "__________________________________________________________________________________________________\n",
      "add_43 (Add)                    (None, 19, 19, 728)  0           block9_sepconv3_bn[0][0]         \n",
      "                                                                 add_42[0][0]                     \n",
      "__________________________________________________________________________________________________\n",
      "block10_sepconv1_act (Activatio (None, 19, 19, 728)  0           add_43[0][0]                     \n",
      "__________________________________________________________________________________________________\n",
      "block10_sepconv1 (SeparableConv (None, 19, 19, 728)  536536      block10_sepconv1_act[0][0]       \n",
      "__________________________________________________________________________________________________\n",
      "block10_sepconv1_bn (BatchNorma (None, 19, 19, 728)  2912        block10_sepconv1[0][0]           \n",
      "__________________________________________________________________________________________________\n",
      "block10_sepconv2_act (Activatio (None, 19, 19, 728)  0           block10_sepconv1_bn[0][0]        \n",
      "__________________________________________________________________________________________________\n",
      "block10_sepconv2 (SeparableConv (None, 19, 19, 728)  536536      block10_sepconv2_act[0][0]       \n",
      "__________________________________________________________________________________________________\n",
      "block10_sepconv2_bn (BatchNorma (None, 19, 19, 728)  2912        block10_sepconv2[0][0]           \n",
      "__________________________________________________________________________________________________\n",
      "block10_sepconv3_act (Activatio (None, 19, 19, 728)  0           block10_sepconv2_bn[0][0]        \n",
      "__________________________________________________________________________________________________\n",
      "block10_sepconv3 (SeparableConv (None, 19, 19, 728)  536536      block10_sepconv3_act[0][0]       \n",
      "__________________________________________________________________________________________________\n",
      "block10_sepconv3_bn (BatchNorma (None, 19, 19, 728)  2912        block10_sepconv3[0][0]           \n",
      "__________________________________________________________________________________________________\n",
      "add_44 (Add)                    (None, 19, 19, 728)  0           block10_sepconv3_bn[0][0]        \n",
      "                                                                 add_43[0][0]                     \n",
      "__________________________________________________________________________________________________\n",
      "block11_sepconv1_act (Activatio (None, 19, 19, 728)  0           add_44[0][0]                     \n",
      "__________________________________________________________________________________________________\n",
      "block11_sepconv1 (SeparableConv (None, 19, 19, 728)  536536      block11_sepconv1_act[0][0]       \n",
      "__________________________________________________________________________________________________\n",
      "block11_sepconv1_bn (BatchNorma (None, 19, 19, 728)  2912        block11_sepconv1[0][0]           \n",
      "__________________________________________________________________________________________________\n",
      "block11_sepconv2_act (Activatio (None, 19, 19, 728)  0           block11_sepconv1_bn[0][0]        \n",
      "__________________________________________________________________________________________________\n",
      "block11_sepconv2 (SeparableConv (None, 19, 19, 728)  536536      block11_sepconv2_act[0][0]       \n",
      "__________________________________________________________________________________________________\n",
      "block11_sepconv2_bn (BatchNorma (None, 19, 19, 728)  2912        block11_sepconv2[0][0]           \n",
      "__________________________________________________________________________________________________\n",
      "block11_sepconv3_act (Activatio (None, 19, 19, 728)  0           block11_sepconv2_bn[0][0]        \n",
      "__________________________________________________________________________________________________\n",
      "block11_sepconv3 (SeparableConv (None, 19, 19, 728)  536536      block11_sepconv3_act[0][0]       \n",
      "__________________________________________________________________________________________________\n",
      "block11_sepconv3_bn (BatchNorma (None, 19, 19, 728)  2912        block11_sepconv3[0][0]           \n",
      "__________________________________________________________________________________________________\n",
      "add_45 (Add)                    (None, 19, 19, 728)  0           block11_sepconv3_bn[0][0]        \n",
      "                                                                 add_44[0][0]                     \n",
      "__________________________________________________________________________________________________\n",
      "block12_sepconv1_act (Activatio (None, 19, 19, 728)  0           add_45[0][0]                     \n",
      "__________________________________________________________________________________________________\n",
      "block12_sepconv1 (SeparableConv (None, 19, 19, 728)  536536      block12_sepconv1_act[0][0]       \n",
      "__________________________________________________________________________________________________\n",
      "block12_sepconv1_bn (BatchNorma (None, 19, 19, 728)  2912        block12_sepconv1[0][0]           \n",
      "__________________________________________________________________________________________________\n",
      "block12_sepconv2_act (Activatio (None, 19, 19, 728)  0           block12_sepconv1_bn[0][0]        \n",
      "__________________________________________________________________________________________________\n",
      "block12_sepconv2 (SeparableConv (None, 19, 19, 728)  536536      block12_sepconv2_act[0][0]       \n",
      "__________________________________________________________________________________________________\n",
      "block12_sepconv2_bn (BatchNorma (None, 19, 19, 728)  2912        block12_sepconv2[0][0]           \n",
      "__________________________________________________________________________________________________\n",
      "block12_sepconv3_act (Activatio (None, 19, 19, 728)  0           block12_sepconv2_bn[0][0]        \n",
      "__________________________________________________________________________________________________\n",
      "block12_sepconv3 (SeparableConv (None, 19, 19, 728)  536536      block12_sepconv3_act[0][0]       \n",
      "__________________________________________________________________________________________________\n",
      "block12_sepconv3_bn (BatchNorma (None, 19, 19, 728)  2912        block12_sepconv3[0][0]           \n",
      "__________________________________________________________________________________________________\n",
      "add_46 (Add)                    (None, 19, 19, 728)  0           block12_sepconv3_bn[0][0]        \n",
      "                                                                 add_45[0][0]                     \n",
      "__________________________________________________________________________________________________\n",
      "block13_sepconv1_act (Activatio (None, 19, 19, 728)  0           add_46[0][0]                     \n",
      "__________________________________________________________________________________________________\n",
      "block13_sepconv1 (SeparableConv (None, 19, 19, 728)  536536      block13_sepconv1_act[0][0]       \n",
      "__________________________________________________________________________________________________\n",
      "block13_sepconv1_bn (BatchNorma (None, 19, 19, 728)  2912        block13_sepconv1[0][0]           \n",
      "__________________________________________________________________________________________________\n",
      "block13_sepconv2_act (Activatio (None, 19, 19, 728)  0           block13_sepconv1_bn[0][0]        \n",
      "__________________________________________________________________________________________________\n",
      "block13_sepconv2 (SeparableConv (None, 19, 19, 1024) 752024      block13_sepconv2_act[0][0]       \n",
      "__________________________________________________________________________________________________\n",
      "block13_sepconv2_bn (BatchNorma (None, 19, 19, 1024) 4096        block13_sepconv2[0][0]           \n",
      "__________________________________________________________________________________________________\n",
      "conv2d_15 (Conv2D)              (None, 10, 10, 1024) 745472      add_46[0][0]                     \n",
      "__________________________________________________________________________________________________\n",
      "block13_pool (MaxPooling2D)     (None, 10, 10, 1024) 0           block13_sepconv2_bn[0][0]        \n",
      "__________________________________________________________________________________________________\n",
      "batch_normalization_15 (BatchNo (None, 10, 10, 1024) 4096        conv2d_15[0][0]                  \n",
      "__________________________________________________________________________________________________\n",
      "add_47 (Add)                    (None, 10, 10, 1024) 0           block13_pool[0][0]               \n",
      "                                                                 batch_normalization_15[0][0]     \n",
      "__________________________________________________________________________________________________\n",
      "block14_sepconv1 (SeparableConv (None, 10, 10, 1536) 1582080     add_47[0][0]                     \n",
      "__________________________________________________________________________________________________\n",
      "block14_sepconv1_bn (BatchNorma (None, 10, 10, 1536) 6144        block14_sepconv1[0][0]           \n",
      "__________________________________________________________________________________________________\n",
      "block14_sepconv1_act (Activatio (None, 10, 10, 1536) 0           block14_sepconv1_bn[0][0]        \n",
      "__________________________________________________________________________________________________\n",
      "block14_sepconv2 (SeparableConv (None, 10, 10, 2048) 3159552     block14_sepconv1_act[0][0]       \n",
      "__________________________________________________________________________________________________\n",
      "block14_sepconv2_bn (BatchNorma (None, 10, 10, 2048) 8192        block14_sepconv2[0][0]           \n",
      "__________________________________________________________________________________________________\n",
      "block14_sepconv2_act (Activatio (None, 10, 10, 2048) 0           block14_sepconv2_bn[0][0]        \n",
      "__________________________________________________________________________________________________\n",
      "global_average_pooling2d_3 (Glo (None, 2048)         0           block14_sepconv2_act[0][0]       \n",
      "__________________________________________________________________________________________________\n",
      "dense_3 (Dense)                 (None, 3)            6147        global_average_pooling2d_3[0][0] \n",
      "==================================================================================================\n",
      "Total params: 20,867,627\n",
      "Trainable params: 20,813,099\n",
      "Non-trainable params: 54,528\n",
      "__________________________________________________________________________________________________\n"
     ]
    }
   ],
   "source": [
    "Dense_net.summary()"
   ]
  },
  {
   "cell_type": "code",
   "execution_count": 77,
   "metadata": {
    "colab": {
     "base_uri": "https://localhost:8080/",
     "height": 458
    },
    "id": "u1cu0pN-7XNZ",
    "outputId": "fb346f0b-6717-44bf-b738-87aa6357360f"
   },
   "outputs": [],
   "source": [
    "x = Dense_net.get_layer(\"global_average_pooling2d_3\").output\n",
    "\n",
    "#x = tf.keras.layers.Dense(1024, activation='softmax')(x)\n",
    "x = tf.keras.layers.Dense(7, activation='softmax')(x)\n",
    "model = keras.Model(inputs = Dense_net.input,outputs=x)\n",
    "model.compile( optimizer= 'adam',loss=\"categorical_crossentropy\", metrics=[\"accuracy\"])"
   ]
  },
  {
   "cell_type": "code",
   "execution_count": 78,
   "metadata": {
    "scrolled": true
   },
   "outputs": [
    {
     "name": "stdout",
     "output_type": "stream",
     "text": [
      "Epoch 1/80\n",
      "50/50 [==============================] - 30s 389ms/step - loss: 1.7871 - accuracy: 0.3100 - val_loss: 1.8338 - val_accuracy: 0.3086\n",
      "Epoch 2/80\n",
      "50/50 [==============================] - 19s 376ms/step - loss: 1.3790 - accuracy: 0.4150 - val_loss: 1.9132 - val_accuracy: 0.3333\n",
      "Epoch 3/80\n",
      "50/50 [==============================] - 19s 381ms/step - loss: 1.1427 - accuracy: 0.6050 - val_loss: 2.8326 - val_accuracy: 0.3951\n",
      "Epoch 4/80\n",
      "50/50 [==============================] - 19s 387ms/step - loss: 0.9163 - accuracy: 0.6550 - val_loss: 3.6423 - val_accuracy: 0.2593\n",
      "Epoch 5/80\n",
      "50/50 [==============================] - 19s 384ms/step - loss: 0.8250 - accuracy: 0.6975 - val_loss: 1.1519 - val_accuracy: 0.5556\n",
      "Epoch 6/80\n",
      "50/50 [==============================] - 19s 383ms/step - loss: 0.7040 - accuracy: 0.7675 - val_loss: 2.3339 - val_accuracy: 0.5062\n",
      "Epoch 7/80\n",
      "50/50 [==============================] - 19s 385ms/step - loss: 0.6799 - accuracy: 0.7550 - val_loss: 1.0860 - val_accuracy: 0.5802\n",
      "Epoch 8/80\n",
      "50/50 [==============================] - 19s 386ms/step - loss: 0.5865 - accuracy: 0.7825 - val_loss: 1.7209 - val_accuracy: 0.4198\n",
      "Epoch 9/80\n",
      "50/50 [==============================] - 19s 386ms/step - loss: 0.5649 - accuracy: 0.8100 - val_loss: 2.1212 - val_accuracy: 0.5556\n",
      "Epoch 10/80\n",
      "50/50 [==============================] - 19s 385ms/step - loss: 0.4547 - accuracy: 0.8625 - val_loss: 1.2817 - val_accuracy: 0.6914\n",
      "Epoch 11/80\n",
      "50/50 [==============================] - 19s 387ms/step - loss: 0.3278 - accuracy: 0.8825 - val_loss: 1.7998 - val_accuracy: 0.6296\n",
      "Epoch 12/80\n",
      "50/50 [==============================] - 19s 386ms/step - loss: 0.4320 - accuracy: 0.8425 - val_loss: 6.1755 - val_accuracy: 0.3457\n",
      "Epoch 13/80\n",
      "50/50 [==============================] - 19s 385ms/step - loss: 0.3220 - accuracy: 0.9075 - val_loss: 0.9861 - val_accuracy: 0.7160\n",
      "Epoch 14/80\n",
      "50/50 [==============================] - 19s 382ms/step - loss: 0.2674 - accuracy: 0.9250 - val_loss: 9.5959 - val_accuracy: 0.3210\n",
      "Epoch 15/80\n",
      "50/50 [==============================] - 19s 385ms/step - loss: 0.2501 - accuracy: 0.9250 - val_loss: 1.6377 - val_accuracy: 0.6296\n",
      "Epoch 16/80\n",
      "50/50 [==============================] - 19s 385ms/step - loss: 0.2435 - accuracy: 0.9300 - val_loss: 1.8071 - val_accuracy: 0.6420\n",
      "Epoch 17/80\n",
      "50/50 [==============================] - 19s 387ms/step - loss: 0.2418 - accuracy: 0.9250 - val_loss: 2.3659 - val_accuracy: 0.5802\n",
      "Epoch 18/80\n",
      "50/50 [==============================] - 19s 386ms/step - loss: 0.2403 - accuracy: 0.9250 - val_loss: 0.8865 - val_accuracy: 0.8025\n",
      "Epoch 19/80\n",
      "50/50 [==============================] - 19s 388ms/step - loss: 0.1840 - accuracy: 0.9300 - val_loss: 1.3150 - val_accuracy: 0.6420\n",
      "Epoch 20/80\n",
      "50/50 [==============================] - 19s 386ms/step - loss: 0.1655 - accuracy: 0.9425 - val_loss: 3.6700 - val_accuracy: 0.4815\n",
      "Epoch 21/80\n",
      "50/50 [==============================] - 19s 386ms/step - loss: 0.1292 - accuracy: 0.9500 - val_loss: 1.2059 - val_accuracy: 0.6790\n",
      "Epoch 22/80\n",
      "50/50 [==============================] - 19s 387ms/step - loss: 0.1526 - accuracy: 0.9400 - val_loss: 1.6775 - val_accuracy: 0.5679\n",
      "Epoch 23/80\n",
      "50/50 [==============================] - 19s 386ms/step - loss: 0.1287 - accuracy: 0.9575 - val_loss: 1.6283 - val_accuracy: 0.6790\n",
      "Epoch 24/80\n",
      "50/50 [==============================] - 19s 387ms/step - loss: 0.2147 - accuracy: 0.9275 - val_loss: 2.9639 - val_accuracy: 0.5309\n",
      "Epoch 25/80\n",
      "50/50 [==============================] - 19s 386ms/step - loss: 0.1649 - accuracy: 0.9425 - val_loss: 2.2736 - val_accuracy: 0.5556\n",
      "Epoch 26/80\n",
      "50/50 [==============================] - 19s 385ms/step - loss: 0.1648 - accuracy: 0.9475 - val_loss: 1.2753 - val_accuracy: 0.7160\n",
      "Epoch 27/80\n",
      "50/50 [==============================] - 19s 383ms/step - loss: 0.1375 - accuracy: 0.9575 - val_loss: 0.8975 - val_accuracy: 0.7654\n",
      "Epoch 28/80\n",
      "50/50 [==============================] - 19s 386ms/step - loss: 0.0671 - accuracy: 0.9850 - val_loss: 1.7001 - val_accuracy: 0.6790\n",
      "Epoch 29/80\n",
      "50/50 [==============================] - 19s 383ms/step - loss: 0.1328 - accuracy: 0.9600 - val_loss: 1.1630 - val_accuracy: 0.7901\n",
      "Epoch 30/80\n",
      "50/50 [==============================] - 19s 383ms/step - loss: 0.1422 - accuracy: 0.9550 - val_loss: 1.0335 - val_accuracy: 0.7407\n",
      "Epoch 31/80\n",
      "50/50 [==============================] - 19s 382ms/step - loss: 0.0558 - accuracy: 0.9850 - val_loss: 0.8484 - val_accuracy: 0.7531\n",
      "Epoch 32/80\n",
      "50/50 [==============================] - 19s 386ms/step - loss: 0.1409 - accuracy: 0.9525 - val_loss: 1.5130 - val_accuracy: 0.7284\n",
      "Epoch 33/80\n",
      "50/50 [==============================] - 19s 386ms/step - loss: 0.1876 - accuracy: 0.9425 - val_loss: 2.6800 - val_accuracy: 0.5556\n",
      "Epoch 34/80\n",
      "50/50 [==============================] - 19s 383ms/step - loss: 0.1720 - accuracy: 0.9325 - val_loss: 1.1515 - val_accuracy: 0.7037\n",
      "Epoch 35/80\n",
      "50/50 [==============================] - 19s 387ms/step - loss: 0.1107 - accuracy: 0.9650 - val_loss: 1.8930 - val_accuracy: 0.6049\n",
      "Epoch 36/80\n",
      "50/50 [==============================] - 19s 384ms/step - loss: 0.1606 - accuracy: 0.9450 - val_loss: 1.4385 - val_accuracy: 0.7160\n",
      "Epoch 37/80\n",
      "50/50 [==============================] - 19s 383ms/step - loss: 0.1057 - accuracy: 0.9725 - val_loss: 1.4229 - val_accuracy: 0.7160\n",
      "Epoch 38/80\n",
      "50/50 [==============================] - 19s 383ms/step - loss: 0.0795 - accuracy: 0.9750 - val_loss: 0.9216 - val_accuracy: 0.7407\n",
      "Epoch 39/80\n",
      "50/50 [==============================] - 19s 386ms/step - loss: 0.1110 - accuracy: 0.9700 - val_loss: 1.7454 - val_accuracy: 0.7037\n",
      "Epoch 40/80\n",
      "50/50 [==============================] - 19s 383ms/step - loss: 0.1150 - accuracy: 0.9750 - val_loss: 1.1701 - val_accuracy: 0.7778\n",
      "Epoch 41/80\n",
      "50/50 [==============================] - 19s 380ms/step - loss: 0.0757 - accuracy: 0.9725 - val_loss: 1.2100 - val_accuracy: 0.7901\n",
      "Epoch 42/80\n",
      "50/50 [==============================] - 19s 386ms/step - loss: 0.1054 - accuracy: 0.9750 - val_loss: 1.3186 - val_accuracy: 0.7284\n",
      "Epoch 43/80\n",
      "50/50 [==============================] - 19s 387ms/step - loss: 0.1074 - accuracy: 0.9600 - val_loss: 2.2425 - val_accuracy: 0.6296\n",
      "Epoch 44/80\n",
      "50/50 [==============================] - 19s 381ms/step - loss: 0.1486 - accuracy: 0.9625 - val_loss: 1.1924 - val_accuracy: 0.7654\n",
      "Epoch 45/80\n",
      "50/50 [==============================] - 19s 387ms/step - loss: 0.0594 - accuracy: 0.9875 - val_loss: 0.7659 - val_accuracy: 0.8025\n",
      "Epoch 46/80\n",
      "50/50 [==============================] - 19s 388ms/step - loss: 0.0619 - accuracy: 0.9850 - val_loss: 0.8833 - val_accuracy: 0.7654\n",
      "Epoch 47/80\n",
      "50/50 [==============================] - 19s 383ms/step - loss: 0.1337 - accuracy: 0.9550 - val_loss: 2.3513 - val_accuracy: 0.6543\n",
      "Epoch 48/80\n",
      "50/50 [==============================] - 19s 382ms/step - loss: 0.0964 - accuracy: 0.9700 - val_loss: 0.6057 - val_accuracy: 0.9012\n",
      "Epoch 49/80\n",
      "50/50 [==============================] - 19s 388ms/step - loss: 0.0646 - accuracy: 0.9800 - val_loss: 0.8583 - val_accuracy: 0.8395\n",
      "Epoch 50/80\n",
      "50/50 [==============================] - 19s 382ms/step - loss: 0.0601 - accuracy: 0.9850 - val_loss: 2.1481 - val_accuracy: 0.6543\n",
      "Epoch 51/80\n",
      "50/50 [==============================] - 19s 384ms/step - loss: 0.1034 - accuracy: 0.9675 - val_loss: 2.3103 - val_accuracy: 0.6667\n",
      "Epoch 52/80\n",
      "50/50 [==============================] - 19s 385ms/step - loss: 0.0749 - accuracy: 0.9775 - val_loss: 1.2226 - val_accuracy: 0.7654\n",
      "Epoch 53/80\n",
      "50/50 [==============================] - 19s 386ms/step - loss: 0.0537 - accuracy: 0.9825 - val_loss: 1.2362 - val_accuracy: 0.7654\n",
      "Epoch 54/80\n",
      "50/50 [==============================] - 19s 388ms/step - loss: 0.0588 - accuracy: 0.9825 - val_loss: 1.3851 - val_accuracy: 0.7531\n",
      "Epoch 55/80\n",
      "50/50 [==============================] - 19s 381ms/step - loss: 0.0741 - accuracy: 0.9800 - val_loss: 0.7875 - val_accuracy: 0.8148\n",
      "Epoch 56/80\n",
      "50/50 [==============================] - 19s 385ms/step - loss: 0.0755 - accuracy: 0.9825 - val_loss: 2.7584 - val_accuracy: 0.5062\n",
      "Epoch 57/80\n",
      "50/50 [==============================] - 19s 382ms/step - loss: 0.0269 - accuracy: 0.9925 - val_loss: 0.8528 - val_accuracy: 0.8395\n"
     ]
    },
    {
     "name": "stdout",
     "output_type": "stream",
     "text": [
      "Epoch 58/80\n",
      "50/50 [==============================] - 19s 381ms/step - loss: 0.1483 - accuracy: 0.9675 - val_loss: 1.5203 - val_accuracy: 0.6914\n",
      "Epoch 59/80\n",
      "50/50 [==============================] - 19s 383ms/step - loss: 0.0914 - accuracy: 0.9700 - val_loss: 1.9005 - val_accuracy: 0.6543\n",
      "Epoch 60/80\n",
      "50/50 [==============================] - 19s 382ms/step - loss: 0.1315 - accuracy: 0.9700 - val_loss: 0.9060 - val_accuracy: 0.7778\n",
      "Epoch 61/80\n",
      "50/50 [==============================] - 19s 385ms/step - loss: 0.0398 - accuracy: 0.9850 - val_loss: 1.0173 - val_accuracy: 0.8148\n",
      "Epoch 62/80\n",
      "50/50 [==============================] - 19s 384ms/step - loss: 0.0662 - accuracy: 0.9825 - val_loss: 1.0031 - val_accuracy: 0.7901\n",
      "Epoch 63/80\n",
      "50/50 [==============================] - 19s 382ms/step - loss: 0.0870 - accuracy: 0.9750 - val_loss: 1.9956 - val_accuracy: 0.6667\n",
      "Epoch 64/80\n",
      "50/50 [==============================] - 19s 384ms/step - loss: 0.0589 - accuracy: 0.9800 - val_loss: 2.3578 - val_accuracy: 0.7160\n",
      "Epoch 65/80\n",
      "50/50 [==============================] - 19s 383ms/step - loss: 0.0355 - accuracy: 0.9900 - val_loss: 1.1725 - val_accuracy: 0.8148\n",
      "Epoch 66/80\n",
      "50/50 [==============================] - 19s 382ms/step - loss: 0.0550 - accuracy: 0.9800 - val_loss: 1.1891 - val_accuracy: 0.7407\n",
      "Epoch 67/80\n",
      "50/50 [==============================] - 19s 384ms/step - loss: 0.0681 - accuracy: 0.9825 - val_loss: 1.1484 - val_accuracy: 0.7901\n",
      "Epoch 68/80\n",
      "50/50 [==============================] - 19s 384ms/step - loss: 0.0433 - accuracy: 0.9825 - val_loss: 0.9762 - val_accuracy: 0.7901\n",
      "Epoch 69/80\n",
      "50/50 [==============================] - 19s 381ms/step - loss: 0.0308 - accuracy: 0.9950 - val_loss: 0.7715 - val_accuracy: 0.8395\n",
      "Epoch 70/80\n",
      "50/50 [==============================] - 19s 385ms/step - loss: 0.1332 - accuracy: 0.9650 - val_loss: 3.3665 - val_accuracy: 0.5432\n",
      "Epoch 71/80\n",
      "50/50 [==============================] - 19s 383ms/step - loss: 0.1022 - accuracy: 0.9700 - val_loss: 3.1616 - val_accuracy: 0.5309\n",
      "Epoch 72/80\n",
      "50/50 [==============================] - 19s 388ms/step - loss: 0.0691 - accuracy: 0.9725 - val_loss: 2.5202 - val_accuracy: 0.6420\n",
      "Epoch 73/80\n",
      "50/50 [==============================] - 19s 387ms/step - loss: 0.0429 - accuracy: 0.9850 - val_loss: 1.2687 - val_accuracy: 0.7778\n",
      "Epoch 74/80\n",
      "50/50 [==============================] - 19s 386ms/step - loss: 0.0733 - accuracy: 0.9850 - val_loss: 1.7715 - val_accuracy: 0.6914\n",
      "Epoch 75/80\n",
      "50/50 [==============================] - 19s 385ms/step - loss: 0.0244 - accuracy: 0.9925 - val_loss: 1.2135 - val_accuracy: 0.7778\n",
      "Epoch 76/80\n",
      "50/50 [==============================] - 19s 386ms/step - loss: 0.0477 - accuracy: 0.9875 - val_loss: 2.1757 - val_accuracy: 0.7037\n",
      "Epoch 77/80\n",
      "50/50 [==============================] - 19s 386ms/step - loss: 0.0335 - accuracy: 0.9900 - val_loss: 1.1412 - val_accuracy: 0.7778\n",
      "Epoch 78/80\n",
      "50/50 [==============================] - 19s 382ms/step - loss: 0.0179 - accuracy: 0.9975 - val_loss: 1.1600 - val_accuracy: 0.7654\n",
      "Epoch 79/80\n",
      "50/50 [==============================] - 19s 382ms/step - loss: 0.0645 - accuracy: 0.9750 - val_loss: 1.6948 - val_accuracy: 0.6420\n",
      "Epoch 80/80\n",
      "50/50 [==============================] - 19s 385ms/step - loss: 0.0396 - accuracy: 0.9875 - val_loss: 1.0800 - val_accuracy: 0.7901\n"
     ]
    }
   ],
   "source": [
    "history=model.fit(\n",
    "    train_dataset,\n",
    "    steps_per_epoch=data_labels.shape[0] // BATCH_SIZE,\n",
    "    epochs=80,\n",
    "    validation_data=test_dataset\n",
    "    )"
   ]
  },
  {
   "cell_type": "code",
   "execution_count": 79,
   "metadata": {
    "id": "o3dnottQ-aH_"
   },
   "outputs": [],
   "source": [
    "def display_training_curves(training, validation, title, subplot):\n",
    "    if subplot%10==1: # set up the subplots on the first call\n",
    "        plt.subplots(figsize=(10,10), facecolor='#F0F0F0')\n",
    "        #plt.tight_layout()\n",
    "    ax = plt.subplot(subplot)\n",
    "    ax.set_facecolor('#F8F8F8')\n",
    "    ax.plot(training)\n",
    "    ax.plot(validation)\n",
    "    ax.set_title('model '+ title)\n",
    "    ax.set_ylabel(title)\n",
    "    #ax.set_ylim(0.28,1.05)\n",
    "    ax.set_xlabel('epoch')\n",
    "    ax.legend(['train', 'valid.'])"
   ]
  },
  {
   "cell_type": "code",
   "execution_count": 80,
   "metadata": {},
   "outputs": [
    {
     "data": {
      "image/png": "[encoded data removed]",
      "text/plain": [
       "<Figure size 720x720 with 2 Axes>"
      ]
     },
     "metadata": {},
     "output_type": "display_data"
    }
   ],
   "source": [
    "display_training_curves(history.history['accuracy'][1:], history.history['val_accuracy'][1:], 'accuracy', 211)\n",
    "display_training_curves(history.history['loss'][1:], history.history['val_loss'][1:], 'loss', 212)"
   ]
  },
  {
   "cell_type": "code",
   "execution_count": 81,
   "metadata": {},
   "outputs": [],
   "source": [
    "import pickle\n",
    "with open('training_log/xception_newdata408_300px_v2.pkl', 'wb') as output:\n",
    "        pickle.dump(history.history, output)"
   ]
  },
  {
   "cell_type": "code",
   "execution_count": null,
   "metadata": {},
   "outputs": [],
   "source": []
  }
 ],
 "metadata": {
  "accelerator": "TPU",
  "colab": {
   "name": "new_data.ipynb",
   "provenance": []
  },
  "kernelspec": {
   "display_name": "Python 3",
   "language": "python",
   "name": "python3"
  },
  "language_info": {
   "codemirror_mode": {
    "name": "ipython",
    "version": 3
   },
   "file_extension": ".py",
   "mimetype": "text/x-python",
   "name": "python",
   "nbconvert_exporter": "python",
   "pygments_lexer": "ipython3",
   "version": "3.8.5"
  }
 },
 "nbformat": 4,
 "nbformat_minor": 1
}
