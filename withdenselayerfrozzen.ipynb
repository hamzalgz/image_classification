{
 "cells": [
  {
   "cell_type": "code",
   "execution_count": 1,
   "metadata": {},
   "outputs": [],
   "source": [
    "from tensorflow.compat.v1 import ConfigProto\n",
    "from tensorflow.compat.v1 import InteractiveSession\n",
    "config = ConfigProto()\n",
    "config.gpu_options.allow_growth = True\n",
    "session = InteractiveSession(config=config)"
   ]
  },
  {
   "cell_type": "code",
   "execution_count": 2,
   "metadata": {
    "id": "rWzMYFMXb8Ez",
    "scrolled": true
   },
   "outputs": [],
   "source": [
    "import numpy as np \n",
    "import pandas as pd\n",
    "import os\n",
    "import shutil\n",
    "import cv2\n",
    "from matplotlib import pyplot as plt\n",
    "import tensorflow as tf\n",
    "from tensorflow import keras\n",
    "from tensorflow.keras.preprocessing.image import ImageDataGenerator, array_to_img, img_to_array, load_img\n",
    "from sklearn.model_selection import train_test_split\n",
    "from tensorflow.keras.models import Sequential, Model\n",
    "from tensorflow.keras.layers import Activation, Dropout, Flatten, Dense, Conv2D, MaxPooling2D, BatchNormalization\n",
    "from tensorflow.keras.optimizers import Adam\n",
    "from tensorflow.keras.regularizers import l2\n",
    "from tensorflow.keras.applications import Xception"
   ]
  },
  {
   "cell_type": "code",
   "execution_count": 3,
   "metadata": {
    "id": "yym6QEtncRGM"
   },
   "outputs": [],
   "source": [
    "df = pd.read_csv('data_llhajb.csv',sep=',' )\n",
    "\n",
    "AUTO = tf.data.experimental.AUTOTUNE"
   ]
  },
  {
   "cell_type": "code",
   "execution_count": 4,
   "metadata": {},
   "outputs": [
    {
     "data": {
      "text/html": [
       "<div>\n",
       "<style scoped>\n",
       "    .dataframe tbody tr th:only-of-type {\n",
       "        vertical-align: middle;\n",
       "    }\n",
       "\n",
       "    .dataframe tbody tr th {\n",
       "        vertical-align: top;\n",
       "    }\n",
       "\n",
       "    .dataframe thead th {\n",
       "        text-align: right;\n",
       "    }\n",
       "</style>\n",
       "<table border=\"1\" class=\"dataframe\">\n",
       "  <thead>\n",
       "    <tr style=\"text-align: right;\">\n",
       "      <th></th>\n",
       "      <th>path_image</th>\n",
       "      <th>lebel</th>\n",
       "    </tr>\n",
       "  </thead>\n",
       "  <tbody>\n",
       "    <tr>\n",
       "      <th>0</th>\n",
       "      <td>new_data0.jpeg</td>\n",
       "      <td>rouille</td>\n",
       "    </tr>\n",
       "    <tr>\n",
       "      <th>1</th>\n",
       "      <td>new_data1.jpeg</td>\n",
       "      <td>rouille</td>\n",
       "    </tr>\n",
       "    <tr>\n",
       "      <th>2</th>\n",
       "      <td>new_data2.jpeg</td>\n",
       "      <td>rouille</td>\n",
       "    </tr>\n",
       "    <tr>\n",
       "      <th>3</th>\n",
       "      <td>new_data3.jpeg</td>\n",
       "      <td>rouille</td>\n",
       "    </tr>\n",
       "    <tr>\n",
       "      <th>4</th>\n",
       "      <td>new_data4.jpeg</td>\n",
       "      <td>rouille</td>\n",
       "    </tr>\n",
       "  </tbody>\n",
       "</table>\n",
       "</div>"
      ],
      "text/plain": [
       "       path_image    lebel\n",
       "0  new_data0.jpeg  rouille\n",
       "1  new_data1.jpeg  rouille\n",
       "2  new_data2.jpeg  rouille\n",
       "3  new_data3.jpeg  rouille\n",
       "4  new_data4.jpeg  rouille"
      ]
     },
     "execution_count": 4,
     "metadata": {},
     "output_type": "execute_result"
    }
   ],
   "source": [
    "df.head()"
   ]
  },
  {
   "cell_type": "code",
   "execution_count": 5,
   "metadata": {
    "colab": {
     "base_uri": "https://localhost:8080/",
     "height": 195
    },
    "id": "QXgncPtChPJU",
    "outputId": "06155ebb-1980-4eff-84d0-a065d081f702"
   },
   "outputs": [
    {
     "data": {
      "text/html": [
       "<div>\n",
       "<style scoped>\n",
       "    .dataframe tbody tr th:only-of-type {\n",
       "        vertical-align: middle;\n",
       "    }\n",
       "\n",
       "    .dataframe tbody tr th {\n",
       "        vertical-align: top;\n",
       "    }\n",
       "\n",
       "    .dataframe thead th {\n",
       "        text-align: right;\n",
       "    }\n",
       "</style>\n",
       "<table border=\"1\" class=\"dataframe\">\n",
       "  <thead>\n",
       "    <tr style=\"text-align: right;\">\n",
       "      <th></th>\n",
       "      <th>path_image</th>\n",
       "      <th>lebel</th>\n",
       "      <th>acariens</th>\n",
       "      <th>chancre fusicocum</th>\n",
       "      <th>coryneum</th>\n",
       "      <th>faux tigre</th>\n",
       "      <th>othyorinques</th>\n",
       "      <th>polystigma</th>\n",
       "      <th>puceron noir</th>\n",
       "      <th>rouille</th>\n",
       "      <th>scolytes</th>\n",
       "    </tr>\n",
       "  </thead>\n",
       "  <tbody>\n",
       "    <tr>\n",
       "      <th>0</th>\n",
       "      <td>new_data0.jpeg</td>\n",
       "      <td>rouille</td>\n",
       "      <td>0</td>\n",
       "      <td>0</td>\n",
       "      <td>0</td>\n",
       "      <td>0</td>\n",
       "      <td>0</td>\n",
       "      <td>0</td>\n",
       "      <td>0</td>\n",
       "      <td>1</td>\n",
       "      <td>0</td>\n",
       "    </tr>\n",
       "    <tr>\n",
       "      <th>1</th>\n",
       "      <td>new_data1.jpeg</td>\n",
       "      <td>rouille</td>\n",
       "      <td>0</td>\n",
       "      <td>0</td>\n",
       "      <td>0</td>\n",
       "      <td>0</td>\n",
       "      <td>0</td>\n",
       "      <td>0</td>\n",
       "      <td>0</td>\n",
       "      <td>1</td>\n",
       "      <td>0</td>\n",
       "    </tr>\n",
       "    <tr>\n",
       "      <th>2</th>\n",
       "      <td>new_data2.jpeg</td>\n",
       "      <td>rouille</td>\n",
       "      <td>0</td>\n",
       "      <td>0</td>\n",
       "      <td>0</td>\n",
       "      <td>0</td>\n",
       "      <td>0</td>\n",
       "      <td>0</td>\n",
       "      <td>0</td>\n",
       "      <td>1</td>\n",
       "      <td>0</td>\n",
       "    </tr>\n",
       "    <tr>\n",
       "      <th>3</th>\n",
       "      <td>new_data3.jpeg</td>\n",
       "      <td>rouille</td>\n",
       "      <td>0</td>\n",
       "      <td>0</td>\n",
       "      <td>0</td>\n",
       "      <td>0</td>\n",
       "      <td>0</td>\n",
       "      <td>0</td>\n",
       "      <td>0</td>\n",
       "      <td>1</td>\n",
       "      <td>0</td>\n",
       "    </tr>\n",
       "    <tr>\n",
       "      <th>4</th>\n",
       "      <td>new_data4.jpeg</td>\n",
       "      <td>rouille</td>\n",
       "      <td>0</td>\n",
       "      <td>0</td>\n",
       "      <td>0</td>\n",
       "      <td>0</td>\n",
       "      <td>0</td>\n",
       "      <td>0</td>\n",
       "      <td>0</td>\n",
       "      <td>1</td>\n",
       "      <td>0</td>\n",
       "    </tr>\n",
       "  </tbody>\n",
       "</table>\n",
       "</div>"
      ],
      "text/plain": [
       "       path_image    lebel  acariens  chancre fusicocum  coryneum  faux tigre  \\\n",
       "0  new_data0.jpeg  rouille         0                  0         0           0   \n",
       "1  new_data1.jpeg  rouille         0                  0         0           0   \n",
       "2  new_data2.jpeg  rouille         0                  0         0           0   \n",
       "3  new_data3.jpeg  rouille         0                  0         0           0   \n",
       "4  new_data4.jpeg  rouille         0                  0         0           0   \n",
       "\n",
       "   othyorinques  polystigma  puceron noir  rouille  scolytes  \n",
       "0             0           0             0        1         0  \n",
       "1             0           0             0        1         0  \n",
       "2             0           0             0        1         0  \n",
       "3             0           0             0        1         0  \n",
       "4             0           0             0        1         0  "
      ]
     },
     "execution_count": 5,
     "metadata": {},
     "output_type": "execute_result"
    }
   ],
   "source": [
    "a=df.copy()\n",
    "a=pd.get_dummies(a['lebel'])\n",
    "df1=pd.concat([df, a], axis=1)\n",
    "df1.head()"
   ]
  },
  {
   "cell_type": "code",
   "execution_count": 6,
   "metadata": {
    "id": "UK8RpBoqf0M8"
   },
   "outputs": [],
   "source": [
    "data=df1[df1['puceron noir']!=1]"
   ]
  },
  {
   "cell_type": "code",
   "execution_count": 7,
   "metadata": {
    "id": "lnKSW3GqmQ9B"
   },
   "outputs": [],
   "source": [
    "data=data[data['scolytes']!=1]\n",
    "data=data[data['coryneum']!=1]"
   ]
  },
  {
   "cell_type": "code",
   "execution_count": 8,
   "metadata": {
    "colab": {
     "base_uri": "https://localhost:8080/"
    },
    "id": "409PM2CumcDC",
    "outputId": "15fb1cd0-57db-4a82-f986-374bfc6a3383"
   },
   "outputs": [
    {
     "data": {
      "text/plain": [
       "(325, 10)"
      ]
     },
     "execution_count": 8,
     "metadata": {},
     "output_type": "execute_result"
    }
   ],
   "source": [
    "data.drop(columns='lebel', inplace=True)\n",
    "\n",
    "data.shape"
   ]
  },
  {
   "cell_type": "code",
   "execution_count": 9,
   "metadata": {
    "id": "OZZszMkXmxGf"
   },
   "outputs": [],
   "source": [
    "data.drop(columns=['puceron noir','scolytes','coryneum'],inplace=True)"
   ]
  },
  {
   "cell_type": "code",
   "execution_count": 10,
   "metadata": {
    "colab": {
     "base_uri": "https://localhost:8080/",
     "height": 195
    },
    "id": "Fezy3m4ycxe7",
    "outputId": "0db79526-24e2-42ce-f3df-207475cf925a"
   },
   "outputs": [
    {
     "data": {
      "text/html": [
       "<div>\n",
       "<style scoped>\n",
       "    .dataframe tbody tr th:only-of-type {\n",
       "        vertical-align: middle;\n",
       "    }\n",
       "\n",
       "    .dataframe tbody tr th {\n",
       "        vertical-align: top;\n",
       "    }\n",
       "\n",
       "    .dataframe thead th {\n",
       "        text-align: right;\n",
       "    }\n",
       "</style>\n",
       "<table border=\"1\" class=\"dataframe\">\n",
       "  <thead>\n",
       "    <tr style=\"text-align: right;\">\n",
       "      <th></th>\n",
       "      <th>path_image</th>\n",
       "      <th>acariens</th>\n",
       "      <th>chancre fusicocum</th>\n",
       "      <th>faux tigre</th>\n",
       "      <th>othyorinques</th>\n",
       "      <th>polystigma</th>\n",
       "      <th>rouille</th>\n",
       "    </tr>\n",
       "  </thead>\n",
       "  <tbody>\n",
       "    <tr>\n",
       "      <th>0</th>\n",
       "      <td>new_data0.jpeg</td>\n",
       "      <td>0</td>\n",
       "      <td>0</td>\n",
       "      <td>0</td>\n",
       "      <td>0</td>\n",
       "      <td>0</td>\n",
       "      <td>1</td>\n",
       "    </tr>\n",
       "    <tr>\n",
       "      <th>1</th>\n",
       "      <td>new_data1.jpeg</td>\n",
       "      <td>0</td>\n",
       "      <td>0</td>\n",
       "      <td>0</td>\n",
       "      <td>0</td>\n",
       "      <td>0</td>\n",
       "      <td>1</td>\n",
       "    </tr>\n",
       "    <tr>\n",
       "      <th>2</th>\n",
       "      <td>new_data2.jpeg</td>\n",
       "      <td>0</td>\n",
       "      <td>0</td>\n",
       "      <td>0</td>\n",
       "      <td>0</td>\n",
       "      <td>0</td>\n",
       "      <td>1</td>\n",
       "    </tr>\n",
       "    <tr>\n",
       "      <th>3</th>\n",
       "      <td>new_data3.jpeg</td>\n",
       "      <td>0</td>\n",
       "      <td>0</td>\n",
       "      <td>0</td>\n",
       "      <td>0</td>\n",
       "      <td>0</td>\n",
       "      <td>1</td>\n",
       "    </tr>\n",
       "    <tr>\n",
       "      <th>4</th>\n",
       "      <td>new_data4.jpeg</td>\n",
       "      <td>0</td>\n",
       "      <td>0</td>\n",
       "      <td>0</td>\n",
       "      <td>0</td>\n",
       "      <td>0</td>\n",
       "      <td>1</td>\n",
       "    </tr>\n",
       "  </tbody>\n",
       "</table>\n",
       "</div>"
      ],
      "text/plain": [
       "       path_image  acariens  chancre fusicocum  faux tigre  othyorinques  \\\n",
       "0  new_data0.jpeg         0                  0           0             0   \n",
       "1  new_data1.jpeg         0                  0           0             0   \n",
       "2  new_data2.jpeg         0                  0           0             0   \n",
       "3  new_data3.jpeg         0                  0           0             0   \n",
       "4  new_data4.jpeg         0                  0           0             0   \n",
       "\n",
       "   polystigma  rouille  \n",
       "0           0        1  \n",
       "1           0        1  \n",
       "2           0        1  \n",
       "3           0        1  \n",
       "4           0        1  "
      ]
     },
     "execution_count": 10,
     "metadata": {},
     "output_type": "execute_result"
    }
   ],
   "source": [
    "data.head()"
   ]
  },
  {
   "cell_type": "code",
   "execution_count": 11,
   "metadata": {
    "colab": {
     "base_uri": "https://localhost:8080/"
    },
    "id": "ggW-f4LB4P3W",
    "outputId": "b02344b3-8545-4258-f745-1f62ebbcbb10"
   },
   "outputs": [
    {
     "data": {
      "text/plain": [
       "Index(['path_image', 'acariens', 'chancre fusicocum', 'faux tigre',\n",
       "       'othyorinques', 'polystigma', 'rouille'],\n",
       "      dtype='object')"
      ]
     },
     "execution_count": 11,
     "metadata": {},
     "output_type": "execute_result"
    }
   ],
   "source": [
    "data.columns"
   ]
  },
  {
   "cell_type": "code",
   "execution_count": 12,
   "metadata": {
    "colab": {
     "base_uri": "https://localhost:8080/",
     "height": 265
    },
    "id": "1oJpVUs5c3OE",
    "outputId": "e8f19f28-bd80-4e94-e154-32f8505a1d9f"
   },
   "outputs": [
    {
     "name": "stderr",
     "output_type": "stream",
     "text": [
      "<ipython-input-12-e50005ee8130>:1: FutureWarning: Dropping of nuisance columns in DataFrame reductions (with 'numeric_only=None') is deprecated; in a future version this will raise TypeError.  Select only valid columns before calling the reduction.\n",
      "  pcts=data.mean()\n"
     ]
    },
    {
     "data": {
      "text/plain": [
       "<AxesSubplot:ylabel='None'>"
      ]
     },
     "execution_count": 12,
     "metadata": {},
     "output_type": "execute_result"
    },
    {
     "data": {
      "image/png": "[encoded data removed]",
      "text/plain": [
       "<Figure size 432x288 with 1 Axes>"
      ]
     },
     "metadata": {},
     "output_type": "display_data"
    }
   ],
   "source": [
    "pcts=data.mean()\n",
    "pcts.plot(kind = 'pie',autopct='%1.2f%%')"
   ]
  },
  {
   "cell_type": "code",
   "execution_count": 12,
   "metadata": {
    "id": "PhB-yeM13fsH"
   },
   "outputs": [],
   "source": [
    "img_size={'height': 960,\n",
    "         'width': 1280 }"
   ]
  },
  {
   "cell_type": "code",
   "execution_count": 13,
   "metadata": {
    "colab": {
     "base_uri": "https://localhost:8080/"
    },
    "id": "sxqXxaPl39Wy",
    "outputId": "9eda7fac-9cd4-4a46-bd88-387ef12ed640"
   },
   "outputs": [
    {
     "data": {
      "text/plain": [
       "(325, 7)"
      ]
     },
     "execution_count": 13,
     "metadata": {},
     "output_type": "execute_result"
    }
   ],
   "source": [
    "data.shape"
   ]
  },
  {
   "cell_type": "code",
   "execution_count": 14,
   "metadata": {
    "id": "u9BVWB3Kzxie"
   },
   "outputs": [],
   "source": [
    "path='paths/'\n",
    "data_path=data.path_image.apply(lambda x: path +x).values"
   ]
  },
  {
   "cell_type": "code",
   "execution_count": 15,
   "metadata": {},
   "outputs": [
    {
     "name": "stdout",
     "output_type": "stream",
     "text": [
      "(1280, 958, 3)\n"
     ]
    },
    {
     "data": {
      "text/plain": [
       "<matplotlib.image.AxesImage at 0x20c57ccb670>"
      ]
     },
     "execution_count": 15,
     "metadata": {},
     "output_type": "execute_result"
    },
    {
     "data": {
      "image/png": "[encoded data removed]",
      "text/plain": [
       "<Figure size 432x288 with 1 Axes>"
      ]
     },
     "metadata": {
      "needs_background": "light"
     },
     "output_type": "display_data"
    }
   ],
   "source": [
    "from matplotlib import pyplot as plt\n",
    "\n",
    "img = plt.imread(path+'new_data1.jpeg')\n",
    "print(img.shape)\n",
    "plt.imshow(img)"
   ]
  },
  {
   "cell_type": "code",
   "execution_count": 16,
   "metadata": {
    "colab": {
     "base_uri": "https://localhost:8080/"
    },
    "id": "vUVSHnWrz7sF",
    "outputId": "6d783025-81f4-4fbd-df18-f97a6e1a60a4"
   },
   "outputs": [
    {
     "data": {
      "text/plain": [
       "array(['paths/new_data0.jpeg', 'paths/new_data1.jpeg',\n",
       "       'paths/new_data2.jpeg', 'paths/new_data3.jpeg',\n",
       "       'paths/new_data4.jpeg', 'paths/new_data5.jpeg',\n",
       "       'paths/new_data6.jpeg', 'paths/new_data7.jpeg',\n",
       "       'paths/new_data8.jpeg', 'paths/new_data9.jpeg',\n",
       "       'paths/new_data10.jpeg', 'paths/new_data11.jpeg',\n",
       "       'paths/new_data12.jpeg', 'paths/new_data13.jpeg',\n",
       "       'paths/new_data14.jpeg', 'paths/new_data15.jpeg',\n",
       "       'paths/new_data16.jpeg', 'paths/new_data17.jpeg',\n",
       "       'paths/new_data18.jpeg', 'paths/new_data19.jpeg',\n",
       "       'paths/new_data20.jpeg', 'paths/new_data21.jpeg',\n",
       "       'paths/new_data22.jpeg', 'paths/new_data23.jpeg',\n",
       "       'paths/new_data24.jpeg', 'paths/new_data25.jpeg',\n",
       "       'paths/new_data26.jpeg', 'paths/new_data27.jpeg',\n",
       "       'paths/new_data28.jpeg', 'paths/new_data29.jpeg',\n",
       "       'paths/new_data30.jpeg', 'paths/new_data31.jpeg',\n",
       "       'paths/new_data32.jpeg', 'paths/new_data33.jpeg',\n",
       "       'paths/new_data34.jpeg', 'paths/new_data35.jpeg',\n",
       "       'paths/new_data36.jpeg', 'paths/new_data37.jpeg',\n",
       "       'paths/new_data38.jpeg', 'paths/new_data39.jpeg',\n",
       "       'paths/new_data40.jpeg', 'paths/new_data41.jpeg',\n",
       "       'paths/new_data42.jpeg', 'paths/new_data43.jpeg',\n",
       "       'paths/new_data44.jpeg', 'paths/new_data45.jpeg',\n",
       "       'paths/new_data46.jpeg', 'paths/new_data47.jpeg',\n",
       "       'paths/new_data48.jpeg', 'paths/new_data49.jpeg',\n",
       "       'paths/new_data50.jpeg', 'paths/new_data51.jpeg',\n",
       "       'paths/new_data52.jpeg', 'paths/new_data53.jpeg',\n",
       "       'paths/new_data54.jpeg', 'paths/new_data55.jpeg',\n",
       "       'paths/new_data56.jpeg', 'paths/new_data57.jpeg',\n",
       "       'paths/new_data58.jpeg', 'paths/new_data59.jpeg',\n",
       "       'paths/new_data60.jpeg', 'paths/new_data61.jpeg',\n",
       "       'paths/new_data62.jpeg', 'paths/new_data63.jpeg',\n",
       "       'paths/new_data64.jpeg', 'paths/new_data65.jpeg',\n",
       "       'paths/new_data66.jpeg', 'paths/new_data67.jpeg',\n",
       "       'paths/new_data68.jpeg', 'paths/new_data69.jpeg',\n",
       "       'paths/new_data70.jpeg', 'paths/new_data71.jpeg',\n",
       "       'paths/new_data72.jpeg', 'paths/new_data73.jpeg',\n",
       "       'paths/new_data74.jpeg', 'paths/new_data75.jpeg',\n",
       "       'paths/new_data76.jpeg', 'paths/new_data77.jpeg',\n",
       "       'paths/new_data78.jpeg', 'paths/new_data79.jpeg',\n",
       "       'paths/new_data80.jpeg', 'paths/new_data81.jpeg',\n",
       "       'paths/new_data82.jpeg', 'paths/new_data83.jpeg',\n",
       "       'paths/new_data84.jpeg', 'paths/new_data85.jpeg',\n",
       "       'paths/new_data86.jpeg', 'paths/new_data87.jpeg',\n",
       "       'paths/new_data88.jpeg', 'paths/new_data89.jpeg',\n",
       "       'paths/new_data90.jpeg', 'paths/new_data91.jpeg',\n",
       "       'paths/new_data92.jpeg', 'paths/new_data93.jpeg',\n",
       "       'paths/new_data94.jpeg', 'paths/new_data95.jpeg',\n",
       "       'paths/new_data96.jpeg', 'paths/new_data97.jpeg',\n",
       "       'paths/new_data98.jpeg', 'paths/new_data99.jpeg',\n",
       "       'paths/new_data100.jpeg', 'paths/new_data101.jpeg',\n",
       "       'paths/new_data102.jpeg', 'paths/new_data103.jpeg',\n",
       "       'paths/new_data104.jpeg', 'paths/new_data105.jpeg',\n",
       "       'paths/new_data106.jpeg', 'paths/new_data107.jpeg',\n",
       "       'paths/new_data108.jpeg', 'paths/new_data109.jpeg',\n",
       "       'paths/new_data137.jpeg', 'paths/new_data138.jpeg',\n",
       "       'paths/new_data139.jpeg', 'paths/new_data140.jpeg',\n",
       "       'paths/new_data141.jpeg', 'paths/new_data142.jpeg',\n",
       "       'paths/new_data143.jpeg', 'paths/new_data144.jpeg',\n",
       "       'paths/new_data145.jpeg', 'paths/new_data146.jpeg',\n",
       "       'paths/new_data147.jpeg', 'paths/new_data148.jpeg',\n",
       "       'paths/new_data149.jpeg', 'paths/new_data150.jpeg',\n",
       "       'paths/new_data151.jpeg', 'paths/new_data152.jpeg',\n",
       "       'paths/new_data153.jpeg', 'paths/new_data154.jpeg',\n",
       "       'paths/new_data155.jpeg', 'paths/new_data156.jpeg',\n",
       "       'paths/new_data157.jpeg', 'paths/new_data158.jpeg',\n",
       "       'paths/new_data159.jpeg', 'paths/new_data160.jpeg',\n",
       "       'paths/new_data161.jpeg', 'paths/new_data162.jpeg',\n",
       "       'paths/new_data163.jpeg', 'paths/new_data164.jpeg',\n",
       "       'paths/new_data165.jpeg', 'paths/new_data166.jpeg',\n",
       "       'paths/new_data167.jpeg', 'paths/new_data168.jpeg',\n",
       "       'paths/new_data169.jpeg', 'paths/new_data170.jpeg',\n",
       "       'paths/new_data171.jpeg', 'paths/new_data172.jpeg',\n",
       "       'paths/new_data173.jpeg', 'paths/new_data174.jpeg',\n",
       "       'paths/new_data175.jpeg', 'paths/new_data176.jpeg',\n",
       "       'paths/new_data177.jpeg', 'paths/new_data178.jpeg',\n",
       "       'paths/new_data179.jpeg', 'paths/new_data180.jpeg',\n",
       "       'paths/new_data181.jpeg', 'paths/new_data182.jpeg',\n",
       "       'paths/new_data183.jpeg', 'paths/new_data184.jpeg',\n",
       "       'paths/new_data185.jpeg', 'paths/new_data186.jpeg',\n",
       "       'paths/new_data187.jpeg', 'paths/new_data188.jpeg',\n",
       "       'paths/new_data189.jpeg', 'paths/new_data190.jpeg',\n",
       "       'paths/new_data191.jpeg', 'paths/new_data192.jpeg',\n",
       "       'paths/new_data193.jpeg', 'paths/new_data194.jpeg',\n",
       "       'paths/new_data195.jpeg', 'paths/new_data196.jpeg',\n",
       "       'paths/new_data197.jpeg', 'paths/new_data198.jpeg',\n",
       "       'paths/new_data199.jpeg', 'paths/new_data200.jpeg',\n",
       "       'paths/new_data201.jpeg', 'paths/new_data202.jpeg',\n",
       "       'paths/new_data203.jpeg', 'paths/new_data204.jpeg',\n",
       "       'paths/new_data205.jpeg', 'paths/new_data206.jpeg',\n",
       "       'paths/new_data207.jpeg', 'paths/new_data208.jpeg',\n",
       "       'paths/new_data209.jpeg', 'paths/new_data210.jpeg',\n",
       "       'paths/new_data211.jpeg', 'paths/new_data212.jpeg',\n",
       "       'paths/new_data213.jpeg', 'paths/new_data214.jpeg',\n",
       "       'paths/new_data215.jpeg', 'paths/new_data216.jpeg',\n",
       "       'paths/new_data217.jpeg', 'paths/new_data218.jpeg',\n",
       "       'paths/new_data219.jpeg', 'paths/new_data220.jpeg',\n",
       "       'paths/new_data221.jpeg', 'paths/new_data222.jpeg',\n",
       "       'paths/new_data223.jpeg', 'paths/new_data224.jpeg',\n",
       "       'paths/new_data225.jpeg', 'paths/new_data226.jpeg',\n",
       "       'paths/new_data227.jpeg', 'paths/new_data228.jpeg',\n",
       "       'paths/new_data229.jpeg', 'paths/new_data230.jpeg',\n",
       "       'paths/new_data231.jpeg', 'paths/new_data232.jpeg',\n",
       "       'paths/new_data233.jpeg', 'paths/new_data234.jpeg',\n",
       "       'paths/new_data235.jpeg', 'paths/new_data236.jpeg',\n",
       "       'paths/new_data237.jpeg', 'paths/new_data238.jpeg',\n",
       "       'paths/new_data239.jpeg', 'paths/new_data240.jpeg',\n",
       "       'paths/new_data241.jpeg', 'paths/new_data242.jpeg',\n",
       "       'paths/new_data243.jpeg', 'paths/new_data244.jpeg',\n",
       "       'paths/new_data245.jpeg', 'paths/new_data246.jpeg',\n",
       "       'paths/new_data247.jpeg', 'paths/new_data248.jpeg',\n",
       "       'paths/new_data249.jpeg', 'paths/new_data250.jpeg',\n",
       "       'paths/new_data251.jpeg', 'paths/new_data252.jpeg',\n",
       "       'paths/new_data253.jpeg', 'paths/new_data254.jpeg',\n",
       "       'paths/new_data255.jpeg', 'paths/new_data256.jpeg',\n",
       "       'paths/new_data257.jpeg', 'paths/new_data258.jpeg',\n",
       "       'paths/new_data259.jpeg', 'paths/new_data260.jpeg',\n",
       "       'paths/new_data261.jpeg', 'paths/new_data262.jpeg',\n",
       "       'paths/new_data263.jpeg', 'paths/new_data264.jpeg',\n",
       "       'paths/new_data265.jpeg', 'paths/new_data266.jpeg',\n",
       "       'paths/new_data267.jpeg', 'paths/new_data268.jpeg',\n",
       "       'paths/new_data269.jpeg', 'paths/new_data270.jpeg',\n",
       "       'paths/new_data271.jpeg', 'paths/new_data272.jpeg',\n",
       "       'paths/new_data273.jpeg', 'paths/new_data274.jpeg',\n",
       "       'paths/new_data275.jpeg', 'paths/new_data276.jpeg',\n",
       "       'paths/new_data277.jpeg', 'paths/new_data278.jpeg',\n",
       "       'paths/new_data279.jpeg', 'paths/new_data280.jpeg',\n",
       "       'paths/new_data281.jpeg', 'paths/new_data282.jpeg',\n",
       "       'paths/new_data283.jpeg', 'paths/new_data284.jpeg',\n",
       "       'paths/new_data285.jpeg', 'paths/new_data286.jpeg',\n",
       "       'paths/new_data287.jpeg', 'paths/new_data288.jpeg',\n",
       "       'paths/new_data289.jpeg', 'paths/new_data290.jpeg',\n",
       "       'paths/new_data291.jpeg', 'paths/new_data292.jpeg',\n",
       "       'paths/new_data293.jpeg', 'paths/new_data294.jpeg',\n",
       "       'paths/new_data295.jpeg', 'paths/new_data296.jpeg',\n",
       "       'paths/new_data297.jpeg', 'paths/new_data298.jpeg',\n",
       "       'paths/new_data299.jpeg', 'paths/new_data300.jpeg',\n",
       "       'paths/new_data301.jpeg', 'paths/new_data302.jpeg',\n",
       "       'paths/new_data303.jpeg', 'paths/new_data304.jpeg',\n",
       "       'paths/new_data305.jpeg', 'paths/new_data306.jpeg',\n",
       "       'paths/new_data307.jpeg', 'paths/new_data308.jpeg',\n",
       "       'paths/new_data309.jpeg', 'paths/new_data310.jpeg',\n",
       "       'paths/new_data311.jpeg', 'paths/new_data345.jpeg',\n",
       "       'paths/new_data346.jpeg', 'paths/new_data347.jpeg',\n",
       "       'paths/new_data348.jpeg', 'paths/new_data349.jpeg',\n",
       "       'paths/new_data350.jpeg', 'paths/new_data351.jpeg',\n",
       "       'paths/new_data352.jpeg', 'paths/new_data353.jpeg',\n",
       "       'paths/new_data354.jpeg', 'paths/new_data355.jpeg',\n",
       "       'paths/new_data356.jpeg', 'paths/new_data357.jpeg',\n",
       "       'paths/new_data358.jpeg', 'paths/new_data359.jpeg',\n",
       "       'paths/new_data360.jpeg', 'paths/new_data361.jpeg',\n",
       "       'paths/new_data362.jpeg', 'paths/new_data363.jpeg',\n",
       "       'paths/new_data364.jpeg', 'paths/new_data365.jpeg',\n",
       "       'paths/new_data366.jpeg', 'paths/new_data367.jpeg',\n",
       "       'paths/new_data368.jpeg', 'paths/new_data369.jpeg',\n",
       "       'paths/new_data370.jpeg', 'paths/new_data371.jpeg',\n",
       "       'paths/new_data372.jpeg', 'paths/new_data373.jpeg',\n",
       "       'paths/new_data374.jpeg', 'paths/new_data375.jpeg',\n",
       "       'paths/new_data376.jpeg', 'paths/new_data377.jpeg',\n",
       "       'paths/new_data378.jpeg', 'paths/new_data379.jpeg',\n",
       "       'paths/new_data380.jpeg', 'paths/new_data381.jpeg',\n",
       "       'paths/new_data382.jpeg', 'paths/new_data383.jpeg',\n",
       "       'paths/new_data384.jpeg'], dtype=object)"
      ]
     },
     "execution_count": 16,
     "metadata": {},
     "output_type": "execute_result"
    }
   ],
   "source": [
    "data_path"
   ]
  },
  {
   "cell_type": "code",
   "execution_count": 17,
   "metadata": {
    "id": "NbgUZOg3xd2a"
   },
   "outputs": [],
   "source": [
    "data_labels = data.loc[:, ['acariens', 'chancre fusicocum', 'faux tigre','othyorinques', 'polystigma', 'rouille']].values"
   ]
  },
  {
   "cell_type": "code",
   "execution_count": 19,
   "metadata": {},
   "outputs": [],
   "source": [
    "train_paths, test_paths, train_labels, test_labels =train_test_split(data_path, data_labels, test_size=0.2, random_state=42)\n"
   ]
  },
  {
   "cell_type": "code",
   "execution_count": 53,
   "metadata": {},
   "outputs": [
    {
     "data": {
      "text/plain": [
       "65"
      ]
     },
     "execution_count": 53,
     "metadata": {},
     "output_type": "execute_result"
    }
   ],
   "source": [
    "len(test_paths)"
   ]
  },
  {
   "cell_type": "code",
   "execution_count": 20,
   "metadata": {
    "id": "xlhCw2Vl4YqQ"
   },
   "outputs": [],
   "source": [
    "IMG_SIZE=300\n",
    "def decode_image(filename, label=None, IMG_SIZE=(IMG_SIZE, IMG_SIZE)):\n",
    "    bits = tf.io.read_file(filename)\n",
    "    image = tf.image.decode_jpeg(bits, channels=3)\n",
    "    image = tf.cast(image, tf.float32) / 255.0\n",
    "    image = tf.image.resize(image, IMG_SIZE)\n",
    "    \n",
    "    if label is None:\n",
    "        return image\n",
    "    else:\n",
    "        return image, label\n",
    "\n",
    "\n",
    "def data_augment(image, label=None):\n",
    "    image = tf.image.random_flip_left_right(image)\n",
    "    image = tf.image.random_flip_up_down(image)\n",
    "    \n",
    "    if label is None:\n",
    "        return image\n",
    "    else:\n",
    "        return image, label"
   ]
  },
  {
   "cell_type": "code",
   "execution_count": 41,
   "metadata": {
    "id": "rQSYB8F24fUX"
   },
   "outputs": [],
   "source": [
    "BATCH_SIZE = 16\n",
    "\n",
    "train_dataset = (\n",
    "tf.data.Dataset\n",
    "    .from_tensor_slices((train_paths, train_labels))\n",
    "    .map(decode_image, num_parallel_calls=AUTO)\n",
    "    .cache()\n",
    "    .map(data_augment, num_parallel_calls=AUTO)\n",
    "    .repeat()\n",
    "    .shuffle(512)\n",
    "    .batch(BATCH_SIZE)\n",
    "    .prefetch(AUTO)\n",
    ")\n",
    "test_dataset = (\n",
    "    tf.data.Dataset\n",
    "    .from_tensor_slices((test_paths,test_labels))\n",
    "    .map(decode_image, num_parallel_calls=AUTO)\n",
    "    .map(data_augment, num_parallel_calls=AUTO)\n",
    "    .batch(BATCH_SIZE)\n",
    "    \n",
    ")"
   ]
  },
  {
   "cell_type": "code",
   "execution_count": 42,
   "metadata": {
    "id": "l9jDTNEY6uGC"
   },
   "outputs": [],
   "source": [
    "LR_START = 0.0001\n",
    "LR_MAX = 0.00005 \n",
    "LR_MIN = 0.0001\n",
    "LR_RAMPUP_EPOCHS = 4\n",
    "LR_SUSTAIN_EPOCHS = 6\n",
    "LR_EXP_DECAY = .8\n",
    "\n",
    "def lrfn(epoch):\n",
    "    if epoch < LR_RAMPUP_EPOCHS:\n",
    "        lr = (LR_MAX - LR_START) / LR_RAMPUP_EPOCHS * epoch + LR_START\n",
    "    elif epoch < LR_RAMPUP_EPOCHS + LR_SUSTAIN_EPOCHS:\n",
    "        lr = LR_MAX\n",
    "    else:\n",
    "        lr = (LR_MAX - LR_MIN) * LR_EXP_DECAY**(epoch - LR_RAMPUP_EPOCHS - LR_SUSTAIN_EPOCHS) + LR_MIN\n",
    "    return lr\n",
    "    \n",
    "lr_callback = tf.keras.callbacks.LearningRateScheduler(lrfn, verbose=True)"
   ]
  },
  {
   "cell_type": "code",
   "execution_count": 86,
   "metadata": {},
   "outputs": [],
   "source": [
    "from tensorflow.keras.applications import Xception\n",
    "from tensorflow.keras.models import Model\n",
    "from tensorflow import keras\n",
    "\n",
    "Dense_net = keras.models.load_model('/modelll/model')\n",
    "Dense_net.trainable=False"
   ]
  },
  {
   "cell_type": "code",
   "execution_count": 89,
   "metadata": {
    "colab": {
     "base_uri": "https://localhost:8080/",
     "height": 458
    },
    "id": "u1cu0pN-7XNZ",
    "outputId": "fb346f0b-6717-44bf-b738-87aa6357360f"
   },
   "outputs": [],
   "source": [
    "x = Dense_net.get_layer(\"global_average_pooling2d_3\").output\n",
    "x.trainable=False\n",
    "x = tf.keras.layers.Dense(1024, activation='softmax')(x)\n",
    "x = tf.keras.layers.Dense(6, activation='softmax')(x)\n",
    "model = keras.Model(inputs = Dense_net.input,outputs=x)\n",
    "model.compile( optimizer= 'adam',loss=\"categorical_crossentropy\", metrics=[\"accuracy\"])"
   ]
  },
  {
   "cell_type": "code",
   "execution_count": 90,
   "metadata": {},
   "outputs": [
    {
     "name": "stdout",
     "output_type": "stream",
     "text": [
      "Model: \"model_7\"\n",
      "__________________________________________________________________________________________________\n",
      "Layer (type)                    Output Shape         Param #     Connected to                     \n",
      "==================================================================================================\n",
      "input_33 (InputLayer)           [(None, 300, 300, 3) 0                                            \n",
      "__________________________________________________________________________________________________\n",
      "block1_conv1 (Conv2D)           (None, 149, 149, 32) 864         input_33[0][0]                   \n",
      "__________________________________________________________________________________________________\n",
      "block1_conv1_bn (BatchNormaliza (None, 149, 149, 32) 128         block1_conv1[0][0]               \n",
      "__________________________________________________________________________________________________\n",
      "block1_conv1_act (Activation)   (None, 149, 149, 32) 0           block1_conv1_bn[0][0]            \n",
      "__________________________________________________________________________________________________\n",
      "block1_conv2 (Conv2D)           (None, 147, 147, 64) 18432       block1_conv1_act[0][0]           \n",
      "__________________________________________________________________________________________________\n",
      "block1_conv2_bn (BatchNormaliza (None, 147, 147, 64) 256         block1_conv2[0][0]               \n",
      "__________________________________________________________________________________________________\n",
      "block1_conv2_act (Activation)   (None, 147, 147, 64) 0           block1_conv2_bn[0][0]            \n",
      "__________________________________________________________________________________________________\n",
      "block2_sepconv1 (SeparableConv2 (None, 147, 147, 128 8768        block1_conv2_act[0][0]           \n",
      "__________________________________________________________________________________________________\n",
      "block2_sepconv1_bn (BatchNormal (None, 147, 147, 128 512         block2_sepconv1[0][0]            \n",
      "__________________________________________________________________________________________________\n",
      "block2_sepconv2_act (Activation (None, 147, 147, 128 0           block2_sepconv1_bn[0][0]         \n",
      "__________________________________________________________________________________________________\n",
      "block2_sepconv2 (SeparableConv2 (None, 147, 147, 128 17536       block2_sepconv2_act[0][0]        \n",
      "__________________________________________________________________________________________________\n",
      "block2_sepconv2_bn (BatchNormal (None, 147, 147, 128 512         block2_sepconv2[0][0]            \n",
      "__________________________________________________________________________________________________\n",
      "conv2d_27 (Conv2D)              (None, 74, 74, 128)  8192        block1_conv2_act[0][0]           \n",
      "__________________________________________________________________________________________________\n",
      "block2_pool (MaxPooling2D)      (None, 74, 74, 128)  0           block2_sepconv2_bn[0][0]         \n",
      "__________________________________________________________________________________________________\n",
      "batch_normalization_12 (BatchNo (None, 74, 74, 128)  512         conv2d_27[0][0]                  \n",
      "__________________________________________________________________________________________________\n",
      "add_36 (Add)                    (None, 74, 74, 128)  0           block2_pool[0][0]                \n",
      "                                                                 batch_normalization_12[0][0]     \n",
      "__________________________________________________________________________________________________\n",
      "block3_sepconv1_act (Activation (None, 74, 74, 128)  0           add_36[0][0]                     \n",
      "__________________________________________________________________________________________________\n",
      "block3_sepconv1 (SeparableConv2 (None, 74, 74, 256)  33920       block3_sepconv1_act[0][0]        \n",
      "__________________________________________________________________________________________________\n",
      "block3_sepconv1_bn (BatchNormal (None, 74, 74, 256)  1024        block3_sepconv1[0][0]            \n",
      "__________________________________________________________________________________________________\n",
      "block3_sepconv2_act (Activation (None, 74, 74, 256)  0           block3_sepconv1_bn[0][0]         \n",
      "__________________________________________________________________________________________________\n",
      "block3_sepconv2 (SeparableConv2 (None, 74, 74, 256)  67840       block3_sepconv2_act[0][0]        \n",
      "__________________________________________________________________________________________________\n",
      "block3_sepconv2_bn (BatchNormal (None, 74, 74, 256)  1024        block3_sepconv2[0][0]            \n",
      "__________________________________________________________________________________________________\n",
      "conv2d_28 (Conv2D)              (None, 37, 37, 256)  32768       add_36[0][0]                     \n",
      "__________________________________________________________________________________________________\n",
      "block3_pool (MaxPooling2D)      (None, 37, 37, 256)  0           block3_sepconv2_bn[0][0]         \n",
      "__________________________________________________________________________________________________\n",
      "batch_normalization_13 (BatchNo (None, 37, 37, 256)  1024        conv2d_28[0][0]                  \n",
      "__________________________________________________________________________________________________\n",
      "add_37 (Add)                    (None, 37, 37, 256)  0           block3_pool[0][0]                \n",
      "                                                                 batch_normalization_13[0][0]     \n",
      "__________________________________________________________________________________________________\n",
      "block4_sepconv1_act (Activation (None, 37, 37, 256)  0           add_37[0][0]                     \n",
      "__________________________________________________________________________________________________\n",
      "block4_sepconv1 (SeparableConv2 (None, 37, 37, 728)  188672      block4_sepconv1_act[0][0]        \n",
      "__________________________________________________________________________________________________\n",
      "block4_sepconv1_bn (BatchNormal (None, 37, 37, 728)  2912        block4_sepconv1[0][0]            \n",
      "__________________________________________________________________________________________________\n",
      "block4_sepconv2_act (Activation (None, 37, 37, 728)  0           block4_sepconv1_bn[0][0]         \n",
      "__________________________________________________________________________________________________\n",
      "block4_sepconv2 (SeparableConv2 (None, 37, 37, 728)  536536      block4_sepconv2_act[0][0]        \n",
      "__________________________________________________________________________________________________\n",
      "block4_sepconv2_bn (BatchNormal (None, 37, 37, 728)  2912        block4_sepconv2[0][0]            \n",
      "__________________________________________________________________________________________________\n",
      "conv2d_29 (Conv2D)              (None, 19, 19, 728)  186368      add_37[0][0]                     \n",
      "__________________________________________________________________________________________________\n",
      "block4_pool (MaxPooling2D)      (None, 19, 19, 728)  0           block4_sepconv2_bn[0][0]         \n",
      "__________________________________________________________________________________________________\n",
      "batch_normalization_14 (BatchNo (None, 19, 19, 728)  2912        conv2d_29[0][0]                  \n",
      "__________________________________________________________________________________________________\n",
      "add_38 (Add)                    (None, 19, 19, 728)  0           block4_pool[0][0]                \n",
      "                                                                 batch_normalization_14[0][0]     \n",
      "__________________________________________________________________________________________________\n",
      "block5_sepconv1_act (Activation (None, 19, 19, 728)  0           add_38[0][0]                     \n",
      "__________________________________________________________________________________________________\n",
      "block5_sepconv1 (SeparableConv2 (None, 19, 19, 728)  536536      block5_sepconv1_act[0][0]        \n",
      "__________________________________________________________________________________________________\n",
      "block5_sepconv1_bn (BatchNormal (None, 19, 19, 728)  2912        block5_sepconv1[0][0]            \n",
      "__________________________________________________________________________________________________\n",
      "block5_sepconv2_act (Activation (None, 19, 19, 728)  0           block5_sepconv1_bn[0][0]         \n",
      "__________________________________________________________________________________________________\n",
      "block5_sepconv2 (SeparableConv2 (None, 19, 19, 728)  536536      block5_sepconv2_act[0][0]        \n",
      "__________________________________________________________________________________________________\n",
      "block5_sepconv2_bn (BatchNormal (None, 19, 19, 728)  2912        block5_sepconv2[0][0]            \n",
      "__________________________________________________________________________________________________\n",
      "block5_sepconv3_act (Activation (None, 19, 19, 728)  0           block5_sepconv2_bn[0][0]         \n",
      "__________________________________________________________________________________________________\n",
      "block5_sepconv3 (SeparableConv2 (None, 19, 19, 728)  536536      block5_sepconv3_act[0][0]        \n",
      "__________________________________________________________________________________________________\n",
      "block5_sepconv3_bn (BatchNormal (None, 19, 19, 728)  2912        block5_sepconv3[0][0]            \n",
      "__________________________________________________________________________________________________\n",
      "add_39 (Add)                    (None, 19, 19, 728)  0           block5_sepconv3_bn[0][0]         \n",
      "                                                                 add_38[0][0]                     \n",
      "__________________________________________________________________________________________________\n",
      "block6_sepconv1_act (Activation (None, 19, 19, 728)  0           add_39[0][0]                     \n",
      "__________________________________________________________________________________________________\n",
      "block6_sepconv1 (SeparableConv2 (None, 19, 19, 728)  536536      block6_sepconv1_act[0][0]        \n",
      "__________________________________________________________________________________________________\n",
      "block6_sepconv1_bn (BatchNormal (None, 19, 19, 728)  2912        block6_sepconv1[0][0]            \n",
      "__________________________________________________________________________________________________\n",
      "block6_sepconv2_act (Activation (None, 19, 19, 728)  0           block6_sepconv1_bn[0][0]         \n",
      "__________________________________________________________________________________________________\n",
      "block6_sepconv2 (SeparableConv2 (None, 19, 19, 728)  536536      block6_sepconv2_act[0][0]        \n",
      "__________________________________________________________________________________________________\n",
      "block6_sepconv2_bn (BatchNormal (None, 19, 19, 728)  2912        block6_sepconv2[0][0]            \n",
      "__________________________________________________________________________________________________\n",
      "block6_sepconv3_act (Activation (None, 19, 19, 728)  0           block6_sepconv2_bn[0][0]         \n",
      "__________________________________________________________________________________________________\n",
      "block6_sepconv3 (SeparableConv2 (None, 19, 19, 728)  536536      block6_sepconv3_act[0][0]        \n",
      "__________________________________________________________________________________________________\n",
      "block6_sepconv3_bn (BatchNormal (None, 19, 19, 728)  2912        block6_sepconv3[0][0]            \n",
      "__________________________________________________________________________________________________\n",
      "add_40 (Add)                    (None, 19, 19, 728)  0           block6_sepconv3_bn[0][0]         \n",
      "                                                                 add_39[0][0]                     \n",
      "__________________________________________________________________________________________________\n",
      "block7_sepconv1_act (Activation (None, 19, 19, 728)  0           add_40[0][0]                     \n",
      "__________________________________________________________________________________________________\n",
      "block7_sepconv1 (SeparableConv2 (None, 19, 19, 728)  536536      block7_sepconv1_act[0][0]        \n",
      "__________________________________________________________________________________________________\n",
      "block7_sepconv1_bn (BatchNormal (None, 19, 19, 728)  2912        block7_sepconv1[0][0]            \n",
      "__________________________________________________________________________________________________\n",
      "block7_sepconv2_act (Activation (None, 19, 19, 728)  0           block7_sepconv1_bn[0][0]         \n",
      "__________________________________________________________________________________________________\n",
      "block7_sepconv2 (SeparableConv2 (None, 19, 19, 728)  536536      block7_sepconv2_act[0][0]        \n",
      "__________________________________________________________________________________________________\n",
      "block7_sepconv2_bn (BatchNormal (None, 19, 19, 728)  2912        block7_sepconv2[0][0]            \n",
      "__________________________________________________________________________________________________\n",
      "block7_sepconv3_act (Activation (None, 19, 19, 728)  0           block7_sepconv2_bn[0][0]         \n",
      "__________________________________________________________________________________________________\n",
      "block7_sepconv3 (SeparableConv2 (None, 19, 19, 728)  536536      block7_sepconv3_act[0][0]        \n",
      "__________________________________________________________________________________________________\n",
      "block7_sepconv3_bn (BatchNormal (None, 19, 19, 728)  2912        block7_sepconv3[0][0]            \n",
      "__________________________________________________________________________________________________\n",
      "add_41 (Add)                    (None, 19, 19, 728)  0           block7_sepconv3_bn[0][0]         \n",
      "                                                                 add_40[0][0]                     \n",
      "__________________________________________________________________________________________________\n",
      "block8_sepconv1_act (Activation (None, 19, 19, 728)  0           add_41[0][0]                     \n",
      "__________________________________________________________________________________________________\n",
      "block8_sepconv1 (SeparableConv2 (None, 19, 19, 728)  536536      block8_sepconv1_act[0][0]        \n",
      "__________________________________________________________________________________________________\n",
      "block8_sepconv1_bn (BatchNormal (None, 19, 19, 728)  2912        block8_sepconv1[0][0]            \n",
      "__________________________________________________________________________________________________\n",
      "block8_sepconv2_act (Activation (None, 19, 19, 728)  0           block8_sepconv1_bn[0][0]         \n",
      "__________________________________________________________________________________________________\n",
      "block8_sepconv2 (SeparableConv2 (None, 19, 19, 728)  536536      block8_sepconv2_act[0][0]        \n",
      "__________________________________________________________________________________________________\n",
      "block8_sepconv2_bn (BatchNormal (None, 19, 19, 728)  2912        block8_sepconv2[0][0]            \n",
      "__________________________________________________________________________________________________\n",
      "block8_sepconv3_act (Activation (None, 19, 19, 728)  0           block8_sepconv2_bn[0][0]         \n",
      "__________________________________________________________________________________________________\n",
      "block8_sepconv3 (SeparableConv2 (None, 19, 19, 728)  536536      block8_sepconv3_act[0][0]        \n",
      "__________________________________________________________________________________________________\n",
      "block8_sepconv3_bn (BatchNormal (None, 19, 19, 728)  2912        block8_sepconv3[0][0]            \n",
      "__________________________________________________________________________________________________\n",
      "add_42 (Add)                    (None, 19, 19, 728)  0           block8_sepconv3_bn[0][0]         \n",
      "                                                                 add_41[0][0]                     \n",
      "__________________________________________________________________________________________________\n",
      "block9_sepconv1_act (Activation (None, 19, 19, 728)  0           add_42[0][0]                     \n",
      "__________________________________________________________________________________________________\n",
      "block9_sepconv1 (SeparableConv2 (None, 19, 19, 728)  536536      block9_sepconv1_act[0][0]        \n",
      "__________________________________________________________________________________________________\n",
      "block9_sepconv1_bn (BatchNormal (None, 19, 19, 728)  2912        block9_sepconv1[0][0]            \n",
      "__________________________________________________________________________________________________\n",
      "block9_sepconv2_act (Activation (None, 19, 19, 728)  0           block9_sepconv1_bn[0][0]         \n",
      "__________________________________________________________________________________________________\n",
      "block9_sepconv2 (SeparableConv2 (None, 19, 19, 728)  536536      block9_sepconv2_act[0][0]        \n",
      "__________________________________________________________________________________________________\n",
      "block9_sepconv2_bn (BatchNormal (None, 19, 19, 728)  2912        block9_sepconv2[0][0]            \n",
      "__________________________________________________________________________________________________\n",
      "block9_sepconv3_act (Activation (None, 19, 19, 728)  0           block9_sepconv2_bn[0][0]         \n",
      "__________________________________________________________________________________________________\n",
      "block9_sepconv3 (SeparableConv2 (None, 19, 19, 728)  536536      block9_sepconv3_act[0][0]        \n",
      "__________________________________________________________________________________________________\n",
      "block9_sepconv3_bn (BatchNormal (None, 19, 19, 728)  2912        block9_sepconv3[0][0]            \n",
      "__________________________________________________________________________________________________\n",
      "add_43 (Add)                    (None, 19, 19, 728)  0           block9_sepconv3_bn[0][0]         \n",
      "                                                                 add_42[0][0]                     \n",
      "__________________________________________________________________________________________________\n",
      "block10_sepconv1_act (Activatio (None, 19, 19, 728)  0           add_43[0][0]                     \n",
      "__________________________________________________________________________________________________\n",
      "block10_sepconv1 (SeparableConv (None, 19, 19, 728)  536536      block10_sepconv1_act[0][0]       \n",
      "__________________________________________________________________________________________________\n",
      "block10_sepconv1_bn (BatchNorma (None, 19, 19, 728)  2912        block10_sepconv1[0][0]           \n",
      "__________________________________________________________________________________________________\n",
      "block10_sepconv2_act (Activatio (None, 19, 19, 728)  0           block10_sepconv1_bn[0][0]        \n",
      "__________________________________________________________________________________________________\n",
      "block10_sepconv2 (SeparableConv (None, 19, 19, 728)  536536      block10_sepconv2_act[0][0]       \n",
      "__________________________________________________________________________________________________\n",
      "block10_sepconv2_bn (BatchNorma (None, 19, 19, 728)  2912        block10_sepconv2[0][0]           \n",
      "__________________________________________________________________________________________________\n",
      "block10_sepconv3_act (Activatio (None, 19, 19, 728)  0           block10_sepconv2_bn[0][0]        \n",
      "__________________________________________________________________________________________________\n",
      "block10_sepconv3 (SeparableConv (None, 19, 19, 728)  536536      block10_sepconv3_act[0][0]       \n",
      "__________________________________________________________________________________________________\n",
      "block10_sepconv3_bn (BatchNorma (None, 19, 19, 728)  2912        block10_sepconv3[0][0]           \n",
      "__________________________________________________________________________________________________\n",
      "add_44 (Add)                    (None, 19, 19, 728)  0           block10_sepconv3_bn[0][0]        \n",
      "                                                                 add_43[0][0]                     \n",
      "__________________________________________________________________________________________________\n",
      "block11_sepconv1_act (Activatio (None, 19, 19, 728)  0           add_44[0][0]                     \n",
      "__________________________________________________________________________________________________\n",
      "block11_sepconv1 (SeparableConv (None, 19, 19, 728)  536536      block11_sepconv1_act[0][0]       \n",
      "__________________________________________________________________________________________________\n",
      "block11_sepconv1_bn (BatchNorma (None, 19, 19, 728)  2912        block11_sepconv1[0][0]           \n",
      "__________________________________________________________________________________________________\n",
      "block11_sepconv2_act (Activatio (None, 19, 19, 728)  0           block11_sepconv1_bn[0][0]        \n",
      "__________________________________________________________________________________________________\n",
      "block11_sepconv2 (SeparableConv (None, 19, 19, 728)  536536      block11_sepconv2_act[0][0]       \n",
      "__________________________________________________________________________________________________\n",
      "block11_sepconv2_bn (BatchNorma (None, 19, 19, 728)  2912        block11_sepconv2[0][0]           \n",
      "__________________________________________________________________________________________________\n",
      "block11_sepconv3_act (Activatio (None, 19, 19, 728)  0           block11_sepconv2_bn[0][0]        \n",
      "__________________________________________________________________________________________________\n",
      "block11_sepconv3 (SeparableConv (None, 19, 19, 728)  536536      block11_sepconv3_act[0][0]       \n",
      "__________________________________________________________________________________________________\n",
      "block11_sepconv3_bn (BatchNorma (None, 19, 19, 728)  2912        block11_sepconv3[0][0]           \n",
      "__________________________________________________________________________________________________\n",
      "add_45 (Add)                    (None, 19, 19, 728)  0           block11_sepconv3_bn[0][0]        \n",
      "                                                                 add_44[0][0]                     \n",
      "__________________________________________________________________________________________________\n",
      "block12_sepconv1_act (Activatio (None, 19, 19, 728)  0           add_45[0][0]                     \n",
      "__________________________________________________________________________________________________\n",
      "block12_sepconv1 (SeparableConv (None, 19, 19, 728)  536536      block12_sepconv1_act[0][0]       \n",
      "__________________________________________________________________________________________________\n",
      "block12_sepconv1_bn (BatchNorma (None, 19, 19, 728)  2912        block12_sepconv1[0][0]           \n",
      "__________________________________________________________________________________________________\n",
      "block12_sepconv2_act (Activatio (None, 19, 19, 728)  0           block12_sepconv1_bn[0][0]        \n",
      "__________________________________________________________________________________________________\n",
      "block12_sepconv2 (SeparableConv (None, 19, 19, 728)  536536      block12_sepconv2_act[0][0]       \n",
      "__________________________________________________________________________________________________\n",
      "block12_sepconv2_bn (BatchNorma (None, 19, 19, 728)  2912        block12_sepconv2[0][0]           \n",
      "__________________________________________________________________________________________________\n",
      "block12_sepconv3_act (Activatio (None, 19, 19, 728)  0           block12_sepconv2_bn[0][0]        \n",
      "__________________________________________________________________________________________________\n",
      "block12_sepconv3 (SeparableConv (None, 19, 19, 728)  536536      block12_sepconv3_act[0][0]       \n",
      "__________________________________________________________________________________________________\n",
      "block12_sepconv3_bn (BatchNorma (None, 19, 19, 728)  2912        block12_sepconv3[0][0]           \n",
      "__________________________________________________________________________________________________\n",
      "add_46 (Add)                    (None, 19, 19, 728)  0           block12_sepconv3_bn[0][0]        \n",
      "                                                                 add_45[0][0]                     \n",
      "__________________________________________________________________________________________________\n",
      "block13_sepconv1_act (Activatio (None, 19, 19, 728)  0           add_46[0][0]                     \n",
      "__________________________________________________________________________________________________\n",
      "block13_sepconv1 (SeparableConv (None, 19, 19, 728)  536536      block13_sepconv1_act[0][0]       \n",
      "__________________________________________________________________________________________________\n",
      "block13_sepconv1_bn (BatchNorma (None, 19, 19, 728)  2912        block13_sepconv1[0][0]           \n",
      "__________________________________________________________________________________________________\n",
      "block13_sepconv2_act (Activatio (None, 19, 19, 728)  0           block13_sepconv1_bn[0][0]        \n",
      "__________________________________________________________________________________________________\n",
      "block13_sepconv2 (SeparableConv (None, 19, 19, 1024) 752024      block13_sepconv2_act[0][0]       \n",
      "__________________________________________________________________________________________________\n",
      "block13_sepconv2_bn (BatchNorma (None, 19, 19, 1024) 4096        block13_sepconv2[0][0]           \n",
      "__________________________________________________________________________________________________\n",
      "conv2d_30 (Conv2D)              (None, 10, 10, 1024) 745472      add_46[0][0]                     \n",
      "__________________________________________________________________________________________________\n",
      "block13_pool (MaxPooling2D)     (None, 10, 10, 1024) 0           block13_sepconv2_bn[0][0]        \n",
      "__________________________________________________________________________________________________\n",
      "batch_normalization_15 (BatchNo (None, 10, 10, 1024) 4096        conv2d_30[0][0]                  \n",
      "__________________________________________________________________________________________________\n",
      "add_47 (Add)                    (None, 10, 10, 1024) 0           block13_pool[0][0]               \n",
      "                                                                 batch_normalization_15[0][0]     \n",
      "__________________________________________________________________________________________________\n",
      "block14_sepconv1 (SeparableConv (None, 10, 10, 1536) 1582080     add_47[0][0]                     \n",
      "__________________________________________________________________________________________________\n",
      "block14_sepconv1_bn (BatchNorma (None, 10, 10, 1536) 6144        block14_sepconv1[0][0]           \n",
      "__________________________________________________________________________________________________\n",
      "block14_sepconv1_act (Activatio (None, 10, 10, 1536) 0           block14_sepconv1_bn[0][0]        \n",
      "__________________________________________________________________________________________________\n",
      "block14_sepconv2 (SeparableConv (None, 10, 10, 2048) 3159552     block14_sepconv1_act[0][0]       \n",
      "__________________________________________________________________________________________________\n",
      "block14_sepconv2_bn (BatchNorma (None, 10, 10, 2048) 8192        block14_sepconv2[0][0]           \n",
      "__________________________________________________________________________________________________\n",
      "block14_sepconv2_act (Activatio (None, 10, 10, 2048) 0           block14_sepconv2_bn[0][0]        \n",
      "__________________________________________________________________________________________________\n",
      "global_average_pooling2d_3 (Glo (None, 2048)         0           block14_sepconv2_act[0][0]       \n",
      "__________________________________________________________________________________________________\n",
      "dense_13 (Dense)                (None, 1024)         2098176     global_average_pooling2d_3[0][0] \n",
      "__________________________________________________________________________________________________\n",
      "dense_14 (Dense)                (None, 6)            6150        dense_13[0][0]                   \n",
      "==================================================================================================\n",
      "Total params: 22,965,806\n",
      "Trainable params: 2,104,326\n",
      "Non-trainable params: 20,861,480\n",
      "__________________________________________________________________________________________________\n"
     ]
    }
   ],
   "source": [
    "model.summary()"
   ]
  },
  {
   "cell_type": "code",
   "execution_count": 91,
   "metadata": {
    "scrolled": true
   },
   "outputs": [
    {
     "name": "stdout",
     "output_type": "stream",
     "text": [
      "Epoch 1/40\n",
      "20/20 [==============================] - 8s 264ms/step - loss: 1.7911 - accuracy: 0.2109 - val_loss: 1.7896 - val_accuracy: 0.2154\n",
      "Epoch 2/40\n",
      "20/20 [==============================] - 4s 229ms/step - loss: 1.7879 - accuracy: 0.2457 - val_loss: 1.7865 - val_accuracy: 0.2769\n",
      "Epoch 3/40\n",
      "20/20 [==============================] - 5s 231ms/step - loss: 1.7806 - accuracy: 0.2866 - val_loss: 1.7829 - val_accuracy: 0.2615\n",
      "Epoch 4/40\n",
      "20/20 [==============================] - 5s 229ms/step - loss: 1.7809 - accuracy: 0.2375 - val_loss: 1.7744 - val_accuracy: 0.2769\n",
      "Epoch 5/40\n",
      "20/20 [==============================] - 5s 231ms/step - loss: 1.7644 - accuracy: 0.3849 - val_loss: 1.7654 - val_accuracy: 0.2462\n",
      "Epoch 6/40\n",
      "20/20 [==============================] - 5s 230ms/step - loss: 1.7571 - accuracy: 0.3015 - val_loss: 1.7548 - val_accuracy: 0.2615\n",
      "Epoch 7/40\n",
      "20/20 [==============================] - 4s 227ms/step - loss: 1.7326 - accuracy: 0.3991 - val_loss: 1.7399 - val_accuracy: 0.2769\n",
      "Epoch 8/40\n",
      "20/20 [==============================] - 5s 229ms/step - loss: 1.7164 - accuracy: 0.3026 - val_loss: 1.7226 - val_accuracy: 0.2769\n",
      "Epoch 9/40\n",
      "20/20 [==============================] - 4s 228ms/step - loss: 1.7127 - accuracy: 0.3308 - val_loss: 1.7196 - val_accuracy: 0.2769\n",
      "Epoch 10/40\n",
      "20/20 [==============================] - 5s 231ms/step - loss: 1.6925 - accuracy: 0.3550 - val_loss: 1.7016 - val_accuracy: 0.2462\n",
      "Epoch 11/40\n",
      "20/20 [==============================] - 5s 232ms/step - loss: 1.6580 - accuracy: 0.4061 - val_loss: 1.6859 - val_accuracy: 0.2615\n",
      "Epoch 12/40\n",
      "20/20 [==============================] - 4s 229ms/step - loss: 1.6773 - accuracy: 0.2858 - val_loss: 1.6865 - val_accuracy: 0.2615\n",
      "Epoch 13/40\n",
      "20/20 [==============================] - 4s 228ms/step - loss: 1.6162 - accuracy: 0.3731 - val_loss: 1.6800 - val_accuracy: 0.2615\n",
      "Epoch 14/40\n",
      "20/20 [==============================] - 4s 229ms/step - loss: 1.6653 - accuracy: 0.2945 - val_loss: 1.6643 - val_accuracy: 0.2615\n",
      "Epoch 15/40\n",
      "20/20 [==============================] - 4s 228ms/step - loss: 1.6291 - accuracy: 0.4000 - val_loss: 1.6341 - val_accuracy: 0.2923\n",
      "Epoch 16/40\n",
      "20/20 [==============================] - 4s 229ms/step - loss: 1.6173 - accuracy: 0.3504 - val_loss: 1.6315 - val_accuracy: 0.2769\n",
      "Epoch 17/40\n",
      "20/20 [==============================] - 4s 229ms/step - loss: 1.6282 - accuracy: 0.2898 - val_loss: 1.6408 - val_accuracy: 0.2615\n",
      "Epoch 18/40\n",
      "20/20 [==============================] - 5s 231ms/step - loss: 1.6386 - accuracy: 0.3075 - val_loss: 1.6158 - val_accuracy: 0.2769\n",
      "Epoch 19/40\n",
      "20/20 [==============================] - 5s 232ms/step - loss: 1.5482 - accuracy: 0.3834 - val_loss: 1.6231 - val_accuracy: 0.2769\n",
      "Epoch 20/40\n",
      "20/20 [==============================] - 4s 229ms/step - loss: 1.5771 - accuracy: 0.3547 - val_loss: 1.6037 - val_accuracy: 0.2615\n",
      "Epoch 21/40\n",
      "20/20 [==============================] - 5s 230ms/step - loss: 1.5771 - accuracy: 0.3969 - val_loss: 1.5873 - val_accuracy: 0.2769\n",
      "Epoch 22/40\n",
      "20/20 [==============================] - 4s 229ms/step - loss: 1.5554 - accuracy: 0.3213 - val_loss: 1.5409 - val_accuracy: 0.2923\n",
      "Epoch 23/40\n",
      "20/20 [==============================] - 4s 228ms/step - loss: 1.5409 - accuracy: 0.3636 - val_loss: 1.5659 - val_accuracy: 0.2923\n",
      "Epoch 24/40\n",
      "20/20 [==============================] - 5s 232ms/step - loss: 1.5449 - accuracy: 0.2774 - val_loss: 1.5684 - val_accuracy: 0.2615\n",
      "Epoch 25/40\n",
      "20/20 [==============================] - 5s 230ms/step - loss: 1.5199 - accuracy: 0.3738 - val_loss: 1.5660 - val_accuracy: 0.3077\n",
      "Epoch 26/40\n",
      "20/20 [==============================] - 5s 232ms/step - loss: 1.5127 - accuracy: 0.3895 - val_loss: 1.5479 - val_accuracy: 0.2769\n",
      "Epoch 27/40\n",
      "20/20 [==============================] - 4s 228ms/step - loss: 1.5194 - accuracy: 0.3483 - val_loss: 1.5622 - val_accuracy: 0.3077\n",
      "Epoch 28/40\n",
      "20/20 [==============================] - 5s 229ms/step - loss: 1.5046 - accuracy: 0.3565 - val_loss: 1.5238 - val_accuracy: 0.2923\n",
      "Epoch 29/40\n",
      "20/20 [==============================] - 5s 232ms/step - loss: 1.5388 - accuracy: 0.3778 - val_loss: 1.5561 - val_accuracy: 0.3231\n",
      "Epoch 30/40\n",
      "20/20 [==============================] - 5s 233ms/step - loss: 1.4974 - accuracy: 0.3930 - val_loss: 1.5524 - val_accuracy: 0.3077\n",
      "Epoch 31/40\n",
      "20/20 [==============================] - 5s 231ms/step - loss: 1.5271 - accuracy: 0.3322 - val_loss: 1.5343 - val_accuracy: 0.2923\n",
      "Epoch 32/40\n",
      "20/20 [==============================] - 5s 231ms/step - loss: 1.4877 - accuracy: 0.3541 - val_loss: 1.5229 - val_accuracy: 0.2923\n",
      "Epoch 33/40\n",
      "20/20 [==============================] - 4s 229ms/step - loss: 1.5089 - accuracy: 0.3659 - val_loss: 1.5207 - val_accuracy: 0.2923\n",
      "Epoch 34/40\n",
      "20/20 [==============================] - 5s 231ms/step - loss: 1.4817 - accuracy: 0.3619 - val_loss: 1.5306 - val_accuracy: 0.3077\n",
      "Epoch 35/40\n",
      "20/20 [==============================] - 5s 235ms/step - loss: 1.4358 - accuracy: 0.4326 - val_loss: 1.5462 - val_accuracy: 0.3385\n",
      "Epoch 36/40\n",
      "20/20 [==============================] - 5s 232ms/step - loss: 1.5022 - accuracy: 0.3215 - val_loss: 1.5374 - val_accuracy: 0.3077\n",
      "Epoch 37/40\n",
      "20/20 [==============================] - 5s 231ms/step - loss: 1.4801 - accuracy: 0.3690 - val_loss: 1.5330 - val_accuracy: 0.2769\n",
      "Epoch 38/40\n",
      "20/20 [==============================] - 5s 234ms/step - loss: 1.4849 - accuracy: 0.3652 - val_loss: 1.4924 - val_accuracy: 0.3231\n",
      "Epoch 39/40\n",
      "20/20 [==============================] - 5s 236ms/step - loss: 1.4628 - accuracy: 0.3334 - val_loss: 1.5248 - val_accuracy: 0.3385\n",
      "Epoch 40/40\n",
      "20/20 [==============================] - 5s 236ms/step - loss: 1.4908 - accuracy: 0.4185 - val_loss: 1.5095 - val_accuracy: 0.3077\n"
     ]
    }
   ],
   "source": [
    "history=model.fit(\n",
    "    train_dataset,\n",
    "    steps_per_epoch=data_labels.shape[0] // BATCH_SIZE,\n",
    "    epochs=40,\n",
    "    validation_data=test_dataset\n",
    "    )"
   ]
  },
  {
   "cell_type": "code",
   "execution_count": 92,
   "metadata": {
    "id": "o3dnottQ-aH_"
   },
   "outputs": [],
   "source": [
    "def display_training_curves(training, validation, title, subplot):\n",
    "    if subplot%10==1: # set up the subplots on the first call\n",
    "        plt.subplots(figsize=(10,10), facecolor='#F0F0F0')\n",
    "        #plt.tight_layout()\n",
    "    ax = plt.subplot(subplot)\n",
    "    ax.set_facecolor('#F8F8F8')\n",
    "    ax.plot(training)\n",
    "    ax.plot(validation)\n",
    "    ax.set_title('model '+ title)\n",
    "    ax.set_ylabel(title)\n",
    "    #ax.set_ylim(0.28,1.05)\n",
    "    ax.set_xlabel('epoch')\n",
    "    ax.legend(['train', 'valid.'])"
   ]
  },
  {
   "cell_type": "code",
   "execution_count": 93,
   "metadata": {},
   "outputs": [
    {
     "data": {
      "image/png": "[encoded data removed]",
      "text/plain": [
       "<Figure size 720x720 with 2 Axes>"
      ]
     },
     "metadata": {},
     "output_type": "display_data"
    }
   ],
   "source": [
    "display_training_curves(history.history['accuracy'][1:], history.history['val_accuracy'][1:], 'accuracy', 211)\n",
    "display_training_curves(history.history['loss'][1:], history.history['val_loss'][1:], 'loss', 212)"
   ]
  },
  {
   "cell_type": "code",
   "execution_count": 94,
   "metadata": {},
   "outputs": [
    {
     "name": "stdout",
     "output_type": "stream",
     "text": [
      "Evaluate on test data\n",
      "5/5 [==============================] - 2s 128ms/step - loss: 1.5177 - accuracy: 0.3231\n",
      "new loss, new acc: [1.5176913738250732, 0.32307693362236023]\n"
     ]
    }
   ],
   "source": [
    "print(\"Evaluate on test data\")\n",
    "results = model.evaluate(test_dataset, batch_size=16)\n",
    "print(\"new loss, new acc:\", results)"
   ]
  },
  {
   "cell_type": "code",
   "execution_count": 56,
   "metadata": {},
   "outputs": [],
   "source": [
    "import numpy as np\n",
    "\n",
    "from sklearn.metrics import classification_report, confusion_matrix"
   ]
  },
  {
   "cell_type": "code",
   "execution_count": 74,
   "metadata": {},
   "outputs": [
    {
     "data": {
      "text/plain": [
       "array([0.10257314, 0.49340144, 0.09358095, 0.08707107, 0.12027925,\n",
       "       0.10309414], dtype=float32)"
      ]
     },
     "execution_count": 74,
     "metadata": {},
     "output_type": "execute_result"
    }
   ],
   "source": [
    "rounded_predictions = model.predict(test_dataset, batch_size=16, verbose=0)\n",
    "rounded_predictions[1]"
   ]
  },
  {
   "cell_type": "code",
   "execution_count": 78,
   "metadata": {},
   "outputs": [
    {
     "data": {
      "text/plain": [
       "1"
      ]
     },
     "execution_count": 78,
     "metadata": {},
     "output_type": "execute_result"
    }
   ],
   "source": [
    "import numpy as np\n",
    "rounded_labels=np.argmax(test_labels, axis=1)\n",
    "rounded_labels[1]"
   ]
  },
  {
   "cell_type": "code",
   "execution_count": 79,
   "metadata": {},
   "outputs": [
    {
     "ename": "ValueError",
     "evalue": "Classification metrics can't handle a mix of multiclass and continuous-multioutput targets",
     "output_type": "error",
     "traceback": [
      "\u001b[1;31m---------------------------------------------------------------------------\u001b[0m",
      "\u001b[1;31mValueError\u001b[0m                                Traceback (most recent call last)",
      "\u001b[1;32m<ipython-input-79-3811c295d16a>\u001b[0m in \u001b[0;36m<module>\u001b[1;34m\u001b[0m\n\u001b[0;32m      1\u001b[0m \u001b[1;32mfrom\u001b[0m \u001b[0msklearn\u001b[0m\u001b[1;33m.\u001b[0m\u001b[0mmetrics\u001b[0m \u001b[1;32mimport\u001b[0m \u001b[0mconfusion_matrix\u001b[0m\u001b[1;33m\u001b[0m\u001b[1;33m\u001b[0m\u001b[0m\n\u001b[1;32m----> 2\u001b[1;33m \u001b[0mcm\u001b[0m \u001b[1;33m=\u001b[0m \u001b[0mconfusion_matrix\u001b[0m\u001b[1;33m(\u001b[0m\u001b[0mrounded_labels\u001b[0m\u001b[1;33m,\u001b[0m \u001b[0mrounded_predictions\u001b[0m\u001b[1;33m)\u001b[0m\u001b[1;33m\u001b[0m\u001b[1;33m\u001b[0m\u001b[0m\n\u001b[0m\u001b[0;32m      3\u001b[0m \u001b[0mcm\u001b[0m\u001b[1;33m\u001b[0m\u001b[1;33m\u001b[0m\u001b[0m\n",
      "\u001b[1;32m~\\anaconda3\\lib\\site-packages\\sklearn\\utils\\validation.py\u001b[0m in \u001b[0;36minner_f\u001b[1;34m(*args, **kwargs)\u001b[0m\n\u001b[0;32m     61\u001b[0m             \u001b[0mextra_args\u001b[0m \u001b[1;33m=\u001b[0m \u001b[0mlen\u001b[0m\u001b[1;33m(\u001b[0m\u001b[0margs\u001b[0m\u001b[1;33m)\u001b[0m \u001b[1;33m-\u001b[0m \u001b[0mlen\u001b[0m\u001b[1;33m(\u001b[0m\u001b[0mall_args\u001b[0m\u001b[1;33m)\u001b[0m\u001b[1;33m\u001b[0m\u001b[1;33m\u001b[0m\u001b[0m\n\u001b[0;32m     62\u001b[0m             \u001b[1;32mif\u001b[0m \u001b[0mextra_args\u001b[0m \u001b[1;33m<=\u001b[0m \u001b[1;36m0\u001b[0m\u001b[1;33m:\u001b[0m\u001b[1;33m\u001b[0m\u001b[1;33m\u001b[0m\u001b[0m\n\u001b[1;32m---> 63\u001b[1;33m                 \u001b[1;32mreturn\u001b[0m \u001b[0mf\u001b[0m\u001b[1;33m(\u001b[0m\u001b[1;33m*\u001b[0m\u001b[0margs\u001b[0m\u001b[1;33m,\u001b[0m \u001b[1;33m**\u001b[0m\u001b[0mkwargs\u001b[0m\u001b[1;33m)\u001b[0m\u001b[1;33m\u001b[0m\u001b[1;33m\u001b[0m\u001b[0m\n\u001b[0m\u001b[0;32m     64\u001b[0m \u001b[1;33m\u001b[0m\u001b[0m\n\u001b[0;32m     65\u001b[0m             \u001b[1;31m# extra_args > 0\u001b[0m\u001b[1;33m\u001b[0m\u001b[1;33m\u001b[0m\u001b[1;33m\u001b[0m\u001b[0m\n",
      "\u001b[1;32m~\\anaconda3\\lib\\site-packages\\sklearn\\metrics\\_classification.py\u001b[0m in \u001b[0;36mconfusion_matrix\u001b[1;34m(y_true, y_pred, labels, sample_weight, normalize)\u001b[0m\n\u001b[0;32m    297\u001b[0m \u001b[1;33m\u001b[0m\u001b[0m\n\u001b[0;32m    298\u001b[0m     \"\"\"\n\u001b[1;32m--> 299\u001b[1;33m     \u001b[0my_type\u001b[0m\u001b[1;33m,\u001b[0m \u001b[0my_true\u001b[0m\u001b[1;33m,\u001b[0m \u001b[0my_pred\u001b[0m \u001b[1;33m=\u001b[0m \u001b[0m_check_targets\u001b[0m\u001b[1;33m(\u001b[0m\u001b[0my_true\u001b[0m\u001b[1;33m,\u001b[0m \u001b[0my_pred\u001b[0m\u001b[1;33m)\u001b[0m\u001b[1;33m\u001b[0m\u001b[1;33m\u001b[0m\u001b[0m\n\u001b[0m\u001b[0;32m    300\u001b[0m     \u001b[1;32mif\u001b[0m \u001b[0my_type\u001b[0m \u001b[1;32mnot\u001b[0m \u001b[1;32min\u001b[0m \u001b[1;33m(\u001b[0m\u001b[1;34m\"binary\"\u001b[0m\u001b[1;33m,\u001b[0m \u001b[1;34m\"multiclass\"\u001b[0m\u001b[1;33m)\u001b[0m\u001b[1;33m:\u001b[0m\u001b[1;33m\u001b[0m\u001b[1;33m\u001b[0m\u001b[0m\n\u001b[0;32m    301\u001b[0m         \u001b[1;32mraise\u001b[0m \u001b[0mValueError\u001b[0m\u001b[1;33m(\u001b[0m\u001b[1;34m\"%s is not supported\"\u001b[0m \u001b[1;33m%\u001b[0m \u001b[0my_type\u001b[0m\u001b[1;33m)\u001b[0m\u001b[1;33m\u001b[0m\u001b[1;33m\u001b[0m\u001b[0m\n",
      "\u001b[1;32m~\\anaconda3\\lib\\site-packages\\sklearn\\metrics\\_classification.py\u001b[0m in \u001b[0;36m_check_targets\u001b[1;34m(y_true, y_pred)\u001b[0m\n\u001b[0;32m     90\u001b[0m \u001b[1;33m\u001b[0m\u001b[0m\n\u001b[0;32m     91\u001b[0m     \u001b[1;32mif\u001b[0m \u001b[0mlen\u001b[0m\u001b[1;33m(\u001b[0m\u001b[0my_type\u001b[0m\u001b[1;33m)\u001b[0m \u001b[1;33m>\u001b[0m \u001b[1;36m1\u001b[0m\u001b[1;33m:\u001b[0m\u001b[1;33m\u001b[0m\u001b[1;33m\u001b[0m\u001b[0m\n\u001b[1;32m---> 92\u001b[1;33m         raise ValueError(\"Classification metrics can't handle a mix of {0} \"\n\u001b[0m\u001b[0;32m     93\u001b[0m                          \"and {1} targets\".format(type_true, type_pred))\n\u001b[0;32m     94\u001b[0m \u001b[1;33m\u001b[0m\u001b[0m\n",
      "\u001b[1;31mValueError\u001b[0m: Classification metrics can't handle a mix of multiclass and continuous-multioutput targets"
     ]
    }
   ],
   "source": [
    "from sklearn.metrics import confusion_matrix\n",
    "cm = confusion_matrix(rounded_labels, rounded_predictions)\n",
    "cm"
   ]
  },
  {
   "cell_type": "code",
   "execution_count": 31,
   "metadata": {
    "scrolled": true
   },
   "outputs": [
    {
     "name": "stdout",
     "output_type": "stream",
     "text": [
      "=========input_33\n",
      "True\n",
      "=========block1_conv1\n",
      "True\n",
      "=========block1_conv1_bn\n",
      "True\n",
      "=========block1_conv1_act\n",
      "True\n",
      "=========block1_conv2\n",
      "True\n",
      "=========block1_conv2_bn\n",
      "True\n",
      "=========block1_conv2_act\n",
      "True\n",
      "=========block2_sepconv1\n",
      "True\n",
      "=========block2_sepconv1_bn\n",
      "True\n",
      "=========block2_sepconv2_act\n",
      "True\n",
      "=========block2_sepconv2\n",
      "True\n",
      "=========block2_sepconv2_bn\n",
      "True\n",
      "=========conv2d_27\n",
      "True\n",
      "=========block2_pool\n",
      "True\n",
      "=========batch_normalization_12\n",
      "True\n",
      "=========add_36\n",
      "True\n",
      "=========block3_sepconv1_act\n",
      "True\n",
      "=========block3_sepconv1\n",
      "True\n",
      "=========block3_sepconv1_bn\n",
      "True\n",
      "=========block3_sepconv2_act\n",
      "True\n",
      "=========block3_sepconv2\n",
      "True\n",
      "=========block3_sepconv2_bn\n",
      "True\n",
      "=========conv2d_28\n",
      "True\n",
      "=========block3_pool\n",
      "True\n",
      "=========batch_normalization_13\n",
      "True\n",
      "=========add_37\n",
      "True\n",
      "=========block4_sepconv1_act\n",
      "True\n",
      "=========block4_sepconv1\n",
      "True\n",
      "=========block4_sepconv1_bn\n",
      "True\n",
      "=========block4_sepconv2_act\n",
      "True\n",
      "=========block4_sepconv2\n",
      "True\n",
      "=========block4_sepconv2_bn\n",
      "True\n",
      "=========conv2d_29\n",
      "True\n",
      "=========block4_pool\n",
      "True\n",
      "=========batch_normalization_14\n",
      "True\n",
      "=========add_38\n",
      "True\n",
      "=========block5_sepconv1_act\n",
      "True\n",
      "=========block5_sepconv1\n",
      "True\n",
      "=========block5_sepconv1_bn\n",
      "True\n",
      "=========block5_sepconv2_act\n",
      "True\n",
      "=========block5_sepconv2\n",
      "True\n",
      "=========block5_sepconv2_bn\n",
      "True\n",
      "=========block5_sepconv3_act\n",
      "True\n",
      "=========block5_sepconv3\n",
      "True\n",
      "=========block5_sepconv3_bn\n",
      "True\n",
      "=========add_39\n",
      "True\n",
      "=========block6_sepconv1_act\n",
      "True\n",
      "=========block6_sepconv1\n",
      "True\n",
      "=========block6_sepconv1_bn\n",
      "True\n",
      "=========block6_sepconv2_act\n",
      "True\n",
      "=========block6_sepconv2\n",
      "True\n",
      "=========block6_sepconv2_bn\n",
      "True\n",
      "=========block6_sepconv3_act\n",
      "True\n",
      "=========block6_sepconv3\n",
      "True\n",
      "=========block6_sepconv3_bn\n",
      "True\n",
      "=========add_40\n",
      "True\n",
      "=========block7_sepconv1_act\n",
      "True\n",
      "=========block7_sepconv1\n",
      "True\n",
      "=========block7_sepconv1_bn\n",
      "True\n",
      "=========block7_sepconv2_act\n",
      "True\n",
      "=========block7_sepconv2\n",
      "True\n",
      "=========block7_sepconv2_bn\n",
      "True\n",
      "=========block7_sepconv3_act\n",
      "True\n",
      "=========block7_sepconv3\n",
      "True\n",
      "=========block7_sepconv3_bn\n",
      "True\n",
      "=========add_41\n",
      "True\n",
      "=========block8_sepconv1_act\n",
      "True\n",
      "=========block8_sepconv1\n",
      "True\n",
      "=========block8_sepconv1_bn\n",
      "True\n",
      "=========block8_sepconv2_act\n",
      "True\n",
      "=========block8_sepconv2\n",
      "True\n",
      "=========block8_sepconv2_bn\n",
      "True\n",
      "=========block8_sepconv3_act\n",
      "True\n",
      "=========block8_sepconv3\n",
      "True\n",
      "=========block8_sepconv3_bn\n",
      "True\n",
      "=========add_42\n",
      "True\n",
      "=========block9_sepconv1_act\n",
      "True\n",
      "=========block9_sepconv1\n",
      "True\n",
      "=========block9_sepconv1_bn\n",
      "True\n",
      "=========block9_sepconv2_act\n",
      "True\n",
      "=========block9_sepconv2\n",
      "True\n",
      "=========block9_sepconv2_bn\n",
      "True\n",
      "=========block9_sepconv3_act\n",
      "True\n",
      "=========block9_sepconv3\n",
      "True\n",
      "=========block9_sepconv3_bn\n",
      "True\n",
      "=========add_43\n",
      "True\n",
      "=========block10_sepconv1_act\n",
      "True\n",
      "=========block10_sepconv1\n",
      "True\n",
      "=========block10_sepconv1_bn\n",
      "True\n",
      "=========block10_sepconv2_act\n",
      "True\n",
      "=========block10_sepconv2\n",
      "True\n",
      "=========block10_sepconv2_bn\n",
      "True\n",
      "=========block10_sepconv3_act\n",
      "True\n",
      "=========block10_sepconv3\n",
      "True\n",
      "=========block10_sepconv3_bn\n",
      "True\n",
      "=========add_44\n",
      "True\n",
      "=========block11_sepconv1_act\n",
      "True\n",
      "=========block11_sepconv1\n",
      "True\n",
      "=========block11_sepconv1_bn\n",
      "True\n",
      "=========block11_sepconv2_act\n",
      "True\n",
      "=========block11_sepconv2\n",
      "True\n",
      "=========block11_sepconv2_bn\n",
      "True\n",
      "=========block11_sepconv3_act\n",
      "True\n",
      "=========block11_sepconv3\n",
      "True\n",
      "=========block11_sepconv3_bn\n",
      "True\n",
      "=========add_45\n",
      "True\n",
      "=========block12_sepconv1_act\n",
      "True\n",
      "=========block12_sepconv1\n",
      "True\n",
      "=========block12_sepconv1_bn\n",
      "True\n",
      "=========block12_sepconv2_act\n",
      "True\n",
      "=========block12_sepconv2\n",
      "True\n",
      "=========block12_sepconv2_bn\n",
      "True\n",
      "=========block12_sepconv3_act\n",
      "True\n",
      "=========block12_sepconv3\n",
      "True\n",
      "=========block12_sepconv3_bn\n",
      "True\n",
      "=========add_46\n",
      "True\n",
      "=========block13_sepconv1_act\n",
      "True\n",
      "=========block13_sepconv1\n",
      "True\n",
      "=========block13_sepconv1_bn\n",
      "True\n",
      "=========block13_sepconv2_act\n",
      "True\n",
      "=========block13_sepconv2\n",
      "True\n",
      "=========block13_sepconv2_bn\n",
      "True\n",
      "=========conv2d_30\n",
      "True\n",
      "=========block13_pool\n",
      "True\n",
      "=========batch_normalization_15\n",
      "True\n",
      "=========add_47\n",
      "True\n",
      "=========block14_sepconv1\n",
      "True\n",
      "=========block14_sepconv1_bn\n",
      "True\n",
      "=========block14_sepconv1_act\n",
      "True\n",
      "=========block14_sepconv2\n",
      "True\n",
      "=========block14_sepconv2_bn\n",
      "True\n",
      "=========block14_sepconv2_act\n",
      "True\n",
      "=========global_average_pooling2d_3\n",
      "True\n",
      "=========dense_3\n",
      "True\n",
      "=========dense_4\n",
      "True\n"
     ]
    }
   ],
   "source": [
    "\n",
    "for layer in model.layers:\n",
    "    print(\"=========\"+layer.name)\n",
    "    print(layer.trainable == True)"
   ]
  }
 ],
 "metadata": {
  "accelerator": "TPU",
  "colab": {
   "name": "new_data.ipynb",
   "provenance": []
  },
  "kernelspec": {
   "display_name": "Python 3",
   "language": "python",
   "name": "python3"
  },
  "language_info": {
   "codemirror_mode": {
    "name": "ipython",
    "version": 3
   },
   "file_extension": ".py",
   "mimetype": "text/x-python",
   "name": "python",
   "nbconvert_exporter": "python",
   "pygments_lexer": "ipython3",
   "version": "3.8.5"
  }
 },
 "nbformat": 4,
 "nbformat_minor": 1
}
