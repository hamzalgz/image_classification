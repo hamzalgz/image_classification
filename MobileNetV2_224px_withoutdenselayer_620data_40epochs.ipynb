{
 "cells": [
  {
   "cell_type": "code",
   "execution_count": 1,
   "metadata": {},
   "outputs": [],
   "source": [
    "from tensorflow.compat.v1 import ConfigProto\n",
    "from tensorflow.compat.v1 import InteractiveSession\n",
    "config = ConfigProto()\n",
    "config.gpu_options.allow_growth = True\n",
    "session = InteractiveSession(config=config)"
   ]
  },
  {
   "cell_type": "code",
   "execution_count": 2,
   "metadata": {
    "id": "rWzMYFMXb8Ez",
    "scrolled": true
   },
   "outputs": [],
   "source": [
    "import numpy as np \n",
    "import pandas as pd\n",
    "import os\n",
    "import shutil\n",
    "import cv2\n",
    "from matplotlib import pyplot as plt\n",
    "import tensorflow as tf\n",
    "from tensorflow import keras\n",
    "from tensorflow.keras.preprocessing.image import ImageDataGenerator, array_to_img, img_to_array, load_img\n",
    "from sklearn.model_selection import train_test_split\n",
    "from tensorflow.keras.models import Sequential, Model\n",
    "from tensorflow.keras.layers import Activation, Dropout, Flatten, Dense, Conv2D, MaxPooling2D, BatchNormalization\n",
    "from tensorflow.keras.optimizers import Adam\n",
    "from tensorflow.keras.regularizers import l2\n",
    "from tensorflow.keras.applications import Xception"
   ]
  },
  {
   "cell_type": "code",
   "execution_count": 3,
   "metadata": {
    "id": "yym6QEtncRGM"
   },
   "outputs": [],
   "source": [
    "df = pd.read_csv('data_llhajbbb.csv' )\n",
    "\n",
    "AUTO = tf.data.experimental.AUTOTUNE"
   ]
  },
  {
   "cell_type": "code",
   "execution_count": 4,
   "metadata": {},
   "outputs": [
    {
     "data": {
      "text/plain": [
       "Index(['image', 'lebels'], dtype='object')"
      ]
     },
     "execution_count": 4,
     "metadata": {},
     "output_type": "execute_result"
    }
   ],
   "source": [
    "df.columns"
   ]
  },
  {
   "cell_type": "code",
   "execution_count": 5,
   "metadata": {},
   "outputs": [
    {
     "data": {
      "text/html": [
       "<div>\n",
       "<style scoped>\n",
       "    .dataframe tbody tr th:only-of-type {\n",
       "        vertical-align: middle;\n",
       "    }\n",
       "\n",
       "    .dataframe tbody tr th {\n",
       "        vertical-align: top;\n",
       "    }\n",
       "\n",
       "    .dataframe thead th {\n",
       "        text-align: right;\n",
       "    }\n",
       "</style>\n",
       "<table border=\"1\" class=\"dataframe\">\n",
       "  <thead>\n",
       "    <tr style=\"text-align: right;\">\n",
       "      <th></th>\n",
       "      <th>image</th>\n",
       "      <th>lebels</th>\n",
       "    </tr>\n",
       "  </thead>\n",
       "  <tbody>\n",
       "    <tr>\n",
       "      <th>0</th>\n",
       "      <td>new_data0.jpeg</td>\n",
       "      <td>rouille</td>\n",
       "    </tr>\n",
       "    <tr>\n",
       "      <th>1</th>\n",
       "      <td>new_data1.jpeg</td>\n",
       "      <td>rouille</td>\n",
       "    </tr>\n",
       "    <tr>\n",
       "      <th>2</th>\n",
       "      <td>new_data2.jpeg</td>\n",
       "      <td>rouille</td>\n",
       "    </tr>\n",
       "    <tr>\n",
       "      <th>3</th>\n",
       "      <td>new_data3.jpeg</td>\n",
       "      <td>rouille</td>\n",
       "    </tr>\n",
       "    <tr>\n",
       "      <th>4</th>\n",
       "      <td>new_data4.jpeg</td>\n",
       "      <td>rouille</td>\n",
       "    </tr>\n",
       "  </tbody>\n",
       "</table>\n",
       "</div>"
      ],
      "text/plain": [
       "            image   lebels\n",
       "0  new_data0.jpeg  rouille\n",
       "1  new_data1.jpeg  rouille\n",
       "2  new_data2.jpeg  rouille\n",
       "3  new_data3.jpeg  rouille\n",
       "4  new_data4.jpeg  rouille"
      ]
     },
     "execution_count": 5,
     "metadata": {},
     "output_type": "execute_result"
    }
   ],
   "source": [
    "df.head()"
   ]
  },
  {
   "cell_type": "code",
   "execution_count": 6,
   "metadata": {
    "colab": {
     "base_uri": "https://localhost:8080/",
     "height": 195
    },
    "id": "QXgncPtChPJU",
    "outputId": "06155ebb-1980-4eff-84d0-a065d081f702"
   },
   "outputs": [
    {
     "data": {
      "text/html": [
       "<div>\n",
       "<style scoped>\n",
       "    .dataframe tbody tr th:only-of-type {\n",
       "        vertical-align: middle;\n",
       "    }\n",
       "\n",
       "    .dataframe tbody tr th {\n",
       "        vertical-align: top;\n",
       "    }\n",
       "\n",
       "    .dataframe thead th {\n",
       "        text-align: right;\n",
       "    }\n",
       "</style>\n",
       "<table border=\"1\" class=\"dataframe\">\n",
       "  <thead>\n",
       "    <tr style=\"text-align: right;\">\n",
       "      <th></th>\n",
       "      <th>image</th>\n",
       "      <th>lebels</th>\n",
       "      <th>acariens</th>\n",
       "      <th>chancre fusicocum</th>\n",
       "      <th>coryneum</th>\n",
       "      <th>faux tigre</th>\n",
       "      <th>othyorinques</th>\n",
       "      <th>polystigma</th>\n",
       "      <th>puceron noir</th>\n",
       "      <th>puceron vert</th>\n",
       "      <th>rouille</th>\n",
       "      <th>scolytes</th>\n",
       "    </tr>\n",
       "  </thead>\n",
       "  <tbody>\n",
       "    <tr>\n",
       "      <th>0</th>\n",
       "      <td>new_data0.jpeg</td>\n",
       "      <td>rouille</td>\n",
       "      <td>0</td>\n",
       "      <td>0</td>\n",
       "      <td>0</td>\n",
       "      <td>0</td>\n",
       "      <td>0</td>\n",
       "      <td>0</td>\n",
       "      <td>0</td>\n",
       "      <td>0</td>\n",
       "      <td>1</td>\n",
       "      <td>0</td>\n",
       "    </tr>\n",
       "    <tr>\n",
       "      <th>1</th>\n",
       "      <td>new_data1.jpeg</td>\n",
       "      <td>rouille</td>\n",
       "      <td>0</td>\n",
       "      <td>0</td>\n",
       "      <td>0</td>\n",
       "      <td>0</td>\n",
       "      <td>0</td>\n",
       "      <td>0</td>\n",
       "      <td>0</td>\n",
       "      <td>0</td>\n",
       "      <td>1</td>\n",
       "      <td>0</td>\n",
       "    </tr>\n",
       "    <tr>\n",
       "      <th>2</th>\n",
       "      <td>new_data2.jpeg</td>\n",
       "      <td>rouille</td>\n",
       "      <td>0</td>\n",
       "      <td>0</td>\n",
       "      <td>0</td>\n",
       "      <td>0</td>\n",
       "      <td>0</td>\n",
       "      <td>0</td>\n",
       "      <td>0</td>\n",
       "      <td>0</td>\n",
       "      <td>1</td>\n",
       "      <td>0</td>\n",
       "    </tr>\n",
       "    <tr>\n",
       "      <th>3</th>\n",
       "      <td>new_data3.jpeg</td>\n",
       "      <td>rouille</td>\n",
       "      <td>0</td>\n",
       "      <td>0</td>\n",
       "      <td>0</td>\n",
       "      <td>0</td>\n",
       "      <td>0</td>\n",
       "      <td>0</td>\n",
       "      <td>0</td>\n",
       "      <td>0</td>\n",
       "      <td>1</td>\n",
       "      <td>0</td>\n",
       "    </tr>\n",
       "    <tr>\n",
       "      <th>4</th>\n",
       "      <td>new_data4.jpeg</td>\n",
       "      <td>rouille</td>\n",
       "      <td>0</td>\n",
       "      <td>0</td>\n",
       "      <td>0</td>\n",
       "      <td>0</td>\n",
       "      <td>0</td>\n",
       "      <td>0</td>\n",
       "      <td>0</td>\n",
       "      <td>0</td>\n",
       "      <td>1</td>\n",
       "      <td>0</td>\n",
       "    </tr>\n",
       "  </tbody>\n",
       "</table>\n",
       "</div>"
      ],
      "text/plain": [
       "            image   lebels  acariens  chancre fusicocum  coryneum  faux tigre  \\\n",
       "0  new_data0.jpeg  rouille         0                  0         0           0   \n",
       "1  new_data1.jpeg  rouille         0                  0         0           0   \n",
       "2  new_data2.jpeg  rouille         0                  0         0           0   \n",
       "3  new_data3.jpeg  rouille         0                  0         0           0   \n",
       "4  new_data4.jpeg  rouille         0                  0         0           0   \n",
       "\n",
       "   othyorinques  polystigma  puceron noir  puceron vert  rouille  scolytes  \n",
       "0             0           0             0             0        1         0  \n",
       "1             0           0             0             0        1         0  \n",
       "2             0           0             0             0        1         0  \n",
       "3             0           0             0             0        1         0  \n",
       "4             0           0             0             0        1         0  "
      ]
     },
     "execution_count": 6,
     "metadata": {},
     "output_type": "execute_result"
    }
   ],
   "source": [
    "a=df.copy()\n",
    "a=pd.get_dummies(a['lebels'])\n",
    "df1=pd.concat([df, a], axis=1)\n",
    "df1.head()"
   ]
  },
  {
   "cell_type": "code",
   "execution_count": 7,
   "metadata": {},
   "outputs": [
    {
     "name": "stderr",
     "output_type": "stream",
     "text": [
      "<ipython-input-7-4a7a286868c5>:1: FutureWarning: Dropping of nuisance columns in DataFrame reductions (with 'numeric_only=None') is deprecated; in a future version this will raise TypeError.  Select only valid columns before calling the reduction.\n",
      "  pcts=df1.mean()\n"
     ]
    },
    {
     "data": {
      "text/plain": [
       "<AxesSubplot:ylabel='None'>"
      ]
     },
     "execution_count": 7,
     "metadata": {},
     "output_type": "execute_result"
    },
    {
     "data": {
      "image/png": "[encoded data removed]",
      "text/plain": [
       "<Figure size 432x288 with 1 Axes>"
      ]
     },
     "metadata": {},
     "output_type": "display_data"
    }
   ],
   "source": [
    "pcts=df1.mean()\n",
    "pcts.plot(kind = 'pie',autopct='%1.2f%%')"
   ]
  },
  {
   "cell_type": "code",
   "execution_count": 8,
   "metadata": {
    "id": "UK8RpBoqf0M8"
   },
   "outputs": [],
   "source": [
    "data=df1[df1['puceron noir']!=1]"
   ]
  },
  {
   "cell_type": "code",
   "execution_count": 9,
   "metadata": {
    "id": "lnKSW3GqmQ9B"
   },
   "outputs": [],
   "source": [
    "data=data[data['puceron vert']!=1]"
   ]
  },
  {
   "cell_type": "code",
   "execution_count": 10,
   "metadata": {
    "colab": {
     "base_uri": "https://localhost:8080/"
    },
    "id": "409PM2CumcDC",
    "outputId": "15fb1cd0-57db-4a82-f986-374bfc6a3383"
   },
   "outputs": [
    {
     "data": {
      "text/plain": [
       "(617, 11)"
      ]
     },
     "execution_count": 10,
     "metadata": {},
     "output_type": "execute_result"
    }
   ],
   "source": [
    "data.drop(columns='lebels', inplace=True)\n",
    "\n",
    "data.shape"
   ]
  },
  {
   "cell_type": "code",
   "execution_count": 11,
   "metadata": {
    "id": "OZZszMkXmxGf"
   },
   "outputs": [],
   "source": [
    "data.drop(columns=['puceron noir','puceron vert'],inplace=True)"
   ]
  },
  {
   "cell_type": "code",
   "execution_count": 12,
   "metadata": {
    "colab": {
     "base_uri": "https://localhost:8080/",
     "height": 195
    },
    "id": "Fezy3m4ycxe7",
    "outputId": "0db79526-24e2-42ce-f3df-207475cf925a"
   },
   "outputs": [
    {
     "data": {
      "text/html": [
       "<div>\n",
       "<style scoped>\n",
       "    .dataframe tbody tr th:only-of-type {\n",
       "        vertical-align: middle;\n",
       "    }\n",
       "\n",
       "    .dataframe tbody tr th {\n",
       "        vertical-align: top;\n",
       "    }\n",
       "\n",
       "    .dataframe thead th {\n",
       "        text-align: right;\n",
       "    }\n",
       "</style>\n",
       "<table border=\"1\" class=\"dataframe\">\n",
       "  <thead>\n",
       "    <tr style=\"text-align: right;\">\n",
       "      <th></th>\n",
       "      <th>image</th>\n",
       "      <th>acariens</th>\n",
       "      <th>chancre fusicocum</th>\n",
       "      <th>coryneum</th>\n",
       "      <th>faux tigre</th>\n",
       "      <th>othyorinques</th>\n",
       "      <th>polystigma</th>\n",
       "      <th>rouille</th>\n",
       "      <th>scolytes</th>\n",
       "    </tr>\n",
       "  </thead>\n",
       "  <tbody>\n",
       "    <tr>\n",
       "      <th>0</th>\n",
       "      <td>new_data0.jpeg</td>\n",
       "      <td>0</td>\n",
       "      <td>0</td>\n",
       "      <td>0</td>\n",
       "      <td>0</td>\n",
       "      <td>0</td>\n",
       "      <td>0</td>\n",
       "      <td>1</td>\n",
       "      <td>0</td>\n",
       "    </tr>\n",
       "    <tr>\n",
       "      <th>1</th>\n",
       "      <td>new_data1.jpeg</td>\n",
       "      <td>0</td>\n",
       "      <td>0</td>\n",
       "      <td>0</td>\n",
       "      <td>0</td>\n",
       "      <td>0</td>\n",
       "      <td>0</td>\n",
       "      <td>1</td>\n",
       "      <td>0</td>\n",
       "    </tr>\n",
       "    <tr>\n",
       "      <th>2</th>\n",
       "      <td>new_data2.jpeg</td>\n",
       "      <td>0</td>\n",
       "      <td>0</td>\n",
       "      <td>0</td>\n",
       "      <td>0</td>\n",
       "      <td>0</td>\n",
       "      <td>0</td>\n",
       "      <td>1</td>\n",
       "      <td>0</td>\n",
       "    </tr>\n",
       "    <tr>\n",
       "      <th>3</th>\n",
       "      <td>new_data3.jpeg</td>\n",
       "      <td>0</td>\n",
       "      <td>0</td>\n",
       "      <td>0</td>\n",
       "      <td>0</td>\n",
       "      <td>0</td>\n",
       "      <td>0</td>\n",
       "      <td>1</td>\n",
       "      <td>0</td>\n",
       "    </tr>\n",
       "    <tr>\n",
       "      <th>4</th>\n",
       "      <td>new_data4.jpeg</td>\n",
       "      <td>0</td>\n",
       "      <td>0</td>\n",
       "      <td>0</td>\n",
       "      <td>0</td>\n",
       "      <td>0</td>\n",
       "      <td>0</td>\n",
       "      <td>1</td>\n",
       "      <td>0</td>\n",
       "    </tr>\n",
       "  </tbody>\n",
       "</table>\n",
       "</div>"
      ],
      "text/plain": [
       "            image  acariens  chancre fusicocum  coryneum  faux tigre  \\\n",
       "0  new_data0.jpeg         0                  0         0           0   \n",
       "1  new_data1.jpeg         0                  0         0           0   \n",
       "2  new_data2.jpeg         0                  0         0           0   \n",
       "3  new_data3.jpeg         0                  0         0           0   \n",
       "4  new_data4.jpeg         0                  0         0           0   \n",
       "\n",
       "   othyorinques  polystigma  rouille  scolytes  \n",
       "0             0           0        1         0  \n",
       "1             0           0        1         0  \n",
       "2             0           0        1         0  \n",
       "3             0           0        1         0  \n",
       "4             0           0        1         0  "
      ]
     },
     "execution_count": 12,
     "metadata": {},
     "output_type": "execute_result"
    }
   ],
   "source": [
    "data.head()"
   ]
  },
  {
   "cell_type": "code",
   "execution_count": 13,
   "metadata": {
    "colab": {
     "base_uri": "https://localhost:8080/"
    },
    "id": "ggW-f4LB4P3W",
    "outputId": "b02344b3-8545-4258-f745-1f62ebbcbb10"
   },
   "outputs": [
    {
     "data": {
      "text/plain": [
       "Index(['image', 'acariens', 'chancre fusicocum', 'coryneum', 'faux tigre',\n",
       "       'othyorinques', 'polystigma', 'rouille', 'scolytes'],\n",
       "      dtype='object')"
      ]
     },
     "execution_count": 13,
     "metadata": {},
     "output_type": "execute_result"
    }
   ],
   "source": [
    "data.columns"
   ]
  },
  {
   "cell_type": "code",
   "execution_count": 14,
   "metadata": {
    "colab": {
     "base_uri": "https://localhost:8080/",
     "height": 265
    },
    "id": "1oJpVUs5c3OE",
    "outputId": "e8f19f28-bd80-4e94-e154-32f8505a1d9f"
   },
   "outputs": [
    {
     "name": "stderr",
     "output_type": "stream",
     "text": [
      "<ipython-input-14-e50005ee8130>:1: FutureWarning: Dropping of nuisance columns in DataFrame reductions (with 'numeric_only=None') is deprecated; in a future version this will raise TypeError.  Select only valid columns before calling the reduction.\n",
      "  pcts=data.mean()\n"
     ]
    },
    {
     "data": {
      "text/plain": [
       "<AxesSubplot:ylabel='None'>"
      ]
     },
     "execution_count": 14,
     "metadata": {},
     "output_type": "execute_result"
    },
    {
     "data": {
      "image/png": "[encoded data removed]",
      "text/plain": [
       "<Figure size 432x288 with 1 Axes>"
      ]
     },
     "metadata": {},
     "output_type": "display_data"
    }
   ],
   "source": [
    "pcts=data.mean()\n",
    "pcts.plot(kind = 'pie',autopct='%1.2f%%')"
   ]
  },
  {
   "cell_type": "code",
   "execution_count": 15,
   "metadata": {
    "id": "PhB-yeM13fsH"
   },
   "outputs": [],
   "source": [
    "img_size={'height': 960,\n",
    "         'width': 1280 }"
   ]
  },
  {
   "cell_type": "code",
   "execution_count": 16,
   "metadata": {
    "colab": {
     "base_uri": "https://localhost:8080/"
    },
    "id": "sxqXxaPl39Wy",
    "outputId": "9eda7fac-9cd4-4a46-bd88-387ef12ed640"
   },
   "outputs": [
    {
     "data": {
      "text/plain": [
       "(617, 9)"
      ]
     },
     "execution_count": 16,
     "metadata": {},
     "output_type": "execute_result"
    }
   ],
   "source": [
    "data.shape"
   ]
  },
  {
   "cell_type": "code",
   "execution_count": 17,
   "metadata": {
    "id": "u9BVWB3Kzxie"
   },
   "outputs": [],
   "source": [
    "path='path/'\n",
    "data_path=data.image.apply(lambda x: path +x).values"
   ]
  },
  {
   "cell_type": "code",
   "execution_count": 18,
   "metadata": {},
   "outputs": [
    {
     "name": "stdout",
     "output_type": "stream",
     "text": [
      "(1280, 958, 3)\n"
     ]
    },
    {
     "data": {
      "text/plain": [
       "<matplotlib.image.AxesImage at 0x203024e90d0>"
      ]
     },
     "execution_count": 18,
     "metadata": {},
     "output_type": "execute_result"
    },
    {
     "data": {
      "image/png": "[encoded data removed]",
      "text/plain": [
       "<Figure size 432x288 with 1 Axes>"
      ]
     },
     "metadata": {
      "needs_background": "light"
     },
     "output_type": "display_data"
    }
   ],
   "source": [
    "from matplotlib import pyplot as plt\n",
    "\n",
    "img = plt.imread(path+'new_data1.jpeg')\n",
    "print(img.shape)\n",
    "plt.imshow(img)"
   ]
  },
  {
   "cell_type": "code",
   "execution_count": 19,
   "metadata": {
    "colab": {
     "base_uri": "https://localhost:8080/"
    },
    "id": "vUVSHnWrz7sF",
    "outputId": "6d783025-81f4-4fbd-df18-f97a6e1a60a4"
   },
   "outputs": [
    {
     "data": {
      "text/plain": [
       "array(['path/new_data0.jpeg', 'path/new_data1.jpeg',\n",
       "       'path/new_data2.jpeg', 'path/new_data3.jpeg',\n",
       "       'path/new_data4.jpeg', 'path/new_data5.jpeg',\n",
       "       'path/new_data6.jpeg', 'path/new_data7.jpeg',\n",
       "       'path/new_data8.jpeg', 'path/new_data9.jpeg',\n",
       "       'path/new_data10.jpeg', 'path/new_data11.jpeg',\n",
       "       'path/new_data12.jpeg', 'path/new_data13.jpeg',\n",
       "       'path/new_data14.jpeg', 'path/new_data15.jpeg',\n",
       "       'path/new_data16.jpeg', 'path/new_data17.jpeg',\n",
       "       'path/new_data18.jpeg', 'path/new_data19.jpeg',\n",
       "       'path/new_data20.jpeg', 'path/new_data21.jpeg',\n",
       "       'path/new_data22.jpeg', 'path/new_data23.jpeg',\n",
       "       'path/new_data24.jpeg', 'path/new_data25.jpeg',\n",
       "       'path/new_data26.jpeg', 'path/new_data27.jpeg',\n",
       "       'path/new_data28.jpeg', 'path/new_data29.jpeg',\n",
       "       'path/new_data30.jpeg', 'path/new_data31.jpeg',\n",
       "       'path/new_data32.jpeg', 'path/new_data33.jpeg',\n",
       "       'path/new_data34.jpeg', 'path/new_data35.jpeg',\n",
       "       'path/new_data36.jpeg', 'path/new_data37.jpeg',\n",
       "       'path/new_data38.jpeg', 'path/new_data39.jpeg',\n",
       "       'path/new_data40.jpeg', 'path/new_data41.jpeg',\n",
       "       'path/new_data42.jpeg', 'path/new_data43.jpeg',\n",
       "       'path/new_data44.jpeg', 'path/new_data45.jpeg',\n",
       "       'path/new_data46.jpeg', 'path/new_data47.jpeg',\n",
       "       'path/new_data48.jpeg', 'path/new_data49.jpeg',\n",
       "       'path/new_data50.jpeg', 'path/new_data51.jpeg',\n",
       "       'path/new_data52.jpeg', 'path/new_data53.jpeg',\n",
       "       'path/new_data54.jpeg', 'path/new_data55.jpeg',\n",
       "       'path/new_data56.jpeg', 'path/new_data57.jpeg',\n",
       "       'path/new_data58.jpeg', 'path/new_data59.jpeg',\n",
       "       'path/new_data60.jpeg', 'path/new_data61.jpeg',\n",
       "       'path/new_data62.jpeg', 'path/new_data63.jpeg',\n",
       "       'path/new_data64.jpeg', 'path/new_data65.jpeg',\n",
       "       'path/new_data66.jpeg', 'path/new_data67.jpeg',\n",
       "       'path/new_data68.jpeg', 'path/new_data69.jpeg',\n",
       "       'path/new_data70.jpeg', 'path/new_data71.jpeg',\n",
       "       'path/new_data72.jpeg', 'path/new_data73.jpeg',\n",
       "       'path/new_data74.jpeg', 'path/new_data75.jpeg',\n",
       "       'path/new_data76.jpeg', 'path/new_data77.jpeg',\n",
       "       'path/new_data78.jpeg', 'path/new_data79.jpeg',\n",
       "       'path/new_data80.jpeg', 'path/new_data81.jpeg',\n",
       "       'path/new_data82.jpeg', 'path/new_data83.jpeg',\n",
       "       'path/new_data84.jpeg', 'path/new_data85.jpeg',\n",
       "       'path/new_data86.jpeg', 'path/new_data87.jpeg',\n",
       "       'path/new_data88.jpeg', 'path/new_data89.jpeg',\n",
       "       'path/new_data90.jpeg', 'path/new_data91.jpeg',\n",
       "       'path/new_data92.jpeg', 'path/new_data93.jpeg',\n",
       "       'path/new_data94.jpeg', 'path/new_data95.jpeg',\n",
       "       'path/new_data96.jpeg', 'path/new_data97.jpeg',\n",
       "       'path/new_data98.jpeg', 'path/new_data99.jpeg',\n",
       "       'path/new_data100.jpeg', 'path/new_data101.jpeg',\n",
       "       'path/new_data102.jpeg', 'path/new_data103.jpeg',\n",
       "       'path/new_data104.jpeg', 'path/new_data105.jpeg',\n",
       "       'path/new_data106.jpeg', 'path/new_data107.jpeg',\n",
       "       'path/new_data108.jpeg', 'path/new_data109.jpeg',\n",
       "       'path/new_data110.jpeg', 'path/new_data111.jpeg',\n",
       "       'path/new_data112.jpeg', 'path/new_data113.jpeg',\n",
       "       'path/new_data114.jpeg', 'path/new_data115.jpeg',\n",
       "       'path/new_data116.jpeg', 'path/new_data117.jpeg',\n",
       "       'path/new_data118.jpeg', 'path/new_data119.jpeg',\n",
       "       'path/new_data120.jpeg', 'path/new_data121.jpeg',\n",
       "       'path/new_data122.jpeg', 'path/new_data123.jpeg',\n",
       "       'path/new_data124.jpeg', 'path/new_data125.jpeg',\n",
       "       'path/new_data126.jpeg', 'path/new_data127.jpeg',\n",
       "       'path/new_data128.jpeg', 'path/new_data129.jpeg',\n",
       "       'path/new_data130.jpeg', 'path/new_data131.jpeg',\n",
       "       'path/new_data132.jpeg', 'path/new_data133.jpeg',\n",
       "       'path/new_data134.jpeg', 'path/new_data135.jpeg',\n",
       "       'path/new_data136.jpeg', 'path/new_data137.jpeg',\n",
       "       'path/new_data138.jpeg', 'path/new_data139.jpeg',\n",
       "       'path/new_data140.jpeg', 'path/new_data141.jpeg',\n",
       "       'path/new_data142.jpeg', 'path/new_data143.jpeg',\n",
       "       'path/new_data144.jpeg', 'path/new_data145.jpeg',\n",
       "       'path/new_data146.jpeg', 'path/new_data147.jpeg',\n",
       "       'path/new_data148.jpeg', 'path/new_data149.jpeg',\n",
       "       'path/new_data150.jpeg', 'path/new_data151.jpeg',\n",
       "       'path/new_data152.jpeg', 'path/new_data153.jpeg',\n",
       "       'path/new_data154.jpeg', 'path/new_data155.jpeg',\n",
       "       'path/new_data156.jpeg', 'path/new_data157.jpeg',\n",
       "       'path/new_data158.jpeg', 'path/new_data159.jpeg',\n",
       "       'path/new_data160.jpeg', 'path/new_data161.jpeg',\n",
       "       'path/new_data162.jpeg', 'path/new_data163.jpeg',\n",
       "       'path/new_data164.jpeg', 'path/new_data165.jpeg',\n",
       "       'path/new_data166.jpeg', 'path/new_data167.jpeg',\n",
       "       'path/new_data168.jpeg', 'path/new_data169.jpeg',\n",
       "       'path/new_data170.jpeg', 'path/new_data171.jpeg',\n",
       "       'path/new_data172.jpeg', 'path/new_data173.jpeg',\n",
       "       'path/new_data174.jpeg', 'path/new_data175.jpeg',\n",
       "       'path/new_data176.jpeg', 'path/new_data177.jpeg',\n",
       "       'path/new_data178.jpeg', 'path/new_data179.jpeg',\n",
       "       'path/new_data180.jpeg', 'path/new_data181.jpeg',\n",
       "       'path/new_data182.jpeg', 'path/new_data183.jpeg',\n",
       "       'path/new_data184.jpeg', 'path/new_data185.jpeg',\n",
       "       'path/new_data186.jpeg', 'path/new_data187.jpeg',\n",
       "       'path/new_data188.jpeg', 'path/new_data189.jpeg',\n",
       "       'path/new_data190.jpeg', 'path/new_data191.jpeg',\n",
       "       'path/new_data192.jpeg', 'path/new_data193.jpeg',\n",
       "       'path/new_data194.jpeg', 'path/new_data195.jpeg',\n",
       "       'path/new_data196.jpeg', 'path/new_data197.jpeg',\n",
       "       'path/new_data198.jpeg', 'path/new_data199.jpeg',\n",
       "       'path/new_data200.jpeg', 'path/new_data201.jpeg',\n",
       "       'path/new_data202.jpeg', 'path/new_data203.jpeg',\n",
       "       'path/new_data204.jpeg', 'path/new_data205.jpeg',\n",
       "       'path/new_data206.jpeg', 'path/new_data207.jpeg',\n",
       "       'path/new_data208.jpeg', 'path/new_data209.jpeg',\n",
       "       'path/new_data210.jpeg', 'path/new_data211.jpeg',\n",
       "       'path/new_data212.jpeg', 'path/new_data213.jpeg',\n",
       "       'path/new_data214.jpeg', 'path/new_data215.jpeg',\n",
       "       'path/new_data216.jpeg', 'path/new_data217.jpeg',\n",
       "       'path/new_data218.jpeg', 'path/new_data219.jpeg',\n",
       "       'path/new_data220.jpeg', 'path/new_data221.jpeg',\n",
       "       'path/new_data222.jpeg', 'path/new_data223.jpeg',\n",
       "       'path/new_data224.jpeg', 'path/new_data225.jpeg',\n",
       "       'path/new_data226.jpeg', 'path/new_data227.jpeg',\n",
       "       'path/new_data228.jpeg', 'path/new_data229.jpeg',\n",
       "       'path/new_data230.jpeg', 'path/new_data231.jpeg',\n",
       "       'path/new_data232.jpeg', 'path/new_data233.jpeg',\n",
       "       'path/new_data234.jpeg', 'path/new_data235.jpeg',\n",
       "       'path/new_data236.jpeg', 'path/new_data237.jpeg',\n",
       "       'path/new_data238.jpeg', 'path/new_data239.jpeg',\n",
       "       'path/new_data240.jpeg', 'path/new_data241.jpeg',\n",
       "       'path/new_data242.jpeg', 'path/new_data243.jpeg',\n",
       "       'path/new_data244.jpeg', 'path/new_data245.jpeg',\n",
       "       'path/new_data246.jpeg', 'path/new_data247.jpeg',\n",
       "       'path/new_data248.jpeg', 'path/new_data249.jpeg',\n",
       "       'path/new_data250.jpeg', 'path/new_data251.jpeg',\n",
       "       'path/new_data252.jpeg', 'path/new_data253.jpeg',\n",
       "       'path/new_data254.jpeg', 'path/new_data255.jpeg',\n",
       "       'path/new_data256.jpeg', 'path/new_data257.jpeg',\n",
       "       'path/new_data258.jpeg', 'path/new_data259.jpeg',\n",
       "       'path/new_data260.jpeg', 'path/new_data261.jpeg',\n",
       "       'path/new_data262.jpeg', 'path/new_data263.jpeg',\n",
       "       'path/new_data264.jpeg', 'path/new_data265.jpeg',\n",
       "       'path/new_data266.jpeg', 'path/new_data267.jpeg',\n",
       "       'path/new_data268.jpeg', 'path/new_data269.jpeg',\n",
       "       'path/new_data270.jpeg', 'path/new_data271.jpeg',\n",
       "       'path/new_data272.jpeg', 'path/new_data273.jpeg',\n",
       "       'path/new_data274.jpeg', 'path/new_data275.jpeg',\n",
       "       'path/new_data276.jpeg', 'path/new_data277.jpeg',\n",
       "       'path/new_data278.jpeg', 'path/new_data279.jpeg',\n",
       "       'path/new_data280.jpeg', 'path/new_data281.jpeg',\n",
       "       'path/new_data282.jpeg', 'path/new_data283.jpeg',\n",
       "       'path/new_data284.jpeg', 'path/new_data285.jpeg',\n",
       "       'path/new_data286.jpeg', 'path/new_data287.jpeg',\n",
       "       'path/new_data288.jpeg', 'path/new_data289.jpeg',\n",
       "       'path/new_data290.jpeg', 'path/new_data291.jpeg',\n",
       "       'path/new_data292.jpeg', 'path/new_data293.jpeg',\n",
       "       'path/new_data294.jpeg', 'path/new_data295.jpeg',\n",
       "       'path/new_data296.jpeg', 'path/new_data297.jpeg',\n",
       "       'path/new_data298.jpeg', 'path/new_data299.jpeg',\n",
       "       'path/new_data300.jpeg', 'path/new_data301.jpeg',\n",
       "       'path/new_data302.jpeg', 'path/new_data303.jpeg',\n",
       "       'path/new_data304.jpeg', 'path/new_data305.jpeg',\n",
       "       'path/new_data306.jpeg', 'path/new_data307.jpeg',\n",
       "       'path/new_data308.jpeg', 'path/new_data309.jpeg',\n",
       "       'path/new_data310.jpeg', 'path/new_data311.jpeg',\n",
       "       'path/new_data312.jpeg', 'path/new_data313.jpeg',\n",
       "       'path/new_data314.jpeg', 'path/new_data315.jpeg',\n",
       "       'path/new_data316.jpeg', 'path/new_data317.jpeg',\n",
       "       'path/new_data318.jpeg', 'path/new_data319.jpeg',\n",
       "       'path/new_data320.jpeg', 'path/new_data321.jpeg',\n",
       "       'path/new_data322.jpeg', 'path/new_data323.jpeg',\n",
       "       'path/new_data324.jpeg', 'path/new_data325.jpeg',\n",
       "       'path/new_data326.jpeg', 'path/new_data327.jpeg',\n",
       "       'path/new_data328.jpeg', 'path/new_data329.jpeg',\n",
       "       'path/new_data330.jpeg', 'path/new_data331.jpeg',\n",
       "       'path/new_data332.jpeg', 'path/new_data333.jpeg',\n",
       "       'path/new_data334.jpeg', 'path/new_data335.jpeg',\n",
       "       'path/new_data336.jpeg', 'path/new_data337.jpeg',\n",
       "       'path/new_data338.jpeg', 'path/new_data339.jpeg',\n",
       "       'path/new_data340.jpeg', 'path/new_data341.jpeg',\n",
       "       'path/new_data342.jpeg', 'path/new_data343.jpeg',\n",
       "       'path/new_data344.jpeg', 'path/new_data345.jpeg',\n",
       "       'path/new_data346.jpeg', 'path/new_data347.jpeg',\n",
       "       'path/new_data348.jpeg', 'path/new_data349.jpeg',\n",
       "       'path/new_data350.jpeg', 'path/new_data351.jpeg',\n",
       "       'path/new_data352.jpeg', 'path/new_data353.jpeg',\n",
       "       'path/new_data354.jpeg', 'path/new_data355.jpeg',\n",
       "       'path/new_data356.jpeg', 'path/new_data357.jpeg',\n",
       "       'path/new_data358.jpeg', 'path/new_data359.jpeg',\n",
       "       'path/new_data360.jpeg', 'path/new_data361.jpeg',\n",
       "       'path/new_data362.jpeg', 'path/new_data363.jpeg',\n",
       "       'path/new_data364.jpeg', 'path/new_data365.jpeg',\n",
       "       'path/new_data366.jpeg', 'path/new_data367.jpeg',\n",
       "       'path/new_data368.jpeg', 'path/new_data369.jpeg',\n",
       "       'path/new_data370.jpeg', 'path/new_data371.jpeg',\n",
       "       'path/new_data372.jpeg', 'path/new_data373.jpeg',\n",
       "       'path/new_data374.jpeg', 'path/new_data375.jpeg',\n",
       "       'path/new_data376.jpeg', 'path/new_data377.jpeg',\n",
       "       'path/new_data378.jpeg', 'path/new_data379.jpeg',\n",
       "       'path/new_data380.jpeg', 'path/new_data381.jpeg',\n",
       "       'path/new_data382.jpeg', 'path/new_data383.jpeg',\n",
       "       'path/new_data384.jpeg', 'path/new_data385.jpeg',\n",
       "       'path/new_data386.jpeg', 'path/new_data387.jpeg',\n",
       "       'path/new_data388.jpeg', 'path/new_data389.jpeg',\n",
       "       'path/new_data390.jpeg', 'path/new_data391.jpeg',\n",
       "       'path/new_data392.jpeg', 'path/new_data393.jpeg',\n",
       "       'path/new_data394.jpeg', 'path/new_data395.jpeg',\n",
       "       'path/new_data396.jpeg', 'path/new_data397.jpeg',\n",
       "       'path/new_data398.jpeg', 'path/new_data399.jpeg',\n",
       "       'path/new_data400.jpeg', 'path/new_data401.jpeg',\n",
       "       'path/new_data402.jpeg', 'path/new_data403.jpeg',\n",
       "       'path/new_data404.jpeg', 'path/new_data405.jpeg',\n",
       "       'path/new_data406.jpeg', 'path/new_data407.jpeg',\n",
       "       'path/new_data408.jpeg', 'path/new_data409.jpeg',\n",
       "       'path/new_data410.jpeg', 'path/new_data411.jpeg',\n",
       "       'path/new_data412.jpeg', 'path/new_data413.jpeg',\n",
       "       'path/new_data414.jpeg', 'path/new_data415.jpeg',\n",
       "       'path/new_data449.jpeg', 'path/new_data450.jpeg',\n",
       "       'path/new_data451.jpeg', 'path/new_data452.jpeg',\n",
       "       'path/new_data453.jpeg', 'path/new_data454.jpeg',\n",
       "       'path/new_data455.jpeg', 'path/new_data456.jpeg',\n",
       "       'path/new_data457.jpeg', 'path/new_data458.jpeg',\n",
       "       'path/new_data459.jpeg', 'path/new_data460.jpeg',\n",
       "       'path/new_data461.jpeg', 'path/new_data462.jpeg',\n",
       "       'path/new_data463.jpeg', 'path/new_data464.jpeg',\n",
       "       'path/new_data465.jpeg', 'path/new_data466.jpeg',\n",
       "       'path/new_data467.jpeg', 'path/new_data468.jpeg',\n",
       "       'path/new_data469.jpeg', 'path/new_data470.jpeg',\n",
       "       'path/new_data471.jpeg', 'path/new_data472.jpeg',\n",
       "       'path/new_data473.jpeg', 'path/new_data474.jpeg',\n",
       "       'path/new_data475.jpeg', 'path/new_data476.jpeg',\n",
       "       'path/new_data477.jpeg', 'path/new_data478.jpeg',\n",
       "       'path/new_data479.jpeg', 'path/new_data480.jpeg',\n",
       "       'path/new_data481.jpeg', 'path/new_data482.jpeg',\n",
       "       'path/new_data483.jpeg', 'path/new_data484.jpeg',\n",
       "       'path/new_data485.jpeg', 'path/new_data486.jpeg',\n",
       "       'path/new_data487.jpeg', 'path/new_data488.jpeg',\n",
       "       'path/new_data489.jpeg', 'path/new_data490.jpeg',\n",
       "       'path/new_data491.jpeg', 'path/new_data492.jpeg',\n",
       "       'path/new_data493.jpeg', 'path/new_data494.jpeg',\n",
       "       'path/new_data495.jpeg', 'path/new_data496.jpeg',\n",
       "       'path/new_data497.jpeg', 'path/new_data498.jpeg',\n",
       "       'path/new_data499.jpeg', 'path/new_data500.jpeg',\n",
       "       'path/new_data501.jpeg', 'path/new_data502.jpeg',\n",
       "       'path/new_data503.jpeg', 'path/new_data504.jpeg',\n",
       "       'path/new_data505.jpeg', 'path/new_data506.jpeg',\n",
       "       'path/new_data507.jpeg', 'path/new_data508.jpeg',\n",
       "       'path/new_data509.jpeg', 'path/new_data510.jpeg',\n",
       "       'path/new_data511.jpeg', 'path/new_data512.jpeg',\n",
       "       'path/new_data513.jpeg', 'path/new_data514.jpeg',\n",
       "       'path/new_data515.jpeg', 'path/new_data516.jpeg',\n",
       "       'path/new_data517.jpeg', 'path/new_data518.jpeg',\n",
       "       'path/new_data519.jpeg', 'path/new_data520.jpeg',\n",
       "       'path/new_data521.jpeg', 'path/new_data522.jpeg',\n",
       "       'path/new_data523.jpeg', 'path/new_data524.jpeg',\n",
       "       'path/new_data525.jpeg', 'path/new_data526.jpeg',\n",
       "       'path/new_data527.jpeg', 'path/new_data528.jpeg',\n",
       "       'path/new_data529.jpeg', 'path/new_data530.jpeg',\n",
       "       'path/new_data531.jpeg', 'path/new_data532.jpeg',\n",
       "       'path/new_data533.jpeg', 'path/new_data534.jpeg',\n",
       "       'path/new_data535.jpeg', 'path/new_data536.jpeg',\n",
       "       'path/new_data537.jpeg', 'path/new_data538.jpeg',\n",
       "       'path/new_data539.jpeg', 'path/new_data540.jpeg',\n",
       "       'path/new_data541.jpeg', 'path/new_data542.jpeg',\n",
       "       'path/new_data543.jpeg', 'path/new_data544.jpeg',\n",
       "       'path/new_data545.jpeg', 'path/new_data546.jpeg',\n",
       "       'path/new_data547.jpeg', 'path/new_data548.jpeg',\n",
       "       'path/new_data549.jpeg', 'path/new_data550.jpeg',\n",
       "       'path/new_data551.jpeg', 'path/new_data552.jpeg',\n",
       "       'path/new_data553.jpeg', 'path/new_data554.jpeg',\n",
       "       'path/new_data555.jpeg', 'path/new_data556.jpeg',\n",
       "       'path/new_data557.jpeg', 'path/new_data558.jpeg',\n",
       "       'path/new_data559.jpeg', 'path/new_data560.jpeg',\n",
       "       'path/new_data561.jpeg', 'path/new_data562.jpeg',\n",
       "       'path/new_data563.jpeg', 'path/new_data564.jpeg',\n",
       "       'path/new_data565.jpeg', 'path/new_data566.jpeg',\n",
       "       'path/new_data567.jpeg', 'path/new_data568.jpeg',\n",
       "       'path/new_data569.jpeg', 'path/new_data570.jpeg',\n",
       "       'path/new_data571.jpeg', 'path/new_data572.jpeg',\n",
       "       'path/new_data573.jpeg', 'path/new_data574.jpeg',\n",
       "       'path/new_data575.jpeg', 'path/new_data576.jpeg',\n",
       "       'path/new_data577.jpeg', 'path/new_data578.jpeg',\n",
       "       'path/new_data579.jpeg', 'path/new_data580.jpeg',\n",
       "       'path/new_data581.jpeg', 'path/new_data582.jpeg',\n",
       "       'path/new_data583.jpeg', 'path/new_data584.jpeg',\n",
       "       'path/new_data585.jpeg', 'path/new_data586.jpeg',\n",
       "       'path/new_data587.jpeg', 'path/new_data588.jpeg',\n",
       "       'path/new_data594.jpeg', 'path/new_data595.jpeg',\n",
       "       'path/new_data596.jpeg', 'path/new_data597.jpeg',\n",
       "       'path/new_data598.jpeg', 'path/new_data599.jpeg',\n",
       "       'path/new_data600.jpeg', 'path/new_data601.jpeg',\n",
       "       'path/new_data602.jpeg', 'path/new_data603.jpeg',\n",
       "       'path/new_data604.jpeg', 'path/new_data605.jpeg',\n",
       "       'path/new_data606.jpeg', 'path/new_data607.jpeg',\n",
       "       'path/new_data608.jpeg', 'path/new_data609.jpeg',\n",
       "       'path/new_data610.jpeg', 'path/new_data611.jpeg',\n",
       "       'path/new_data612.jpeg', 'path/new_data613.jpeg',\n",
       "       'path/new_data614.jpeg', 'path/new_data615.jpeg',\n",
       "       'path/new_data616.jpeg', 'path/new_data617.jpeg',\n",
       "       'path/new_data618.jpeg', 'path/new_data619.jpeg',\n",
       "       'path/new_data620.jpeg', 'path/new_data621.jpeg',\n",
       "       'path/new_data622.jpeg', 'path/new_data623.jpeg',\n",
       "       'path/new_data624.jpeg', 'path/new_data625.jpeg',\n",
       "       'path/new_data626.jpeg', 'path/new_data627.jpeg',\n",
       "       'path/new_data628.jpeg', 'path/new_data629.jpeg',\n",
       "       'path/new_data630.jpeg', 'path/new_data631.jpeg',\n",
       "       'path/new_data632.jpeg', 'path/new_data633.jpeg',\n",
       "       'path/new_data634.jpeg', 'path/new_data635.jpeg',\n",
       "       'path/new_data636.jpeg', 'path/new_data637.jpeg',\n",
       "       'path/new_data638.jpeg', 'path/new_data639.jpeg',\n",
       "       'path/new_data640.jpeg', 'path/new_data641.jpeg',\n",
       "       'path/new_data642.jpeg', 'path/new_data643.jpeg',\n",
       "       'path/new_data644.jpeg', 'path/new_data645.jpeg',\n",
       "       'path/new_data646.jpeg', 'path/new_data647.jpeg',\n",
       "       'path/new_data648.jpeg', 'path/new_data649.jpeg',\n",
       "       'path/new_data650.jpeg', 'path/new_data651.jpeg',\n",
       "       'path/new_data652.jpeg', 'path/new_data653.jpeg',\n",
       "       'path/new_data654.jpeg'], dtype=object)"
      ]
     },
     "execution_count": 19,
     "metadata": {},
     "output_type": "execute_result"
    }
   ],
   "source": [
    "data_path"
   ]
  },
  {
   "cell_type": "code",
   "execution_count": 20,
   "metadata": {
    "id": "NbgUZOg3xd2a"
   },
   "outputs": [],
   "source": [
    "data_labels = data.loc[:, ['acariens','scolytes', 'chancre fusicocum', 'faux tigre','othyorinques', 'polystigma','coryneum', 'rouille']].values"
   ]
  },
  {
   "cell_type": "code",
   "execution_count": 21,
   "metadata": {},
   "outputs": [],
   "source": [
    "train_paths, test_paths, train_labels, test_labels =train_test_split(data_path, data_labels, test_size=0.2, random_state=42)\n"
   ]
  },
  {
   "cell_type": "code",
   "execution_count": 22,
   "metadata": {},
   "outputs": [
    {
     "data": {
      "text/plain": [
       "124"
      ]
     },
     "execution_count": 22,
     "metadata": {},
     "output_type": "execute_result"
    }
   ],
   "source": [
    "len(test_paths)"
   ]
  },
  {
   "cell_type": "code",
   "execution_count": 29,
   "metadata": {
    "id": "xlhCw2Vl4YqQ"
   },
   "outputs": [],
   "source": [
    "IMG_SIZE=224\n",
    "def decode_image(filename, label=None, IMG_SIZE=(IMG_SIZE, IMG_SIZE)):\n",
    "    bits = tf.io.read_file(filename)\n",
    "    image = tf.image.decode_jpeg(bits, channels=3)\n",
    "    image = tf.cast(image, tf.float32) / 255.0\n",
    "    image = tf.image.resize(image, IMG_SIZE)\n",
    "    \n",
    "    if label is None:\n",
    "        return image\n",
    "    else:\n",
    "        return image, label\n",
    "\n",
    "\n",
    "def data_augment(image, label=None):\n",
    "    image = tf.image.random_flip_left_right(image)\n",
    "    image = tf.image.random_flip_up_down(image)\n",
    "    \n",
    "    if label is None:\n",
    "        return image\n",
    "    else:\n",
    "        return image, label"
   ]
  },
  {
   "cell_type": "code",
   "execution_count": 38,
   "metadata": {
    "id": "rQSYB8F24fUX"
   },
   "outputs": [],
   "source": [
    "BATCH_SIZE = 8\n",
    "\n",
    "train_dataset = (\n",
    "tf.data.Dataset\n",
    "    .from_tensor_slices((train_paths, train_labels))\n",
    "    .map(decode_image, num_parallel_calls=AUTO)\n",
    "    .cache()\n",
    "    .map(data_augment, num_parallel_calls=AUTO)\n",
    "    .repeat()\n",
    "    .shuffle(512)\n",
    "    .batch(BATCH_SIZE)\n",
    "    .prefetch(AUTO)\n",
    ")\n",
    "test_dataset = (\n",
    "    tf.data.Dataset\n",
    "    .from_tensor_slices((test_paths,test_labels))\n",
    "    .map(decode_image, num_parallel_calls=AUTO)\n",
    "    .map(data_augment, num_parallel_calls=AUTO)\n",
    "    .batch(BATCH_SIZE)\n",
    "    \n",
    ")"
   ]
  },
  {
   "cell_type": "code",
   "execution_count": 39,
   "metadata": {
    "id": "l9jDTNEY6uGC"
   },
   "outputs": [],
   "source": [
    "LR_START = 0.00001\n",
    "LR_MAX = 0.00005 \n",
    "LR_MIN = 0.00001\n",
    "LR_RAMPUP_EPOCHS = 4\n",
    "LR_SUSTAIN_EPOCHS = 6\n",
    "LR_EXP_DECAY = .8\n",
    "\n",
    "def lrfn(epoch):\n",
    "    if epoch < LR_RAMPUP_EPOCHS:\n",
    "        lr = (LR_MAX - LR_START) / LR_RAMPUP_EPOCHS * epoch + LR_START\n",
    "    elif epoch < LR_RAMPUP_EPOCHS + LR_SUSTAIN_EPOCHS:\n",
    "        lr = LR_MAX\n",
    "    else:\n",
    "        lr = (LR_MAX - LR_MIN) * LR_EXP_DECAY**(epoch - LR_RAMPUP_EPOCHS - LR_SUSTAIN_EPOCHS) + LR_MIN\n",
    "    return lr\n",
    "    \n",
    "lr_callback = tf.keras.callbacks.LearningRateScheduler(lrfn, verbose=True)"
   ]
  },
  {
   "cell_type": "code",
   "execution_count": null,
   "metadata": {},
   "outputs": [],
   "source": []
  },
  {
   "cell_type": "code",
   "execution_count": 40,
   "metadata": {},
   "outputs": [],
   "source": [
    "from tensorflow.keras.applications import Xception\n",
    "from tensorflow.keras.models import Model\n",
    "from tensorflow import keras\n",
    "\n",
    "Dense_net = keras.models.load_model('MobileNetV2')\n"
   ]
  },
  {
   "cell_type": "code",
   "execution_count": 41,
   "metadata": {},
   "outputs": [
    {
     "name": "stdout",
     "output_type": "stream",
     "text": [
      "Model: \"model\"\n",
      "__________________________________________________________________________________________________\n",
      "Layer (type)                    Output Shape         Param #     Connected to                     \n",
      "==================================================================================================\n",
      "input_1 (InputLayer)            [(None, 224, 224, 3) 0                                            \n",
      "__________________________________________________________________________________________________\n",
      "Conv1 (Conv2D)                  (None, 112, 112, 32) 864         input_1[0][0]                    \n",
      "__________________________________________________________________________________________________\n",
      "bn_Conv1 (BatchNormalization)   (None, 112, 112, 32) 128         Conv1[0][0]                      \n",
      "__________________________________________________________________________________________________\n",
      "Conv1_relu (ReLU)               (None, 112, 112, 32) 0           bn_Conv1[0][0]                   \n",
      "__________________________________________________________________________________________________\n",
      "expanded_conv_depthwise (Depthw (None, 112, 112, 32) 288         Conv1_relu[0][0]                 \n",
      "__________________________________________________________________________________________________\n",
      "expanded_conv_depthwise_BN (Bat (None, 112, 112, 32) 128         expanded_conv_depthwise[0][0]    \n",
      "__________________________________________________________________________________________________\n",
      "expanded_conv_depthwise_relu (R (None, 112, 112, 32) 0           expanded_conv_depthwise_BN[0][0] \n",
      "__________________________________________________________________________________________________\n",
      "expanded_conv_project (Conv2D)  (None, 112, 112, 16) 512         expanded_conv_depthwise_relu[0][0\n",
      "__________________________________________________________________________________________________\n",
      "expanded_conv_project_BN (Batch (None, 112, 112, 16) 64          expanded_conv_project[0][0]      \n",
      "__________________________________________________________________________________________________\n",
      "block_1_expand (Conv2D)         (None, 112, 112, 96) 1536        expanded_conv_project_BN[0][0]   \n",
      "__________________________________________________________________________________________________\n",
      "block_1_expand_BN (BatchNormali (None, 112, 112, 96) 384         block_1_expand[0][0]             \n",
      "__________________________________________________________________________________________________\n",
      "block_1_expand_relu (ReLU)      (None, 112, 112, 96) 0           block_1_expand_BN[0][0]          \n",
      "__________________________________________________________________________________________________\n",
      "block_1_pad (ZeroPadding2D)     (None, 113, 113, 96) 0           block_1_expand_relu[0][0]        \n",
      "__________________________________________________________________________________________________\n",
      "block_1_depthwise (DepthwiseCon (None, 56, 56, 96)   864         block_1_pad[0][0]                \n",
      "__________________________________________________________________________________________________\n",
      "block_1_depthwise_BN (BatchNorm (None, 56, 56, 96)   384         block_1_depthwise[0][0]          \n",
      "__________________________________________________________________________________________________\n",
      "block_1_depthwise_relu (ReLU)   (None, 56, 56, 96)   0           block_1_depthwise_BN[0][0]       \n",
      "__________________________________________________________________________________________________\n",
      "block_1_project (Conv2D)        (None, 56, 56, 24)   2304        block_1_depthwise_relu[0][0]     \n",
      "__________________________________________________________________________________________________\n",
      "block_1_project_BN (BatchNormal (None, 56, 56, 24)   96          block_1_project[0][0]            \n",
      "__________________________________________________________________________________________________\n",
      "block_2_expand (Conv2D)         (None, 56, 56, 144)  3456        block_1_project_BN[0][0]         \n",
      "__________________________________________________________________________________________________\n",
      "block_2_expand_BN (BatchNormali (None, 56, 56, 144)  576         block_2_expand[0][0]             \n",
      "__________________________________________________________________________________________________\n",
      "block_2_expand_relu (ReLU)      (None, 56, 56, 144)  0           block_2_expand_BN[0][0]          \n",
      "__________________________________________________________________________________________________\n",
      "block_2_depthwise (DepthwiseCon (None, 56, 56, 144)  1296        block_2_expand_relu[0][0]        \n",
      "__________________________________________________________________________________________________\n",
      "block_2_depthwise_BN (BatchNorm (None, 56, 56, 144)  576         block_2_depthwise[0][0]          \n",
      "__________________________________________________________________________________________________\n",
      "block_2_depthwise_relu (ReLU)   (None, 56, 56, 144)  0           block_2_depthwise_BN[0][0]       \n",
      "__________________________________________________________________________________________________\n",
      "block_2_project (Conv2D)        (None, 56, 56, 24)   3456        block_2_depthwise_relu[0][0]     \n",
      "__________________________________________________________________________________________________\n",
      "block_2_project_BN (BatchNormal (None, 56, 56, 24)   96          block_2_project[0][0]            \n",
      "__________________________________________________________________________________________________\n",
      "block_2_add (Add)               (None, 56, 56, 24)   0           block_1_project_BN[0][0]         \n",
      "                                                                 block_2_project_BN[0][0]         \n",
      "__________________________________________________________________________________________________\n",
      "block_3_expand (Conv2D)         (None, 56, 56, 144)  3456        block_2_add[0][0]                \n",
      "__________________________________________________________________________________________________\n",
      "block_3_expand_BN (BatchNormali (None, 56, 56, 144)  576         block_3_expand[0][0]             \n",
      "__________________________________________________________________________________________________\n",
      "block_3_expand_relu (ReLU)      (None, 56, 56, 144)  0           block_3_expand_BN[0][0]          \n",
      "__________________________________________________________________________________________________\n",
      "block_3_pad (ZeroPadding2D)     (None, 57, 57, 144)  0           block_3_expand_relu[0][0]        \n",
      "__________________________________________________________________________________________________\n",
      "block_3_depthwise (DepthwiseCon (None, 28, 28, 144)  1296        block_3_pad[0][0]                \n",
      "__________________________________________________________________________________________________\n",
      "block_3_depthwise_BN (BatchNorm (None, 28, 28, 144)  576         block_3_depthwise[0][0]          \n",
      "__________________________________________________________________________________________________\n",
      "block_3_depthwise_relu (ReLU)   (None, 28, 28, 144)  0           block_3_depthwise_BN[0][0]       \n",
      "__________________________________________________________________________________________________\n",
      "block_3_project (Conv2D)        (None, 28, 28, 32)   4608        block_3_depthwise_relu[0][0]     \n",
      "__________________________________________________________________________________________________\n",
      "block_3_project_BN (BatchNormal (None, 28, 28, 32)   128         block_3_project[0][0]            \n",
      "__________________________________________________________________________________________________\n",
      "block_4_expand (Conv2D)         (None, 28, 28, 192)  6144        block_3_project_BN[0][0]         \n",
      "__________________________________________________________________________________________________\n",
      "block_4_expand_BN (BatchNormali (None, 28, 28, 192)  768         block_4_expand[0][0]             \n",
      "__________________________________________________________________________________________________\n",
      "block_4_expand_relu (ReLU)      (None, 28, 28, 192)  0           block_4_expand_BN[0][0]          \n",
      "__________________________________________________________________________________________________\n",
      "block_4_depthwise (DepthwiseCon (None, 28, 28, 192)  1728        block_4_expand_relu[0][0]        \n",
      "__________________________________________________________________________________________________\n",
      "block_4_depthwise_BN (BatchNorm (None, 28, 28, 192)  768         block_4_depthwise[0][0]          \n",
      "__________________________________________________________________________________________________\n",
      "block_4_depthwise_relu (ReLU)   (None, 28, 28, 192)  0           block_4_depthwise_BN[0][0]       \n",
      "__________________________________________________________________________________________________\n",
      "block_4_project (Conv2D)        (None, 28, 28, 32)   6144        block_4_depthwise_relu[0][0]     \n",
      "__________________________________________________________________________________________________\n",
      "block_4_project_BN (BatchNormal (None, 28, 28, 32)   128         block_4_project[0][0]            \n",
      "__________________________________________________________________________________________________\n",
      "block_4_add (Add)               (None, 28, 28, 32)   0           block_3_project_BN[0][0]         \n",
      "                                                                 block_4_project_BN[0][0]         \n",
      "__________________________________________________________________________________________________\n",
      "block_5_expand (Conv2D)         (None, 28, 28, 192)  6144        block_4_add[0][0]                \n",
      "__________________________________________________________________________________________________\n",
      "block_5_expand_BN (BatchNormali (None, 28, 28, 192)  768         block_5_expand[0][0]             \n",
      "__________________________________________________________________________________________________\n",
      "block_5_expand_relu (ReLU)      (None, 28, 28, 192)  0           block_5_expand_BN[0][0]          \n",
      "__________________________________________________________________________________________________\n",
      "block_5_depthwise (DepthwiseCon (None, 28, 28, 192)  1728        block_5_expand_relu[0][0]        \n",
      "__________________________________________________________________________________________________\n",
      "block_5_depthwise_BN (BatchNorm (None, 28, 28, 192)  768         block_5_depthwise[0][0]          \n",
      "__________________________________________________________________________________________________\n",
      "block_5_depthwise_relu (ReLU)   (None, 28, 28, 192)  0           block_5_depthwise_BN[0][0]       \n",
      "__________________________________________________________________________________________________\n",
      "block_5_project (Conv2D)        (None, 28, 28, 32)   6144        block_5_depthwise_relu[0][0]     \n",
      "__________________________________________________________________________________________________\n",
      "block_5_project_BN (BatchNormal (None, 28, 28, 32)   128         block_5_project[0][0]            \n",
      "__________________________________________________________________________________________________\n",
      "block_5_add (Add)               (None, 28, 28, 32)   0           block_4_add[0][0]                \n",
      "                                                                 block_5_project_BN[0][0]         \n",
      "__________________________________________________________________________________________________\n",
      "block_6_expand (Conv2D)         (None, 28, 28, 192)  6144        block_5_add[0][0]                \n",
      "__________________________________________________________________________________________________\n",
      "block_6_expand_BN (BatchNormali (None, 28, 28, 192)  768         block_6_expand[0][0]             \n",
      "__________________________________________________________________________________________________\n",
      "block_6_expand_relu (ReLU)      (None, 28, 28, 192)  0           block_6_expand_BN[0][0]          \n",
      "__________________________________________________________________________________________________\n",
      "block_6_pad (ZeroPadding2D)     (None, 29, 29, 192)  0           block_6_expand_relu[0][0]        \n",
      "__________________________________________________________________________________________________\n",
      "block_6_depthwise (DepthwiseCon (None, 14, 14, 192)  1728        block_6_pad[0][0]                \n",
      "__________________________________________________________________________________________________\n",
      "block_6_depthwise_BN (BatchNorm (None, 14, 14, 192)  768         block_6_depthwise[0][0]          \n",
      "__________________________________________________________________________________________________\n",
      "block_6_depthwise_relu (ReLU)   (None, 14, 14, 192)  0           block_6_depthwise_BN[0][0]       \n",
      "__________________________________________________________________________________________________\n",
      "block_6_project (Conv2D)        (None, 14, 14, 64)   12288       block_6_depthwise_relu[0][0]     \n",
      "__________________________________________________________________________________________________\n",
      "block_6_project_BN (BatchNormal (None, 14, 14, 64)   256         block_6_project[0][0]            \n",
      "__________________________________________________________________________________________________\n",
      "block_7_expand (Conv2D)         (None, 14, 14, 384)  24576       block_6_project_BN[0][0]         \n",
      "__________________________________________________________________________________________________\n",
      "block_7_expand_BN (BatchNormali (None, 14, 14, 384)  1536        block_7_expand[0][0]             \n",
      "__________________________________________________________________________________________________\n",
      "block_7_expand_relu (ReLU)      (None, 14, 14, 384)  0           block_7_expand_BN[0][0]          \n",
      "__________________________________________________________________________________________________\n",
      "block_7_depthwise (DepthwiseCon (None, 14, 14, 384)  3456        block_7_expand_relu[0][0]        \n",
      "__________________________________________________________________________________________________\n",
      "block_7_depthwise_BN (BatchNorm (None, 14, 14, 384)  1536        block_7_depthwise[0][0]          \n",
      "__________________________________________________________________________________________________\n",
      "block_7_depthwise_relu (ReLU)   (None, 14, 14, 384)  0           block_7_depthwise_BN[0][0]       \n",
      "__________________________________________________________________________________________________\n",
      "block_7_project (Conv2D)        (None, 14, 14, 64)   24576       block_7_depthwise_relu[0][0]     \n",
      "__________________________________________________________________________________________________\n",
      "block_7_project_BN (BatchNormal (None, 14, 14, 64)   256         block_7_project[0][0]            \n",
      "__________________________________________________________________________________________________\n",
      "block_7_add (Add)               (None, 14, 14, 64)   0           block_6_project_BN[0][0]         \n",
      "                                                                 block_7_project_BN[0][0]         \n",
      "__________________________________________________________________________________________________\n",
      "block_8_expand (Conv2D)         (None, 14, 14, 384)  24576       block_7_add[0][0]                \n",
      "__________________________________________________________________________________________________\n",
      "block_8_expand_BN (BatchNormali (None, 14, 14, 384)  1536        block_8_expand[0][0]             \n",
      "__________________________________________________________________________________________________\n",
      "block_8_expand_relu (ReLU)      (None, 14, 14, 384)  0           block_8_expand_BN[0][0]          \n",
      "__________________________________________________________________________________________________\n",
      "block_8_depthwise (DepthwiseCon (None, 14, 14, 384)  3456        block_8_expand_relu[0][0]        \n",
      "__________________________________________________________________________________________________\n",
      "block_8_depthwise_BN (BatchNorm (None, 14, 14, 384)  1536        block_8_depthwise[0][0]          \n",
      "__________________________________________________________________________________________________\n",
      "block_8_depthwise_relu (ReLU)   (None, 14, 14, 384)  0           block_8_depthwise_BN[0][0]       \n",
      "__________________________________________________________________________________________________\n",
      "block_8_project (Conv2D)        (None, 14, 14, 64)   24576       block_8_depthwise_relu[0][0]     \n",
      "__________________________________________________________________________________________________\n",
      "block_8_project_BN (BatchNormal (None, 14, 14, 64)   256         block_8_project[0][0]            \n",
      "__________________________________________________________________________________________________\n",
      "block_8_add (Add)               (None, 14, 14, 64)   0           block_7_add[0][0]                \n",
      "                                                                 block_8_project_BN[0][0]         \n",
      "__________________________________________________________________________________________________\n",
      "block_9_expand (Conv2D)         (None, 14, 14, 384)  24576       block_8_add[0][0]                \n",
      "__________________________________________________________________________________________________\n",
      "block_9_expand_BN (BatchNormali (None, 14, 14, 384)  1536        block_9_expand[0][0]             \n",
      "__________________________________________________________________________________________________\n",
      "block_9_expand_relu (ReLU)      (None, 14, 14, 384)  0           block_9_expand_BN[0][0]          \n",
      "__________________________________________________________________________________________________\n",
      "block_9_depthwise (DepthwiseCon (None, 14, 14, 384)  3456        block_9_expand_relu[0][0]        \n",
      "__________________________________________________________________________________________________\n",
      "block_9_depthwise_BN (BatchNorm (None, 14, 14, 384)  1536        block_9_depthwise[0][0]          \n",
      "__________________________________________________________________________________________________\n",
      "block_9_depthwise_relu (ReLU)   (None, 14, 14, 384)  0           block_9_depthwise_BN[0][0]       \n",
      "__________________________________________________________________________________________________\n",
      "block_9_project (Conv2D)        (None, 14, 14, 64)   24576       block_9_depthwise_relu[0][0]     \n",
      "__________________________________________________________________________________________________\n",
      "block_9_project_BN (BatchNormal (None, 14, 14, 64)   256         block_9_project[0][0]            \n",
      "__________________________________________________________________________________________________\n",
      "block_9_add (Add)               (None, 14, 14, 64)   0           block_8_add[0][0]                \n",
      "                                                                 block_9_project_BN[0][0]         \n",
      "__________________________________________________________________________________________________\n",
      "block_10_expand (Conv2D)        (None, 14, 14, 384)  24576       block_9_add[0][0]                \n",
      "__________________________________________________________________________________________________\n",
      "block_10_expand_BN (BatchNormal (None, 14, 14, 384)  1536        block_10_expand[0][0]            \n",
      "__________________________________________________________________________________________________\n",
      "block_10_expand_relu (ReLU)     (None, 14, 14, 384)  0           block_10_expand_BN[0][0]         \n",
      "__________________________________________________________________________________________________\n",
      "block_10_depthwise (DepthwiseCo (None, 14, 14, 384)  3456        block_10_expand_relu[0][0]       \n",
      "__________________________________________________________________________________________________\n",
      "block_10_depthwise_BN (BatchNor (None, 14, 14, 384)  1536        block_10_depthwise[0][0]         \n",
      "__________________________________________________________________________________________________\n",
      "block_10_depthwise_relu (ReLU)  (None, 14, 14, 384)  0           block_10_depthwise_BN[0][0]      \n",
      "__________________________________________________________________________________________________\n",
      "block_10_project (Conv2D)       (None, 14, 14, 96)   36864       block_10_depthwise_relu[0][0]    \n",
      "__________________________________________________________________________________________________\n",
      "block_10_project_BN (BatchNorma (None, 14, 14, 96)   384         block_10_project[0][0]           \n",
      "__________________________________________________________________________________________________\n",
      "block_11_expand (Conv2D)        (None, 14, 14, 576)  55296       block_10_project_BN[0][0]        \n",
      "__________________________________________________________________________________________________\n",
      "block_11_expand_BN (BatchNormal (None, 14, 14, 576)  2304        block_11_expand[0][0]            \n",
      "__________________________________________________________________________________________________\n",
      "block_11_expand_relu (ReLU)     (None, 14, 14, 576)  0           block_11_expand_BN[0][0]         \n",
      "__________________________________________________________________________________________________\n",
      "block_11_depthwise (DepthwiseCo (None, 14, 14, 576)  5184        block_11_expand_relu[0][0]       \n",
      "__________________________________________________________________________________________________\n",
      "block_11_depthwise_BN (BatchNor (None, 14, 14, 576)  2304        block_11_depthwise[0][0]         \n",
      "__________________________________________________________________________________________________\n",
      "block_11_depthwise_relu (ReLU)  (None, 14, 14, 576)  0           block_11_depthwise_BN[0][0]      \n",
      "__________________________________________________________________________________________________\n",
      "block_11_project (Conv2D)       (None, 14, 14, 96)   55296       block_11_depthwise_relu[0][0]    \n",
      "__________________________________________________________________________________________________\n",
      "block_11_project_BN (BatchNorma (None, 14, 14, 96)   384         block_11_project[0][0]           \n",
      "__________________________________________________________________________________________________\n",
      "block_11_add (Add)              (None, 14, 14, 96)   0           block_10_project_BN[0][0]        \n",
      "                                                                 block_11_project_BN[0][0]        \n",
      "__________________________________________________________________________________________________\n",
      "block_12_expand (Conv2D)        (None, 14, 14, 576)  55296       block_11_add[0][0]               \n",
      "__________________________________________________________________________________________________\n",
      "block_12_expand_BN (BatchNormal (None, 14, 14, 576)  2304        block_12_expand[0][0]            \n",
      "__________________________________________________________________________________________________\n",
      "block_12_expand_relu (ReLU)     (None, 14, 14, 576)  0           block_12_expand_BN[0][0]         \n",
      "__________________________________________________________________________________________________\n",
      "block_12_depthwise (DepthwiseCo (None, 14, 14, 576)  5184        block_12_expand_relu[0][0]       \n",
      "__________________________________________________________________________________________________\n",
      "block_12_depthwise_BN (BatchNor (None, 14, 14, 576)  2304        block_12_depthwise[0][0]         \n",
      "__________________________________________________________________________________________________\n",
      "block_12_depthwise_relu (ReLU)  (None, 14, 14, 576)  0           block_12_depthwise_BN[0][0]      \n",
      "__________________________________________________________________________________________________\n",
      "block_12_project (Conv2D)       (None, 14, 14, 96)   55296       block_12_depthwise_relu[0][0]    \n",
      "__________________________________________________________________________________________________\n",
      "block_12_project_BN (BatchNorma (None, 14, 14, 96)   384         block_12_project[0][0]           \n",
      "__________________________________________________________________________________________________\n",
      "block_12_add (Add)              (None, 14, 14, 96)   0           block_11_add[0][0]               \n",
      "                                                                 block_12_project_BN[0][0]        \n",
      "__________________________________________________________________________________________________\n",
      "block_13_expand (Conv2D)        (None, 14, 14, 576)  55296       block_12_add[0][0]               \n",
      "__________________________________________________________________________________________________\n",
      "block_13_expand_BN (BatchNormal (None, 14, 14, 576)  2304        block_13_expand[0][0]            \n",
      "__________________________________________________________________________________________________\n",
      "block_13_expand_relu (ReLU)     (None, 14, 14, 576)  0           block_13_expand_BN[0][0]         \n",
      "__________________________________________________________________________________________________\n",
      "block_13_pad (ZeroPadding2D)    (None, 15, 15, 576)  0           block_13_expand_relu[0][0]       \n",
      "__________________________________________________________________________________________________\n",
      "block_13_depthwise (DepthwiseCo (None, 7, 7, 576)    5184        block_13_pad[0][0]               \n",
      "__________________________________________________________________________________________________\n",
      "block_13_depthwise_BN (BatchNor (None, 7, 7, 576)    2304        block_13_depthwise[0][0]         \n",
      "__________________________________________________________________________________________________\n",
      "block_13_depthwise_relu (ReLU)  (None, 7, 7, 576)    0           block_13_depthwise_BN[0][0]      \n",
      "__________________________________________________________________________________________________\n",
      "block_13_project (Conv2D)       (None, 7, 7, 160)    92160       block_13_depthwise_relu[0][0]    \n",
      "__________________________________________________________________________________________________\n",
      "block_13_project_BN (BatchNorma (None, 7, 7, 160)    640         block_13_project[0][0]           \n",
      "__________________________________________________________________________________________________\n",
      "block_14_expand (Conv2D)        (None, 7, 7, 960)    153600      block_13_project_BN[0][0]        \n",
      "__________________________________________________________________________________________________\n",
      "block_14_expand_BN (BatchNormal (None, 7, 7, 960)    3840        block_14_expand[0][0]            \n",
      "__________________________________________________________________________________________________\n",
      "block_14_expand_relu (ReLU)     (None, 7, 7, 960)    0           block_14_expand_BN[0][0]         \n",
      "__________________________________________________________________________________________________\n",
      "block_14_depthwise (DepthwiseCo (None, 7, 7, 960)    8640        block_14_expand_relu[0][0]       \n",
      "__________________________________________________________________________________________________\n",
      "block_14_depthwise_BN (BatchNor (None, 7, 7, 960)    3840        block_14_depthwise[0][0]         \n",
      "__________________________________________________________________________________________________\n",
      "block_14_depthwise_relu (ReLU)  (None, 7, 7, 960)    0           block_14_depthwise_BN[0][0]      \n",
      "__________________________________________________________________________________________________\n",
      "block_14_project (Conv2D)       (None, 7, 7, 160)    153600      block_14_depthwise_relu[0][0]    \n",
      "__________________________________________________________________________________________________\n",
      "block_14_project_BN (BatchNorma (None, 7, 7, 160)    640         block_14_project[0][0]           \n",
      "__________________________________________________________________________________________________\n",
      "block_14_add (Add)              (None, 7, 7, 160)    0           block_13_project_BN[0][0]        \n",
      "                                                                 block_14_project_BN[0][0]        \n",
      "__________________________________________________________________________________________________\n",
      "block_15_expand (Conv2D)        (None, 7, 7, 960)    153600      block_14_add[0][0]               \n",
      "__________________________________________________________________________________________________\n",
      "block_15_expand_BN (BatchNormal (None, 7, 7, 960)    3840        block_15_expand[0][0]            \n",
      "__________________________________________________________________________________________________\n",
      "block_15_expand_relu (ReLU)     (None, 7, 7, 960)    0           block_15_expand_BN[0][0]         \n",
      "__________________________________________________________________________________________________\n",
      "block_15_depthwise (DepthwiseCo (None, 7, 7, 960)    8640        block_15_expand_relu[0][0]       \n",
      "__________________________________________________________________________________________________\n",
      "block_15_depthwise_BN (BatchNor (None, 7, 7, 960)    3840        block_15_depthwise[0][0]         \n",
      "__________________________________________________________________________________________________\n",
      "block_15_depthwise_relu (ReLU)  (None, 7, 7, 960)    0           block_15_depthwise_BN[0][0]      \n",
      "__________________________________________________________________________________________________\n",
      "block_15_project (Conv2D)       (None, 7, 7, 160)    153600      block_15_depthwise_relu[0][0]    \n",
      "__________________________________________________________________________________________________\n",
      "block_15_project_BN (BatchNorma (None, 7, 7, 160)    640         block_15_project[0][0]           \n",
      "__________________________________________________________________________________________________\n",
      "block_15_add (Add)              (None, 7, 7, 160)    0           block_14_add[0][0]               \n",
      "                                                                 block_15_project_BN[0][0]        \n",
      "__________________________________________________________________________________________________\n",
      "block_16_expand (Conv2D)        (None, 7, 7, 960)    153600      block_15_add[0][0]               \n",
      "__________________________________________________________________________________________________\n",
      "block_16_expand_BN (BatchNormal (None, 7, 7, 960)    3840        block_16_expand[0][0]            \n",
      "__________________________________________________________________________________________________\n",
      "block_16_expand_relu (ReLU)     (None, 7, 7, 960)    0           block_16_expand_BN[0][0]         \n",
      "__________________________________________________________________________________________________\n",
      "block_16_depthwise (DepthwiseCo (None, 7, 7, 960)    8640        block_16_expand_relu[0][0]       \n",
      "__________________________________________________________________________________________________\n",
      "block_16_depthwise_BN (BatchNor (None, 7, 7, 960)    3840        block_16_depthwise[0][0]         \n",
      "__________________________________________________________________________________________________\n",
      "block_16_depthwise_relu (ReLU)  (None, 7, 7, 960)    0           block_16_depthwise_BN[0][0]      \n",
      "__________________________________________________________________________________________________\n",
      "block_16_project (Conv2D)       (None, 7, 7, 320)    307200      block_16_depthwise_relu[0][0]    \n",
      "__________________________________________________________________________________________________\n",
      "block_16_project_BN (BatchNorma (None, 7, 7, 320)    1280        block_16_project[0][0]           \n",
      "__________________________________________________________________________________________________\n",
      "Conv_1 (Conv2D)                 (None, 7, 7, 1280)   409600      block_16_project_BN[0][0]        \n",
      "__________________________________________________________________________________________________\n",
      "Conv_1_bn (BatchNormalization)  (None, 7, 7, 1280)   5120        Conv_1[0][0]                     \n",
      "__________________________________________________________________________________________________\n",
      "out_relu (ReLU)                 (None, 7, 7, 1280)   0           Conv_1_bn[0][0]                  \n",
      "__________________________________________________________________________________________________\n",
      "global_average_pooling2d (Globa (None, 1280)         0           out_relu[0][0]                   \n",
      "__________________________________________________________________________________________________\n",
      "dense (Dense)                   (None, 3)            3843        global_average_pooling2d[0][0]   \n",
      "==================================================================================================\n",
      "Total params: 2,261,827\n",
      "Trainable params: 2,227,715\n",
      "Non-trainable params: 34,112\n",
      "__________________________________________________________________________________________________\n"
     ]
    }
   ],
   "source": [
    "Dense_net.summary()"
   ]
  },
  {
   "cell_type": "code",
   "execution_count": 42,
   "metadata": {
    "colab": {
     "base_uri": "https://localhost:8080/",
     "height": 458
    },
    "id": "u1cu0pN-7XNZ",
    "outputId": "fb346f0b-6717-44bf-b738-87aa6357360f"
   },
   "outputs": [],
   "source": [
    "x = Dense_net.get_layer(\"global_average_pooling2d\").output\n",
    "\n",
    "x = tf.keras.layers.Dense(8, activation='softmax')(x)\n",
    "model = keras.Model(inputs = Dense_net.input,outputs=x)\n",
    "model.compile( optimizer= 'adam',loss=\"categorical_crossentropy\", metrics=[\"accuracy\"])"
   ]
  },
  {
   "cell_type": "code",
   "execution_count": 43,
   "metadata": {
    "scrolled": true
   },
   "outputs": [
    {
     "name": "stdout",
     "output_type": "stream",
     "text": [
      "Epoch 1/40\n",
      "77/77 [==============================] - 23s 130ms/step - loss: 1.9933 - accuracy: 0.2321 - val_loss: 5.0004 - val_accuracy: 0.2177\n",
      "Epoch 2/40\n",
      "77/77 [==============================] - 9s 121ms/step - loss: 1.6082 - accuracy: 0.3945 - val_loss: 12.1363 - val_accuracy: 0.1210\n",
      "Epoch 3/40\n",
      "77/77 [==============================] - 9s 120ms/step - loss: 1.4164 - accuracy: 0.4464 - val_loss: 16.5638 - val_accuracy: 0.0887\n",
      "Epoch 4/40\n",
      "77/77 [==============================] - 9s 122ms/step - loss: 1.3681 - accuracy: 0.4789 - val_loss: 9.7634 - val_accuracy: 0.0968\n",
      "Epoch 5/40\n",
      "77/77 [==============================] - 9s 121ms/step - loss: 1.2094 - accuracy: 0.5455 - val_loss: 14.9940 - val_accuracy: 0.0887\n",
      "Epoch 6/40\n",
      "77/77 [==============================] - 9s 121ms/step - loss: 1.1349 - accuracy: 0.5536 - val_loss: 13.4585 - val_accuracy: 0.0887\n",
      "Epoch 7/40\n",
      "77/77 [==============================] - 9s 120ms/step - loss: 1.2334 - accuracy: 0.5146 - val_loss: 8.0826 - val_accuracy: 0.0968\n",
      "Epoch 8/40\n",
      "77/77 [==============================] - 9s 123ms/step - loss: 1.1658 - accuracy: 0.5649 - val_loss: 2.6594 - val_accuracy: 0.2177\n",
      "Epoch 9/40\n",
      "77/77 [==============================] - 9s 122ms/step - loss: 1.0323 - accuracy: 0.5958 - val_loss: 10.0329 - val_accuracy: 0.1129\n",
      "Epoch 10/40\n",
      "77/77 [==============================] - 9s 122ms/step - loss: 1.0991 - accuracy: 0.5844 - val_loss: 8.7828 - val_accuracy: 0.1532\n",
      "Epoch 11/40\n",
      "77/77 [==============================] - 9s 119ms/step - loss: 0.9313 - accuracy: 0.6185 - val_loss: 13.9891 - val_accuracy: 0.0968\n",
      "Epoch 12/40\n",
      "77/77 [==============================] - 9s 117ms/step - loss: 0.9456 - accuracy: 0.6331 - val_loss: 12.1644 - val_accuracy: 0.1532\n",
      "Epoch 13/40\n",
      "77/77 [==============================] - 9s 120ms/step - loss: 0.9067 - accuracy: 0.6412 - val_loss: 19.6944 - val_accuracy: 0.0887\n",
      "Epoch 14/40\n",
      "77/77 [==============================] - 9s 119ms/step - loss: 0.9534 - accuracy: 0.6542 - val_loss: 12.9001 - val_accuracy: 0.0806\n",
      "Epoch 15/40\n",
      "77/77 [==============================] - 9s 122ms/step - loss: 0.8222 - accuracy: 0.7062 - val_loss: 17.7879 - val_accuracy: 0.0968\n",
      "Epoch 16/40\n",
      "77/77 [==============================] - 9s 119ms/step - loss: 0.8179 - accuracy: 0.6948 - val_loss: 8.0344 - val_accuracy: 0.1210\n",
      "Epoch 17/40\n",
      "77/77 [==============================] - 9s 119ms/step - loss: 0.7353 - accuracy: 0.7273 - val_loss: 15.8584 - val_accuracy: 0.1048\n",
      "Epoch 18/40\n",
      "77/77 [==============================] - 9s 120ms/step - loss: 0.7928 - accuracy: 0.6981 - val_loss: 13.2628 - val_accuracy: 0.1048\n",
      "Epoch 19/40\n",
      "77/77 [==============================] - 9s 119ms/step - loss: 0.6166 - accuracy: 0.7760 - val_loss: 8.9863 - val_accuracy: 0.2016\n",
      "Epoch 20/40\n",
      "77/77 [==============================] - 9s 122ms/step - loss: 0.6340 - accuracy: 0.7727 - val_loss: 16.2005 - val_accuracy: 0.1048\n",
      "Epoch 21/40\n",
      "77/77 [==============================] - 9s 121ms/step - loss: 0.6711 - accuracy: 0.7695 - val_loss: 14.2702 - val_accuracy: 0.1290\n",
      "Epoch 22/40\n",
      "77/77 [==============================] - 9s 120ms/step - loss: 0.6519 - accuracy: 0.7679 - val_loss: 6.0899 - val_accuracy: 0.2742\n",
      "Epoch 23/40\n",
      "77/77 [==============================] - 9s 121ms/step - loss: 0.6099 - accuracy: 0.7922 - val_loss: 25.5181 - val_accuracy: 0.0968\n",
      "Epoch 24/40\n",
      "77/77 [==============================] - 9s 122ms/step - loss: 0.5881 - accuracy: 0.7776 - val_loss: 11.9339 - val_accuracy: 0.1290\n",
      "Epoch 25/40\n",
      "77/77 [==============================] - 9s 121ms/step - loss: 0.5243 - accuracy: 0.8068 - val_loss: 7.9458 - val_accuracy: 0.1774\n",
      "Epoch 26/40\n",
      "77/77 [==============================] - 9s 121ms/step - loss: 0.6026 - accuracy: 0.7841 - val_loss: 8.0927 - val_accuracy: 0.1613\n",
      "Epoch 27/40\n",
      "77/77 [==============================] - 9s 121ms/step - loss: 0.5537 - accuracy: 0.7987 - val_loss: 9.7284 - val_accuracy: 0.1774\n",
      "Epoch 28/40\n",
      "77/77 [==============================] - 9s 118ms/step - loss: 0.4677 - accuracy: 0.8442 - val_loss: 6.3533 - val_accuracy: 0.2984\n",
      "Epoch 29/40\n",
      "77/77 [==============================] - 9s 123ms/step - loss: 0.4599 - accuracy: 0.8295 - val_loss: 4.3071 - val_accuracy: 0.3790\n",
      "Epoch 30/40\n",
      "77/77 [==============================] - 9s 120ms/step - loss: 0.4176 - accuracy: 0.8571 - val_loss: 7.7370 - val_accuracy: 0.2742\n",
      "Epoch 31/40\n",
      "77/77 [==============================] - 9s 120ms/step - loss: 0.4658 - accuracy: 0.8214 - val_loss: 7.6690 - val_accuracy: 0.2581\n",
      "Epoch 32/40\n",
      "77/77 [==============================] - 9s 118ms/step - loss: 0.4238 - accuracy: 0.8393 - val_loss: 3.4269 - val_accuracy: 0.4839\n",
      "Epoch 33/40\n",
      "77/77 [==============================] - 9s 121ms/step - loss: 0.3497 - accuracy: 0.8669 - val_loss: 8.5406 - val_accuracy: 0.3145\n",
      "Epoch 34/40\n",
      "77/77 [==============================] - 9s 118ms/step - loss: 0.4159 - accuracy: 0.8669 - val_loss: 5.3765 - val_accuracy: 0.3548\n",
      "Epoch 35/40\n",
      "77/77 [==============================] - 9s 120ms/step - loss: 0.3550 - accuracy: 0.8864 - val_loss: 4.0720 - val_accuracy: 0.3952\n",
      "Epoch 36/40\n",
      "77/77 [==============================] - 9s 119ms/step - loss: 0.3696 - accuracy: 0.8620 - val_loss: 5.9869 - val_accuracy: 0.3952\n",
      "Epoch 37/40\n",
      "77/77 [==============================] - 9s 122ms/step - loss: 0.3711 - accuracy: 0.8555 - val_loss: 5.7839 - val_accuracy: 0.4113\n",
      "Epoch 38/40\n",
      "77/77 [==============================] - 9s 120ms/step - loss: 0.4079 - accuracy: 0.8506 - val_loss: 6.8712 - val_accuracy: 0.2742\n",
      "Epoch 39/40\n",
      "77/77 [==============================] - 9s 119ms/step - loss: 0.3559 - accuracy: 0.8653 - val_loss: 5.2090 - val_accuracy: 0.3952\n",
      "Epoch 40/40\n",
      "77/77 [==============================] - 9s 119ms/step - loss: 0.2893 - accuracy: 0.9058 - val_loss: 8.1579 - val_accuracy: 0.2823\n"
     ]
    }
   ],
   "source": [
    "history=model.fit(\n",
    "    train_dataset,\n",
    "    steps_per_epoch=data_labels.shape[0] // BATCH_SIZE,\n",
    "    epochs=40,\n",
    "    validation_data=test_dataset\n",
    "    )"
   ]
  },
  {
   "cell_type": "code",
   "execution_count": 44,
   "metadata": {
    "id": "o3dnottQ-aH_"
   },
   "outputs": [],
   "source": [
    "def display_training_curves(training, validation, title, subplot):\n",
    "    if subplot%10==1: # set up the subplots on the first call\n",
    "        plt.subplots(figsize=(10,10), facecolor='#F0F0F0')\n",
    "        #plt.tight_layout()\n",
    "    ax = plt.subplot(subplot)\n",
    "    ax.set_facecolor('#F8F8F8')\n",
    "    ax.plot(training)\n",
    "    ax.plot(validation)\n",
    "    ax.set_title('model '+ title)\n",
    "    lax.set_ylabel(title)\n",
    "    #ax.set_ylim(0.28,1.05)\n",
    "    ax.set_xlabel('epoch')\n",
    "    ax.legend(['train', 'valid.'])"
   ]
  },
  {
   "cell_type": "code",
   "execution_count": 46,
   "metadata": {},
   "outputs": [
    {
     "ename": "NameError",
     "evalue": "name 'lax' is not defined",
     "output_type": "error",
     "traceback": [
      "\u001b[1;31m---------------------------------------------------------------------------\u001b[0m",
      "\u001b[1;31mNameError\u001b[0m                                 Traceback (most recent call last)",
      "\u001b[1;32m<ipython-input-46-bb51e739f239>\u001b[0m in \u001b[0;36m<module>\u001b[1;34m\u001b[0m\n\u001b[1;32m----> 1\u001b[1;33m \u001b[0mdisplay_training_curves\u001b[0m\u001b[1;33m(\u001b[0m\u001b[0mhistory\u001b[0m\u001b[1;33m.\u001b[0m\u001b[0mhistory\u001b[0m\u001b[1;33m[\u001b[0m\u001b[1;34m'accuracy'\u001b[0m\u001b[1;33m]\u001b[0m\u001b[1;33m[\u001b[0m\u001b[1;36m1\u001b[0m\u001b[1;33m:\u001b[0m\u001b[1;33m]\u001b[0m\u001b[1;33m,\u001b[0m \u001b[0mhistory\u001b[0m\u001b[1;33m.\u001b[0m\u001b[0mhistory\u001b[0m\u001b[1;33m[\u001b[0m\u001b[1;34m'val_accuracy'\u001b[0m\u001b[1;33m]\u001b[0m\u001b[1;33m[\u001b[0m\u001b[1;36m1\u001b[0m\u001b[1;33m:\u001b[0m\u001b[1;33m]\u001b[0m\u001b[1;33m,\u001b[0m \u001b[1;34m'accuracy'\u001b[0m\u001b[1;33m,\u001b[0m \u001b[1;36m211\u001b[0m\u001b[1;33m)\u001b[0m\u001b[1;33m\u001b[0m\u001b[1;33m\u001b[0m\u001b[0m\n\u001b[0m\u001b[0;32m      2\u001b[0m \u001b[0mdisplay_training_curves\u001b[0m\u001b[1;33m(\u001b[0m\u001b[0mhistory\u001b[0m\u001b[1;33m.\u001b[0m\u001b[0mhistory\u001b[0m\u001b[1;33m[\u001b[0m\u001b[1;34m'loss'\u001b[0m\u001b[1;33m]\u001b[0m\u001b[1;33m[\u001b[0m\u001b[1;36m1\u001b[0m\u001b[1;33m:\u001b[0m\u001b[1;33m]\u001b[0m\u001b[1;33m,\u001b[0m \u001b[0mhistory\u001b[0m\u001b[1;33m.\u001b[0m\u001b[0mhistory\u001b[0m\u001b[1;33m[\u001b[0m\u001b[1;34m'val_loss'\u001b[0m\u001b[1;33m]\u001b[0m\u001b[1;33m[\u001b[0m\u001b[1;36m1\u001b[0m\u001b[1;33m:\u001b[0m\u001b[1;33m]\u001b[0m\u001b[1;33m,\u001b[0m \u001b[1;34m'loss'\u001b[0m\u001b[1;33m,\u001b[0m \u001b[1;36m212\u001b[0m\u001b[1;33m)\u001b[0m\u001b[1;33m\u001b[0m\u001b[1;33m\u001b[0m\u001b[0m\n",
      "\u001b[1;32m<ipython-input-44-1bcd600c8d58>\u001b[0m in \u001b[0;36mdisplay_training_curves\u001b[1;34m(training, validation, title, subplot)\u001b[0m\n\u001b[0;32m      8\u001b[0m     \u001b[0max\u001b[0m\u001b[1;33m.\u001b[0m\u001b[0mplot\u001b[0m\u001b[1;33m(\u001b[0m\u001b[0mvalidation\u001b[0m\u001b[1;33m)\u001b[0m\u001b[1;33m\u001b[0m\u001b[1;33m\u001b[0m\u001b[0m\n\u001b[0;32m      9\u001b[0m     \u001b[0max\u001b[0m\u001b[1;33m.\u001b[0m\u001b[0mset_title\u001b[0m\u001b[1;33m(\u001b[0m\u001b[1;34m'model '\u001b[0m\u001b[1;33m+\u001b[0m \u001b[0mtitle\u001b[0m\u001b[1;33m)\u001b[0m\u001b[1;33m\u001b[0m\u001b[1;33m\u001b[0m\u001b[0m\n\u001b[1;32m---> 10\u001b[1;33m     \u001b[0mlax\u001b[0m\u001b[1;33m.\u001b[0m\u001b[0mset_ylabel\u001b[0m\u001b[1;33m(\u001b[0m\u001b[0mtitle\u001b[0m\u001b[1;33m)\u001b[0m\u001b[1;33m\u001b[0m\u001b[1;33m\u001b[0m\u001b[0m\n\u001b[0m\u001b[0;32m     11\u001b[0m     \u001b[1;31m#ax.set_ylim(0.28,1.05)\u001b[0m\u001b[1;33m\u001b[0m\u001b[1;33m\u001b[0m\u001b[1;33m\u001b[0m\u001b[0m\n\u001b[0;32m     12\u001b[0m     \u001b[0max\u001b[0m\u001b[1;33m.\u001b[0m\u001b[0mset_xlabel\u001b[0m\u001b[1;33m(\u001b[0m\u001b[1;34m'epoch'\u001b[0m\u001b[1;33m)\u001b[0m\u001b[1;33m\u001b[0m\u001b[1;33m\u001b[0m\u001b[0m\n",
      "\u001b[1;31mNameError\u001b[0m: name 'lax' is not defined"
     ]
    },
    {
     "data": {
      "image/png": "[encoded data removed]",
      "text/plain": [
       "<Figure size 720x720 with 1 Axes>"
      ]
     },
     "metadata": {},
     "output_type": "display_data"
    }
   ],
   "source": [
    "display_training_curves(history.history['accuracy'][1:], history.history['val_accuracy'][1:], 'accuracy', 211)\n",
    "display_training_curves(history.history['loss'][1:], history.history['val_loss'][1:], 'loss', 212)"
   ]
  },
  {
   "cell_type": "code",
   "execution_count": 47,
   "metadata": {},
   "outputs": [],
   "source": [
    "import pickle\n",
    "with open('training_log/MobileNetV2_224px_withoutdenselayer_620data_40epochs.pkl', 'wb') as output:\n",
    "        pickle.dump(history.history, output)"
   ]
  },
  {
   "cell_type": "code",
   "execution_count": null,
   "metadata": {},
   "outputs": [],
   "source": [
    "model.save('')"
   ]
  },
  {
   "cell_type": "code",
   "execution_count": null,
   "metadata": {},
   "outputs": [],
   "source": []
  }
 ],
 "metadata": {
  "accelerator": "TPU",
  "colab": {
   "name": "new_data.ipynb",
   "provenance": []
  },
  "kernelspec": {
   "display_name": "Python 3",
   "language": "python",
   "name": "python3"
  },
  "language_info": {
   "codemirror_mode": {
    "name": "ipython",
    "version": 3
   },
   "file_extension": ".py",
   "mimetype": "text/x-python",
   "name": "python",
   "nbconvert_exporter": "python",
   "pygments_lexer": "ipython3",
   "version": "3.8.5"
  }
 },
 "nbformat": 4,
 "nbformat_minor": 1
}
