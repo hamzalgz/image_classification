{
 "cells": [
  {
   "cell_type": "code",
   "execution_count": 1,
   "metadata": {},
   "outputs": [],
   "source": [
    "from tensorflow.compat.v1 import ConfigProto\n",
    "from tensorflow.compat.v1 import InteractiveSession\n",
    "config = ConfigProto()\n",
    "config.gpu_options.allow_growth = True\n",
    "session = InteractiveSession(config=config)"
   ]
  },
  {
   "cell_type": "code",
   "execution_count": 81,
   "metadata": {
    "id": "rWzMYFMXb8Ez",
    "scrolled": true
   },
   "outputs": [],
   "source": [
    "import numpy as np \n",
    "import pandas as pd\n",
    "import os\n",
    "import shutil\n",
    "import cv2\n",
    "from matplotlib import pyplot as plt\n",
    "import tensorflow as tf\n",
    "from tensorflow import keras\n",
    "from tensorflow.keras.preprocessing.image import ImageDataGenerator, array_to_img, img_to_array, load_img\n",
    "from sklearn.model_selection import train_test_split\n",
    "from tensorflow.keras.models import Sequential, Model\n",
    "from tensorflow.keras.layers import Activation, Dropout, Flatten, Dense, Conv2D, MaxPooling2D, BatchNormalization\n",
    "from tensorflow.keras.optimizers import Adam\n",
    "from tensorflow.keras.regularizers import l2\n",
    "from tensorflow.keras.applications import Xception\n",
    "import xml.etree.ElementTree as ET"
   ]
  },
  {
   "cell_type": "code",
   "execution_count": 76,
   "metadata": {},
   "outputs": [],
   "source": [
    "XML_PATH = os.path.join( \"annotations\")\n",
    "IMG_PATH = os.path.join( \"path\")\n",
    "XML_FILES = [os.path.join(XML_PATH, f) for f in os.listdir(XML_PATH)]"
   ]
  },
  {
   "cell_type": "code",
   "execution_count": 82,
   "metadata": {},
   "outputs": [],
   "source": [
    "class XmlParser(object):\n",
    "\n",
    "    def __init__(self,xml_file):\n",
    "\n",
    "        self.xml_file = xml_file\n",
    "        self._root = ET.parse(self.xml_file).getroot()\n",
    "        self._objects = self._root.findall(\"object\")\n",
    "        # path to the image file as describe in the xml file\n",
    "        self.img_path = os.path.join(IMG_PATH, self._root.find('filename').text)\n",
    "        # image id \n",
    "        self.image_id = self._root.find(\"filename\").text\n",
    "        # names of the classes contained in the xml file\n",
    "        self.names = self._get_names()\n",
    "        # coordinates of the bounding boxes\n",
    "        self.boxes = self._get_bndbox()\n",
    "\n",
    "    def parse_xml(self):\n",
    "        \"\"\"\"Parse the xml file returning the root.\"\"\"\n",
    "    \n",
    "        tree = ET.parse(self.xml_file)\n",
    "        return tree.getroot()\n",
    "\n",
    "    def _get_names(self):\n",
    "\n",
    "        names = []\n",
    "        for obj in self._objects:\n",
    "            name = obj.find(\"name\")\n",
    "            names.append(name.text)\n",
    "\n",
    "        return np.array(names)\n",
    "\n",
    "    def _get_bndbox(self):\n",
    "\n",
    "        boxes = []\n",
    "        for obj in self._objects:\n",
    "            coordinates = []\n",
    "            bndbox = obj.find(\"bndbox\")\n",
    "            coordinates.append(np.int32(bndbox.find(\"xmin\").text))\n",
    "            coordinates.append(np.int32(np.float32(bndbox.find(\"ymin\").text)))\n",
    "            coordinates.append(np.int32(bndbox.find(\"xmax\").text))\n",
    "            coordinates.append(np.int32(bndbox.find(\"ymax\").text))\n",
    "            boxes.append(coordinates)\n",
    "\n",
    "        return np.array(boxes)"
   ]
  },
  {
   "cell_type": "code",
   "execution_count": 94,
   "metadata": {},
   "outputs": [
    {
     "data": {
      "text/html": [
       "<div>\n",
       "<style scoped>\n",
       "    .dataframe tbody tr th:only-of-type {\n",
       "        vertical-align: middle;\n",
       "    }\n",
       "\n",
       "    .dataframe tbody tr th {\n",
       "        vertical-align: top;\n",
       "    }\n",
       "\n",
       "    .dataframe thead th {\n",
       "        text-align: right;\n",
       "    }\n",
       "</style>\n",
       "<table border=\"1\" class=\"dataframe\">\n",
       "  <thead>\n",
       "    <tr style=\"text-align: right;\">\n",
       "      <th></th>\n",
       "      <th>image_id</th>\n",
       "      <th>names</th>\n",
       "      <th>boxes</th>\n",
       "      <th>xml_path</th>\n",
       "      <th>img_path</th>\n",
       "    </tr>\n",
       "  </thead>\n",
       "  <tbody>\n",
       "    <tr>\n",
       "      <th>0</th>\n",
       "      <td>new_data0.jpeg</td>\n",
       "      <td>rouille</td>\n",
       "      <td>[448, 115, 751, 238]</td>\n",
       "      <td>annotations\\new_data0.xml</td>\n",
       "      <td>path\\new_data0.jpeg</td>\n",
       "    </tr>\n",
       "    <tr>\n",
       "      <th>1</th>\n",
       "      <td>new_data0.jpeg</td>\n",
       "      <td>rouille</td>\n",
       "      <td>[478, 663, 568, 834]</td>\n",
       "      <td>annotations\\new_data0.xml</td>\n",
       "      <td>path\\new_data0.jpeg</td>\n",
       "    </tr>\n",
       "    <tr>\n",
       "      <th>2</th>\n",
       "      <td>new_data0.jpeg</td>\n",
       "      <td>rouille</td>\n",
       "      <td>[662, 717, 841, 1002]</td>\n",
       "      <td>annotations\\new_data0.xml</td>\n",
       "      <td>path\\new_data0.jpeg</td>\n",
       "    </tr>\n",
       "    <tr>\n",
       "      <th>3</th>\n",
       "      <td>new_data0.jpeg</td>\n",
       "      <td>rouille</td>\n",
       "      <td>[528, 776, 636, 1125]</td>\n",
       "      <td>annotations\\new_data0.xml</td>\n",
       "      <td>path\\new_data0.jpeg</td>\n",
       "    </tr>\n",
       "    <tr>\n",
       "      <th>4</th>\n",
       "      <td>new_data0.jpeg</td>\n",
       "      <td>rouille</td>\n",
       "      <td>[52, 517, 420, 635]</td>\n",
       "      <td>annotations\\new_data0.xml</td>\n",
       "      <td>path\\new_data0.jpeg</td>\n",
       "    </tr>\n",
       "  </tbody>\n",
       "</table>\n",
       "</div>"
      ],
      "text/plain": [
       "         image_id    names                  boxes                   xml_path  \\\n",
       "0  new_data0.jpeg  rouille   [448, 115, 751, 238]  annotations\\new_data0.xml   \n",
       "1  new_data0.jpeg  rouille   [478, 663, 568, 834]  annotations\\new_data0.xml   \n",
       "2  new_data0.jpeg  rouille  [662, 717, 841, 1002]  annotations\\new_data0.xml   \n",
       "3  new_data0.jpeg  rouille  [528, 776, 636, 1125]  annotations\\new_data0.xml   \n",
       "4  new_data0.jpeg  rouille    [52, 517, 420, 635]  annotations\\new_data0.xml   \n",
       "\n",
       "              img_path  \n",
       "0  path\\new_data0.jpeg  \n",
       "1  path\\new_data0.jpeg  \n",
       "2  path\\new_data0.jpeg  \n",
       "3  path\\new_data0.jpeg  \n",
       "4  path\\new_data0.jpeg  "
      ]
     },
     "execution_count": 94,
     "metadata": {},
     "output_type": "execute_result"
    }
   ],
   "source": [
    "def xml_files_to_df(xml_files):\n",
    "    \n",
    "    \"\"\"\"Return pandas dataframe from list of XML files.\"\"\"\n",
    "    \n",
    "    names = []\n",
    "    boxes = []\n",
    "    image_id = []\n",
    "    xml_path = []\n",
    "    img_path = []\n",
    "    for file in xml_files:\n",
    "        xml = XmlParser(file)\n",
    "        names.extend(xml.names)\n",
    "        boxes.extend(xml.boxes)\n",
    "        image_id.extend([xml.image_id] * len(xml.names))\n",
    "        xml_path.extend([xml.xml_file] * len(xml.names))\n",
    "        img_path.extend([xml.img_path] * len(xml.names))\n",
    "    a = {\"image_id\": image_id,\n",
    "         \"names\": names,\n",
    "         \"boxes\": boxes,\n",
    "         \"xml_path\":xml_path,\n",
    "         \"img_path\":img_path}\n",
    "    \n",
    "    df = pd.DataFrame.from_dict(a, orient='index')\n",
    "    df = df.transpose()\n",
    "    \n",
    "    return df\n",
    "\n",
    "df = xml_files_to_df(XML_FILES)\n",
    "df.head()"
   ]
  },
  {
   "cell_type": "code",
   "execution_count": 95,
   "metadata": {},
   "outputs": [
    {
     "data": {
      "text/plain": [
       "polystigma           554\n",
       "rouille              499\n",
       "coryneum             434\n",
       "acariens             343\n",
       "othyorinques         207\n",
       "faux tigre           166\n",
       "scolytes             143\n",
       "chancre fusicocum    118\n",
       "Name: names, dtype: int64"
      ]
     },
     "execution_count": 95,
     "metadata": {},
     "output_type": "execute_result"
    }
   ],
   "source": [
    "df['names'].value_counts()"
   ]
  },
  {
   "cell_type": "code",
   "execution_count": 96,
   "metadata": {},
   "outputs": [
    {
     "name": "stderr",
     "output_type": "stream",
     "text": [
      "C:\\Users\\zakaria\\anaconda3\\lib\\site-packages\\IPython\\core\\interactiveshell.py:3357: FutureWarning: arrays to stack must be passed as a \"sequence\" type such as list or tuple. Support for non-sequence iterables such as generators is deprecated as of NumPy 1.16 and will raise an error in the future.\n",
      "  if (await self.run_code(code, result,  async_=asy)):\n"
     ]
    }
   ],
   "source": [
    "# bounding box coordinates point need to be in separate columns\n",
    "\n",
    "df['xmin'] = -1\n",
    "df['ymin'] = -1\n",
    "df['xmax'] = -1\n",
    "df['ymax'] = -1\n",
    "\n",
    "df[['xmin','ymin','xmax','ymax']]=np.stack(df['boxes'][i] for i in range(len(df['boxes'])))\n",
    "\n",
    "df.drop(columns=['boxes'], inplace=True)\n",
    "df['xmin'] = df['xmin'].astype(np.float)\n",
    "df['ymin'] = df['ymin'].astype(np.float)\n",
    "df['xmax'] = df['xmax'].astype(np.float)\n",
    "df['ymax'] = df['ymax'].astype(np.float)"
   ]
  },
  {
   "cell_type": "code",
   "execution_count": 97,
   "metadata": {},
   "outputs": [
    {
     "data": {
      "text/html": [
       "<div>\n",
       "<style scoped>\n",
       "    .dataframe tbody tr th:only-of-type {\n",
       "        vertical-align: middle;\n",
       "    }\n",
       "\n",
       "    .dataframe tbody tr th {\n",
       "        vertical-align: top;\n",
       "    }\n",
       "\n",
       "    .dataframe thead th {\n",
       "        text-align: right;\n",
       "    }\n",
       "</style>\n",
       "<table border=\"1\" class=\"dataframe\">\n",
       "  <thead>\n",
       "    <tr style=\"text-align: right;\">\n",
       "      <th></th>\n",
       "      <th>image_id</th>\n",
       "      <th>names</th>\n",
       "      <th>xml_path</th>\n",
       "      <th>img_path</th>\n",
       "      <th>xmin</th>\n",
       "      <th>ymin</th>\n",
       "      <th>xmax</th>\n",
       "      <th>ymax</th>\n",
       "    </tr>\n",
       "  </thead>\n",
       "  <tbody>\n",
       "    <tr>\n",
       "      <th>0</th>\n",
       "      <td>new_data0.jpeg</td>\n",
       "      <td>rouille</td>\n",
       "      <td>annotations\\new_data0.xml</td>\n",
       "      <td>path\\new_data0.jpeg</td>\n",
       "      <td>448.0</td>\n",
       "      <td>115.0</td>\n",
       "      <td>751.0</td>\n",
       "      <td>238.0</td>\n",
       "    </tr>\n",
       "    <tr>\n",
       "      <th>1</th>\n",
       "      <td>new_data0.jpeg</td>\n",
       "      <td>rouille</td>\n",
       "      <td>annotations\\new_data0.xml</td>\n",
       "      <td>path\\new_data0.jpeg</td>\n",
       "      <td>478.0</td>\n",
       "      <td>663.0</td>\n",
       "      <td>568.0</td>\n",
       "      <td>834.0</td>\n",
       "    </tr>\n",
       "    <tr>\n",
       "      <th>2</th>\n",
       "      <td>new_data0.jpeg</td>\n",
       "      <td>rouille</td>\n",
       "      <td>annotations\\new_data0.xml</td>\n",
       "      <td>path\\new_data0.jpeg</td>\n",
       "      <td>662.0</td>\n",
       "      <td>717.0</td>\n",
       "      <td>841.0</td>\n",
       "      <td>1002.0</td>\n",
       "    </tr>\n",
       "    <tr>\n",
       "      <th>3</th>\n",
       "      <td>new_data0.jpeg</td>\n",
       "      <td>rouille</td>\n",
       "      <td>annotations\\new_data0.xml</td>\n",
       "      <td>path\\new_data0.jpeg</td>\n",
       "      <td>528.0</td>\n",
       "      <td>776.0</td>\n",
       "      <td>636.0</td>\n",
       "      <td>1125.0</td>\n",
       "    </tr>\n",
       "    <tr>\n",
       "      <th>4</th>\n",
       "      <td>new_data0.jpeg</td>\n",
       "      <td>rouille</td>\n",
       "      <td>annotations\\new_data0.xml</td>\n",
       "      <td>path\\new_data0.jpeg</td>\n",
       "      <td>52.0</td>\n",
       "      <td>517.0</td>\n",
       "      <td>420.0</td>\n",
       "      <td>635.0</td>\n",
       "    </tr>\n",
       "  </tbody>\n",
       "</table>\n",
       "</div>"
      ],
      "text/plain": [
       "         image_id    names                   xml_path             img_path  \\\n",
       "0  new_data0.jpeg  rouille  annotations\\new_data0.xml  path\\new_data0.jpeg   \n",
       "1  new_data0.jpeg  rouille  annotations\\new_data0.xml  path\\new_data0.jpeg   \n",
       "2  new_data0.jpeg  rouille  annotations\\new_data0.xml  path\\new_data0.jpeg   \n",
       "3  new_data0.jpeg  rouille  annotations\\new_data0.xml  path\\new_data0.jpeg   \n",
       "4  new_data0.jpeg  rouille  annotations\\new_data0.xml  path\\new_data0.jpeg   \n",
       "\n",
       "    xmin   ymin   xmax    ymax  \n",
       "0  448.0  115.0  751.0   238.0  \n",
       "1  478.0  663.0  568.0   834.0  \n",
       "2  662.0  717.0  841.0  1002.0  \n",
       "3  528.0  776.0  636.0  1125.0  \n",
       "4   52.0  517.0  420.0   635.0  "
      ]
     },
     "execution_count": 97,
     "metadata": {},
     "output_type": "execute_result"
    }
   ],
   "source": [
    "df.head()"
   ]
  },
  {
   "cell_type": "code",
   "execution_count": 98,
   "metadata": {
    "colab": {
     "base_uri": "https://localhost:8080/",
     "height": 195
    },
    "id": "QXgncPtChPJU",
    "outputId": "06155ebb-1980-4eff-84d0-a065d081f702"
   },
   "outputs": [
    {
     "data": {
      "text/html": [
       "<div>\n",
       "<style scoped>\n",
       "    .dataframe tbody tr th:only-of-type {\n",
       "        vertical-align: middle;\n",
       "    }\n",
       "\n",
       "    .dataframe tbody tr th {\n",
       "        vertical-align: top;\n",
       "    }\n",
       "\n",
       "    .dataframe thead th {\n",
       "        text-align: right;\n",
       "    }\n",
       "</style>\n",
       "<table border=\"1\" class=\"dataframe\">\n",
       "  <thead>\n",
       "    <tr style=\"text-align: right;\">\n",
       "      <th></th>\n",
       "      <th>image_id</th>\n",
       "      <th>names</th>\n",
       "      <th>xml_path</th>\n",
       "      <th>img_path</th>\n",
       "      <th>xmin</th>\n",
       "      <th>ymin</th>\n",
       "      <th>xmax</th>\n",
       "      <th>ymax</th>\n",
       "      <th>acariens</th>\n",
       "      <th>chancre fusicocum</th>\n",
       "      <th>coryneum</th>\n",
       "      <th>faux tigre</th>\n",
       "      <th>othyorinques</th>\n",
       "      <th>polystigma</th>\n",
       "      <th>rouille</th>\n",
       "      <th>scolytes</th>\n",
       "    </tr>\n",
       "  </thead>\n",
       "  <tbody>\n",
       "    <tr>\n",
       "      <th>0</th>\n",
       "      <td>new_data0.jpeg</td>\n",
       "      <td>rouille</td>\n",
       "      <td>annotations\\new_data0.xml</td>\n",
       "      <td>path\\new_data0.jpeg</td>\n",
       "      <td>448.0</td>\n",
       "      <td>115.0</td>\n",
       "      <td>751.0</td>\n",
       "      <td>238.0</td>\n",
       "      <td>0</td>\n",
       "      <td>0</td>\n",
       "      <td>0</td>\n",
       "      <td>0</td>\n",
       "      <td>0</td>\n",
       "      <td>0</td>\n",
       "      <td>1</td>\n",
       "      <td>0</td>\n",
       "    </tr>\n",
       "    <tr>\n",
       "      <th>1</th>\n",
       "      <td>new_data0.jpeg</td>\n",
       "      <td>rouille</td>\n",
       "      <td>annotations\\new_data0.xml</td>\n",
       "      <td>path\\new_data0.jpeg</td>\n",
       "      <td>478.0</td>\n",
       "      <td>663.0</td>\n",
       "      <td>568.0</td>\n",
       "      <td>834.0</td>\n",
       "      <td>0</td>\n",
       "      <td>0</td>\n",
       "      <td>0</td>\n",
       "      <td>0</td>\n",
       "      <td>0</td>\n",
       "      <td>0</td>\n",
       "      <td>1</td>\n",
       "      <td>0</td>\n",
       "    </tr>\n",
       "    <tr>\n",
       "      <th>2</th>\n",
       "      <td>new_data0.jpeg</td>\n",
       "      <td>rouille</td>\n",
       "      <td>annotations\\new_data0.xml</td>\n",
       "      <td>path\\new_data0.jpeg</td>\n",
       "      <td>662.0</td>\n",
       "      <td>717.0</td>\n",
       "      <td>841.0</td>\n",
       "      <td>1002.0</td>\n",
       "      <td>0</td>\n",
       "      <td>0</td>\n",
       "      <td>0</td>\n",
       "      <td>0</td>\n",
       "      <td>0</td>\n",
       "      <td>0</td>\n",
       "      <td>1</td>\n",
       "      <td>0</td>\n",
       "    </tr>\n",
       "    <tr>\n",
       "      <th>3</th>\n",
       "      <td>new_data0.jpeg</td>\n",
       "      <td>rouille</td>\n",
       "      <td>annotations\\new_data0.xml</td>\n",
       "      <td>path\\new_data0.jpeg</td>\n",
       "      <td>528.0</td>\n",
       "      <td>776.0</td>\n",
       "      <td>636.0</td>\n",
       "      <td>1125.0</td>\n",
       "      <td>0</td>\n",
       "      <td>0</td>\n",
       "      <td>0</td>\n",
       "      <td>0</td>\n",
       "      <td>0</td>\n",
       "      <td>0</td>\n",
       "      <td>1</td>\n",
       "      <td>0</td>\n",
       "    </tr>\n",
       "    <tr>\n",
       "      <th>4</th>\n",
       "      <td>new_data0.jpeg</td>\n",
       "      <td>rouille</td>\n",
       "      <td>annotations\\new_data0.xml</td>\n",
       "      <td>path\\new_data0.jpeg</td>\n",
       "      <td>52.0</td>\n",
       "      <td>517.0</td>\n",
       "      <td>420.0</td>\n",
       "      <td>635.0</td>\n",
       "      <td>0</td>\n",
       "      <td>0</td>\n",
       "      <td>0</td>\n",
       "      <td>0</td>\n",
       "      <td>0</td>\n",
       "      <td>0</td>\n",
       "      <td>1</td>\n",
       "      <td>0</td>\n",
       "    </tr>\n",
       "  </tbody>\n",
       "</table>\n",
       "</div>"
      ],
      "text/plain": [
       "         image_id    names                   xml_path             img_path  \\\n",
       "0  new_data0.jpeg  rouille  annotations\\new_data0.xml  path\\new_data0.jpeg   \n",
       "1  new_data0.jpeg  rouille  annotations\\new_data0.xml  path\\new_data0.jpeg   \n",
       "2  new_data0.jpeg  rouille  annotations\\new_data0.xml  path\\new_data0.jpeg   \n",
       "3  new_data0.jpeg  rouille  annotations\\new_data0.xml  path\\new_data0.jpeg   \n",
       "4  new_data0.jpeg  rouille  annotations\\new_data0.xml  path\\new_data0.jpeg   \n",
       "\n",
       "    xmin   ymin   xmax    ymax  acariens  chancre fusicocum  coryneum  \\\n",
       "0  448.0  115.0  751.0   238.0         0                  0         0   \n",
       "1  478.0  663.0  568.0   834.0         0                  0         0   \n",
       "2  662.0  717.0  841.0  1002.0         0                  0         0   \n",
       "3  528.0  776.0  636.0  1125.0         0                  0         0   \n",
       "4   52.0  517.0  420.0   635.0         0                  0         0   \n",
       "\n",
       "   faux tigre  othyorinques  polystigma  rouille  scolytes  \n",
       "0           0             0           0        1         0  \n",
       "1           0             0           0        1         0  \n",
       "2           0             0           0        1         0  \n",
       "3           0             0           0        1         0  \n",
       "4           0             0           0        1         0  "
      ]
     },
     "execution_count": 98,
     "metadata": {},
     "output_type": "execute_result"
    }
   ],
   "source": [
    "a=df.copy()\n",
    "a=pd.get_dummies(a['names'])\n",
    "df1=pd.concat([df, a], axis=1)\n",
    "df1.head()"
   ]
  },
  {
   "cell_type": "code",
   "execution_count": null,
   "metadata": {
    "id": "UK8RpBoqf0M8"
   },
   "outputs": [],
   "source": []
  },
  {
   "cell_type": "code",
   "execution_count": null,
   "metadata": {
    "id": "lnKSW3GqmQ9B"
   },
   "outputs": [],
   "source": []
  },
  {
   "cell_type": "code",
   "execution_count": 99,
   "metadata": {
    "colab": {
     "base_uri": "https://localhost:8080/"
    },
    "id": "409PM2CumcDC",
    "outputId": "15fb1cd0-57db-4a82-f986-374bfc6a3383"
   },
   "outputs": [
    {
     "data": {
      "text/plain": [
       "(2464, 15)"
      ]
     },
     "execution_count": 99,
     "metadata": {},
     "output_type": "execute_result"
    }
   ],
   "source": [
    "df1.drop(columns='names', inplace=True)\n",
    "\n",
    "df1.shape"
   ]
  },
  {
   "cell_type": "code",
   "execution_count": 101,
   "metadata": {
    "colab": {
     "base_uri": "https://localhost:8080/",
     "height": 195
    },
    "id": "Fezy3m4ycxe7",
    "outputId": "0db79526-24e2-42ce-f3df-207475cf925a"
   },
   "outputs": [],
   "source": [
    "data=df1[['acariens', 'chancre fusicocum', 'coryneum', 'faux tigre',\n",
    "       'othyorinques', 'polystigma', 'rouille', 'scolytes']]"
   ]
  },
  {
   "cell_type": "code",
   "execution_count": 102,
   "metadata": {
    "colab": {
     "base_uri": "https://localhost:8080/"
    },
    "id": "ggW-f4LB4P3W",
    "outputId": "b02344b3-8545-4258-f745-1f62ebbcbb10"
   },
   "outputs": [
    {
     "data": {
      "text/plain": [
       "Index(['acariens', 'chancre fusicocum', 'coryneum', 'faux tigre',\n",
       "       'othyorinques', 'polystigma', 'rouille', 'scolytes'],\n",
       "      dtype='object')"
      ]
     },
     "execution_count": 102,
     "metadata": {},
     "output_type": "execute_result"
    }
   ],
   "source": [
    "data.columns"
   ]
  },
  {
   "cell_type": "code",
   "execution_count": 103,
   "metadata": {
    "colab": {
     "base_uri": "https://localhost:8080/",
     "height": 265
    },
    "id": "1oJpVUs5c3OE",
    "outputId": "e8f19f28-bd80-4e94-e154-32f8505a1d9f"
   },
   "outputs": [
    {
     "data": {
      "text/plain": [
       "<AxesSubplot:ylabel='None'>"
      ]
     },
     "execution_count": 103,
     "metadata": {},
     "output_type": "execute_result"
    },
    {
     "data": {
      "image/png": "[encoded data removed]",
      "text/plain": [
       "<Figure size 432x288 with 1 Axes>"
      ]
     },
     "metadata": {},
     "output_type": "display_data"
    }
   ],
   "source": [
    "pcts=data.mean()\n",
    "pcts.plot(kind = 'pie',autopct='%1.2f%%')"
   ]
  },
  {
   "cell_type": "code",
   "execution_count": 104,
   "metadata": {
    "id": "PhB-yeM13fsH"
   },
   "outputs": [],
   "source": [
    "img_size={'height': 960,\n",
    "         'width': 1280 }"
   ]
  },
  {
   "cell_type": "code",
   "execution_count": 105,
   "metadata": {
    "colab": {
     "base_uri": "https://localhost:8080/"
    },
    "id": "sxqXxaPl39Wy",
    "outputId": "9eda7fac-9cd4-4a46-bd88-387ef12ed640"
   },
   "outputs": [
    {
     "data": {
      "text/plain": [
       "(2464, 8)"
      ]
     },
     "execution_count": 105,
     "metadata": {},
     "output_type": "execute_result"
    }
   ],
   "source": [
    "data.shape"
   ]
  },
  {
   "cell_type": "code",
   "execution_count": 107,
   "metadata": {
    "id": "u9BVWB3Kzxie"
   },
   "outputs": [],
   "source": [
    "path='path/'\n",
    "data_path=df1['img_path']"
   ]
  },
  {
   "cell_type": "code",
   "execution_count": 61,
   "metadata": {},
   "outputs": [
    {
     "name": "stdout",
     "output_type": "stream",
     "text": [
      "(1280, 958, 3)\n"
     ]
    },
    {
     "data": {
      "text/plain": [
       "<matplotlib.image.AxesImage at 0x25484908b80>"
      ]
     },
     "execution_count": 61,
     "metadata": {},
     "output_type": "execute_result"
    },
    {
     "data": {
      "image/png": "[encoded data removed]",
      "text/plain": [
       "<Figure size 432x288 with 1 Axes>"
      ]
     },
     "metadata": {
      "needs_background": "light"
     },
     "output_type": "display_data"
    }
   ],
   "source": [
    "from matplotlib import pyplot as plt\n",
    "\n",
    "img = plt.imread(path+'new_data1.jpeg')\n",
    "print(img.shape)\n",
    "plt.imshow(img)"
   ]
  },
  {
   "cell_type": "code",
   "execution_count": 109,
   "metadata": {
    "colab": {
     "base_uri": "https://localhost:8080/"
    },
    "id": "vUVSHnWrz7sF",
    "outputId": "6d783025-81f4-4fbd-df18-f97a6e1a60a4"
   },
   "outputs": [
    {
     "data": {
      "text/plain": [
       "0        path\\new_data0.jpeg\n",
       "1        path\\new_data0.jpeg\n",
       "2        path\\new_data0.jpeg\n",
       "3        path\\new_data0.jpeg\n",
       "4        path\\new_data0.jpeg\n",
       "                ...         \n",
       "2459    path\\new_data98.jpeg\n",
       "2460    path\\new_data98.jpeg\n",
       "2461    path\\new_data99.jpeg\n",
       "2462    path\\new_data99.jpeg\n",
       "2463    path\\new_data99.jpeg\n",
       "Name: img_path, Length: 2464, dtype: object"
      ]
     },
     "execution_count": 109,
     "metadata": {},
     "output_type": "execute_result"
    }
   ],
   "source": [
    "data_path"
   ]
  },
  {
   "cell_type": "code",
   "execution_count": 125,
   "metadata": {
    "id": "NbgUZOg3xd2a"
   },
   "outputs": [],
   "source": [
    "data_labels = df1.loc[:, ['xmin','ymin','xmax','ymax','acariens', 'chancre fusicocum', 'faux tigre','scolytes', 'polystigma','coryneum', 'rouille']].values"
   ]
  },
  {
   "cell_type": "code",
   "execution_count": 126,
   "metadata": {},
   "outputs": [],
   "source": [
    "train_paths, test_paths, train_labels, test_labels =train_test_split(data_path, data_labels, test_size=0.2, random_state=42)\n"
   ]
  },
  {
   "cell_type": "code",
   "execution_count": 127,
   "metadata": {},
   "outputs": [
    {
     "data": {
      "text/plain": [
       "493"
      ]
     },
     "execution_count": 127,
     "metadata": {},
     "output_type": "execute_result"
    }
   ],
   "source": [
    "len(test_paths)"
   ]
  },
  {
   "cell_type": "code",
   "execution_count": 128,
   "metadata": {
    "id": "xlhCw2Vl4YqQ"
   },
   "outputs": [],
   "source": [
    "IMG_SIZE=299\n",
    "def decode_image(filename, label=None, IMG_SIZE=(IMG_SIZE, IMG_SIZE)):\n",
    "    bits = tf.io.read_file(filename)\n",
    "    image = tf.image.decode_jpeg(bits, channels=3)\n",
    "    image = tf.cast(image, tf.float32) / 255.0\n",
    "    image = tf.image.resize(image, IMG_SIZE)\n",
    "    \n",
    "    if label is None:\n",
    "        return image\n",
    "    else:\n",
    "        return image, label\n",
    "\n",
    "\n",
    "def data_augment(image, label=None):\n",
    "    image = tf.image.random_flip_left_right(image)\n",
    "    image = tf.image.random_flip_up_down(image)\n",
    "    \n",
    "    if label is None:\n",
    "        return image\n",
    "    else:\n",
    "        return image, label\n"
   ]
  },
  {
   "cell_type": "code",
   "execution_count": 129,
   "metadata": {
    "id": "rQSYB8F24fUX"
   },
   "outputs": [],
   "source": [
    "BATCH_SIZE = 16\n",
    "\n",
    "train_dataset = (\n",
    "tf.data.Dataset\n",
    "    .from_tensor_slices((train_paths, train_labels))\n",
    "    .map(decode_image, num_parallel_calls=AUTO)\n",
    "    .cache()\n",
    "    .map(data_augment, num_parallel_calls=AUTO)\n",
    "    .repeat()\n",
    "    .shuffle(512)\n",
    "    .batch(BATCH_SIZE)\n",
    "    .prefetch(AUTO)\n",
    ")\n",
    "test_dataset = (\n",
    "    tf.data.Dataset\n",
    "    .from_tensor_slices((test_paths,test_labels))\n",
    "    .map(decode_image, num_parallel_calls=AUTO)\n",
    "    .map(data_augment, num_parallel_calls=AUTO)\n",
    "    .batch(BATCH_SIZE)\n",
    "    \n",
    ")"
   ]
  },
  {
   "cell_type": "code",
   "execution_count": 130,
   "metadata": {
    "id": "l9jDTNEY6uGC"
   },
   "outputs": [],
   "source": [
    "LR_START = 0.00001\n",
    "LR_MAX = 0.00005 \n",
    "LR_MIN = 0.00001\n",
    "LR_RAMPUP_EPOCHS = 5\n",
    "LR_SUSTAIN_EPOCHS = 0\n",
    "LR_EXP_DECAY = .8\n",
    "\n",
    "def lrfn(epoch):\n",
    "    if epoch < LR_RAMPUP_EPOCHS:\n",
    "        lr = (LR_MAX - LR_START) / LR_RAMPUP_EPOCHS * epoch + LR_START\n",
    "    elif epoch < LR_RAMPUP_EPOCHS + LR_SUSTAIN_EPOCHS:\n",
    "        lr = LR_MAX\n",
    "    else:\n",
    "        lr = (LR_MAX - LR_MIN) * LR_EXP_DECAY**(epoch - LR_RAMPUP_EPOCHS - LR_SUSTAIN_EPOCHS) + LR_MIN\n",
    "    return lr\n",
    "    \n",
    "lr_callback = tf.keras.callbacks.LearningRateScheduler(lrfn, verbose=True)"
   ]
  },
  {
   "cell_type": "code",
   "execution_count": null,
   "metadata": {},
   "outputs": [],
   "source": []
  },
  {
   "cell_type": "code",
   "execution_count": 124,
   "metadata": {},
   "outputs": [],
   "source": [
    "from tensorflow.keras.applications import Xception\n",
    "from tensorflow.keras.models import Model\n",
    "from tensorflow import keras\n",
    "\n",
    "Dense_net = keras.models.load_model('xceptions')"
   ]
  },
  {
   "cell_type": "code",
   "execution_count": 131,
   "metadata": {
    "scrolled": true
   },
   "outputs": [
    {
     "name": "stdout",
     "output_type": "stream",
     "text": [
      "Model: \"model_3\"\n",
      "__________________________________________________________________________________________________\n",
      "Layer (type)                    Output Shape         Param #     Connected to                     \n",
      "==================================================================================================\n",
      "input_4 (InputLayer)            [(None, 299, 299, 3) 0                                            \n",
      "__________________________________________________________________________________________________\n",
      "block1_conv1 (Conv2D)           (None, 149, 149, 32) 864         input_4[0][0]                    \n",
      "__________________________________________________________________________________________________\n",
      "block1_conv1_bn (BatchNormaliza (None, 149, 149, 32) 128         block1_conv1[0][0]               \n",
      "__________________________________________________________________________________________________\n",
      "block1_conv1_act (Activation)   (None, 149, 149, 32) 0           block1_conv1_bn[0][0]            \n",
      "__________________________________________________________________________________________________\n",
      "block1_conv2 (Conv2D)           (None, 147, 147, 64) 18432       block1_conv1_act[0][0]           \n",
      "__________________________________________________________________________________________________\n",
      "block1_conv2_bn (BatchNormaliza (None, 147, 147, 64) 256         block1_conv2[0][0]               \n",
      "__________________________________________________________________________________________________\n",
      "block1_conv2_act (Activation)   (None, 147, 147, 64) 0           block1_conv2_bn[0][0]            \n",
      "__________________________________________________________________________________________________\n",
      "block2_sepconv1 (SeparableConv2 (None, 147, 147, 128 8768        block1_conv2_act[0][0]           \n",
      "__________________________________________________________________________________________________\n",
      "block2_sepconv1_bn (BatchNormal (None, 147, 147, 128 512         block2_sepconv1[0][0]            \n",
      "__________________________________________________________________________________________________\n",
      "block2_sepconv2_act (Activation (None, 147, 147, 128 0           block2_sepconv1_bn[0][0]         \n",
      "__________________________________________________________________________________________________\n",
      "block2_sepconv2 (SeparableConv2 (None, 147, 147, 128 17536       block2_sepconv2_act[0][0]        \n",
      "__________________________________________________________________________________________________\n",
      "block2_sepconv2_bn (BatchNormal (None, 147, 147, 128 512         block2_sepconv2[0][0]            \n",
      "__________________________________________________________________________________________________\n",
      "conv2d_12 (Conv2D)              (None, 74, 74, 128)  8192        block1_conv2_act[0][0]           \n",
      "__________________________________________________________________________________________________\n",
      "block2_pool (MaxPooling2D)      (None, 74, 74, 128)  0           block2_sepconv2_bn[0][0]         \n",
      "__________________________________________________________________________________________________\n",
      "batch_normalization_12 (BatchNo (None, 74, 74, 128)  512         conv2d_12[0][0]                  \n",
      "__________________________________________________________________________________________________\n",
      "add_36 (Add)                    (None, 74, 74, 128)  0           block2_pool[0][0]                \n",
      "                                                                 batch_normalization_12[0][0]     \n",
      "__________________________________________________________________________________________________\n",
      "block3_sepconv1_act (Activation (None, 74, 74, 128)  0           add_36[0][0]                     \n",
      "__________________________________________________________________________________________________\n",
      "block3_sepconv1 (SeparableConv2 (None, 74, 74, 256)  33920       block3_sepconv1_act[0][0]        \n",
      "__________________________________________________________________________________________________\n",
      "block3_sepconv1_bn (BatchNormal (None, 74, 74, 256)  1024        block3_sepconv1[0][0]            \n",
      "__________________________________________________________________________________________________\n",
      "block3_sepconv2_act (Activation (None, 74, 74, 256)  0           block3_sepconv1_bn[0][0]         \n",
      "__________________________________________________________________________________________________\n",
      "block3_sepconv2 (SeparableConv2 (None, 74, 74, 256)  67840       block3_sepconv2_act[0][0]        \n",
      "__________________________________________________________________________________________________\n",
      "block3_sepconv2_bn (BatchNormal (None, 74, 74, 256)  1024        block3_sepconv2[0][0]            \n",
      "__________________________________________________________________________________________________\n",
      "conv2d_13 (Conv2D)              (None, 37, 37, 256)  32768       add_36[0][0]                     \n",
      "__________________________________________________________________________________________________\n",
      "block3_pool (MaxPooling2D)      (None, 37, 37, 256)  0           block3_sepconv2_bn[0][0]         \n",
      "__________________________________________________________________________________________________\n",
      "batch_normalization_13 (BatchNo (None, 37, 37, 256)  1024        conv2d_13[0][0]                  \n",
      "__________________________________________________________________________________________________\n",
      "add_37 (Add)                    (None, 37, 37, 256)  0           block3_pool[0][0]                \n",
      "                                                                 batch_normalization_13[0][0]     \n",
      "__________________________________________________________________________________________________\n",
      "block4_sepconv1_act (Activation (None, 37, 37, 256)  0           add_37[0][0]                     \n",
      "__________________________________________________________________________________________________\n",
      "block4_sepconv1 (SeparableConv2 (None, 37, 37, 728)  188672      block4_sepconv1_act[0][0]        \n",
      "__________________________________________________________________________________________________\n",
      "block4_sepconv1_bn (BatchNormal (None, 37, 37, 728)  2912        block4_sepconv1[0][0]            \n",
      "__________________________________________________________________________________________________\n",
      "block4_sepconv2_act (Activation (None, 37, 37, 728)  0           block4_sepconv1_bn[0][0]         \n",
      "__________________________________________________________________________________________________\n",
      "block4_sepconv2 (SeparableConv2 (None, 37, 37, 728)  536536      block4_sepconv2_act[0][0]        \n",
      "__________________________________________________________________________________________________\n",
      "block4_sepconv2_bn (BatchNormal (None, 37, 37, 728)  2912        block4_sepconv2[0][0]            \n",
      "__________________________________________________________________________________________________\n",
      "conv2d_14 (Conv2D)              (None, 19, 19, 728)  186368      add_37[0][0]                     \n",
      "__________________________________________________________________________________________________\n",
      "block4_pool (MaxPooling2D)      (None, 19, 19, 728)  0           block4_sepconv2_bn[0][0]         \n",
      "__________________________________________________________________________________________________\n",
      "batch_normalization_14 (BatchNo (None, 19, 19, 728)  2912        conv2d_14[0][0]                  \n",
      "__________________________________________________________________________________________________\n",
      "add_38 (Add)                    (None, 19, 19, 728)  0           block4_pool[0][0]                \n",
      "                                                                 batch_normalization_14[0][0]     \n",
      "__________________________________________________________________________________________________\n",
      "block5_sepconv1_act (Activation (None, 19, 19, 728)  0           add_38[0][0]                     \n",
      "__________________________________________________________________________________________________\n",
      "block5_sepconv1 (SeparableConv2 (None, 19, 19, 728)  536536      block5_sepconv1_act[0][0]        \n",
      "__________________________________________________________________________________________________\n",
      "block5_sepconv1_bn (BatchNormal (None, 19, 19, 728)  2912        block5_sepconv1[0][0]            \n",
      "__________________________________________________________________________________________________\n",
      "block5_sepconv2_act (Activation (None, 19, 19, 728)  0           block5_sepconv1_bn[0][0]         \n",
      "__________________________________________________________________________________________________\n",
      "block5_sepconv2 (SeparableConv2 (None, 19, 19, 728)  536536      block5_sepconv2_act[0][0]        \n",
      "__________________________________________________________________________________________________\n",
      "block5_sepconv2_bn (BatchNormal (None, 19, 19, 728)  2912        block5_sepconv2[0][0]            \n",
      "__________________________________________________________________________________________________\n",
      "block5_sepconv3_act (Activation (None, 19, 19, 728)  0           block5_sepconv2_bn[0][0]         \n",
      "__________________________________________________________________________________________________\n",
      "block5_sepconv3 (SeparableConv2 (None, 19, 19, 728)  536536      block5_sepconv3_act[0][0]        \n",
      "__________________________________________________________________________________________________\n",
      "block5_sepconv3_bn (BatchNormal (None, 19, 19, 728)  2912        block5_sepconv3[0][0]            \n",
      "__________________________________________________________________________________________________\n",
      "add_39 (Add)                    (None, 19, 19, 728)  0           block5_sepconv3_bn[0][0]         \n",
      "                                                                 add_38[0][0]                     \n",
      "__________________________________________________________________________________________________\n",
      "block6_sepconv1_act (Activation (None, 19, 19, 728)  0           add_39[0][0]                     \n",
      "__________________________________________________________________________________________________\n",
      "block6_sepconv1 (SeparableConv2 (None, 19, 19, 728)  536536      block6_sepconv1_act[0][0]        \n",
      "__________________________________________________________________________________________________\n",
      "block6_sepconv1_bn (BatchNormal (None, 19, 19, 728)  2912        block6_sepconv1[0][0]            \n",
      "__________________________________________________________________________________________________\n",
      "block6_sepconv2_act (Activation (None, 19, 19, 728)  0           block6_sepconv1_bn[0][0]         \n",
      "__________________________________________________________________________________________________\n",
      "block6_sepconv2 (SeparableConv2 (None, 19, 19, 728)  536536      block6_sepconv2_act[0][0]        \n",
      "__________________________________________________________________________________________________\n",
      "block6_sepconv2_bn (BatchNormal (None, 19, 19, 728)  2912        block6_sepconv2[0][0]            \n",
      "__________________________________________________________________________________________________\n",
      "block6_sepconv3_act (Activation (None, 19, 19, 728)  0           block6_sepconv2_bn[0][0]         \n",
      "__________________________________________________________________________________________________\n",
      "block6_sepconv3 (SeparableConv2 (None, 19, 19, 728)  536536      block6_sepconv3_act[0][0]        \n",
      "__________________________________________________________________________________________________\n",
      "block6_sepconv3_bn (BatchNormal (None, 19, 19, 728)  2912        block6_sepconv3[0][0]            \n",
      "__________________________________________________________________________________________________\n",
      "add_40 (Add)                    (None, 19, 19, 728)  0           block6_sepconv3_bn[0][0]         \n",
      "                                                                 add_39[0][0]                     \n",
      "__________________________________________________________________________________________________\n",
      "block7_sepconv1_act (Activation (None, 19, 19, 728)  0           add_40[0][0]                     \n",
      "__________________________________________________________________________________________________\n",
      "block7_sepconv1 (SeparableConv2 (None, 19, 19, 728)  536536      block7_sepconv1_act[0][0]        \n",
      "__________________________________________________________________________________________________\n",
      "block7_sepconv1_bn (BatchNormal (None, 19, 19, 728)  2912        block7_sepconv1[0][0]            \n",
      "__________________________________________________________________________________________________\n",
      "block7_sepconv2_act (Activation (None, 19, 19, 728)  0           block7_sepconv1_bn[0][0]         \n",
      "__________________________________________________________________________________________________\n",
      "block7_sepconv2 (SeparableConv2 (None, 19, 19, 728)  536536      block7_sepconv2_act[0][0]        \n",
      "__________________________________________________________________________________________________\n",
      "block7_sepconv2_bn (BatchNormal (None, 19, 19, 728)  2912        block7_sepconv2[0][0]            \n",
      "__________________________________________________________________________________________________\n",
      "block7_sepconv3_act (Activation (None, 19, 19, 728)  0           block7_sepconv2_bn[0][0]         \n",
      "__________________________________________________________________________________________________\n",
      "block7_sepconv3 (SeparableConv2 (None, 19, 19, 728)  536536      block7_sepconv3_act[0][0]        \n",
      "__________________________________________________________________________________________________\n",
      "block7_sepconv3_bn (BatchNormal (None, 19, 19, 728)  2912        block7_sepconv3[0][0]            \n",
      "__________________________________________________________________________________________________\n",
      "add_41 (Add)                    (None, 19, 19, 728)  0           block7_sepconv3_bn[0][0]         \n",
      "                                                                 add_40[0][0]                     \n",
      "__________________________________________________________________________________________________\n",
      "block8_sepconv1_act (Activation (None, 19, 19, 728)  0           add_41[0][0]                     \n",
      "__________________________________________________________________________________________________\n",
      "block8_sepconv1 (SeparableConv2 (None, 19, 19, 728)  536536      block8_sepconv1_act[0][0]        \n",
      "__________________________________________________________________________________________________\n",
      "block8_sepconv1_bn (BatchNormal (None, 19, 19, 728)  2912        block8_sepconv1[0][0]            \n",
      "__________________________________________________________________________________________________\n",
      "block8_sepconv2_act (Activation (None, 19, 19, 728)  0           block8_sepconv1_bn[0][0]         \n",
      "__________________________________________________________________________________________________\n",
      "block8_sepconv2 (SeparableConv2 (None, 19, 19, 728)  536536      block8_sepconv2_act[0][0]        \n",
      "__________________________________________________________________________________________________\n",
      "block8_sepconv2_bn (BatchNormal (None, 19, 19, 728)  2912        block8_sepconv2[0][0]            \n",
      "__________________________________________________________________________________________________\n",
      "block8_sepconv3_act (Activation (None, 19, 19, 728)  0           block8_sepconv2_bn[0][0]         \n",
      "__________________________________________________________________________________________________\n",
      "block8_sepconv3 (SeparableConv2 (None, 19, 19, 728)  536536      block8_sepconv3_act[0][0]        \n",
      "__________________________________________________________________________________________________\n",
      "block8_sepconv3_bn (BatchNormal (None, 19, 19, 728)  2912        block8_sepconv3[0][0]            \n",
      "__________________________________________________________________________________________________\n",
      "add_42 (Add)                    (None, 19, 19, 728)  0           block8_sepconv3_bn[0][0]         \n",
      "                                                                 add_41[0][0]                     \n",
      "__________________________________________________________________________________________________\n",
      "block9_sepconv1_act (Activation (None, 19, 19, 728)  0           add_42[0][0]                     \n",
      "__________________________________________________________________________________________________\n",
      "block9_sepconv1 (SeparableConv2 (None, 19, 19, 728)  536536      block9_sepconv1_act[0][0]        \n",
      "__________________________________________________________________________________________________\n",
      "block9_sepconv1_bn (BatchNormal (None, 19, 19, 728)  2912        block9_sepconv1[0][0]            \n",
      "__________________________________________________________________________________________________\n",
      "block9_sepconv2_act (Activation (None, 19, 19, 728)  0           block9_sepconv1_bn[0][0]         \n",
      "__________________________________________________________________________________________________\n",
      "block9_sepconv2 (SeparableConv2 (None, 19, 19, 728)  536536      block9_sepconv2_act[0][0]        \n",
      "__________________________________________________________________________________________________\n",
      "block9_sepconv2_bn (BatchNormal (None, 19, 19, 728)  2912        block9_sepconv2[0][0]            \n",
      "__________________________________________________________________________________________________\n",
      "block9_sepconv3_act (Activation (None, 19, 19, 728)  0           block9_sepconv2_bn[0][0]         \n",
      "__________________________________________________________________________________________________\n",
      "block9_sepconv3 (SeparableConv2 (None, 19, 19, 728)  536536      block9_sepconv3_act[0][0]        \n",
      "__________________________________________________________________________________________________\n",
      "block9_sepconv3_bn (BatchNormal (None, 19, 19, 728)  2912        block9_sepconv3[0][0]            \n",
      "__________________________________________________________________________________________________\n",
      "add_43 (Add)                    (None, 19, 19, 728)  0           block9_sepconv3_bn[0][0]         \n",
      "                                                                 add_42[0][0]                     \n",
      "__________________________________________________________________________________________________\n",
      "block10_sepconv1_act (Activatio (None, 19, 19, 728)  0           add_43[0][0]                     \n",
      "__________________________________________________________________________________________________\n",
      "block10_sepconv1 (SeparableConv (None, 19, 19, 728)  536536      block10_sepconv1_act[0][0]       \n",
      "__________________________________________________________________________________________________\n",
      "block10_sepconv1_bn (BatchNorma (None, 19, 19, 728)  2912        block10_sepconv1[0][0]           \n",
      "__________________________________________________________________________________________________\n",
      "block10_sepconv2_act (Activatio (None, 19, 19, 728)  0           block10_sepconv1_bn[0][0]        \n",
      "__________________________________________________________________________________________________\n",
      "block10_sepconv2 (SeparableConv (None, 19, 19, 728)  536536      block10_sepconv2_act[0][0]       \n",
      "__________________________________________________________________________________________________\n",
      "block10_sepconv2_bn (BatchNorma (None, 19, 19, 728)  2912        block10_sepconv2[0][0]           \n",
      "__________________________________________________________________________________________________\n",
      "block10_sepconv3_act (Activatio (None, 19, 19, 728)  0           block10_sepconv2_bn[0][0]        \n",
      "__________________________________________________________________________________________________\n",
      "block10_sepconv3 (SeparableConv (None, 19, 19, 728)  536536      block10_sepconv3_act[0][0]       \n",
      "__________________________________________________________________________________________________\n",
      "block10_sepconv3_bn (BatchNorma (None, 19, 19, 728)  2912        block10_sepconv3[0][0]           \n",
      "__________________________________________________________________________________________________\n",
      "add_44 (Add)                    (None, 19, 19, 728)  0           block10_sepconv3_bn[0][0]        \n",
      "                                                                 add_43[0][0]                     \n",
      "__________________________________________________________________________________________________\n",
      "block11_sepconv1_act (Activatio (None, 19, 19, 728)  0           add_44[0][0]                     \n",
      "__________________________________________________________________________________________________\n",
      "block11_sepconv1 (SeparableConv (None, 19, 19, 728)  536536      block11_sepconv1_act[0][0]       \n",
      "__________________________________________________________________________________________________\n",
      "block11_sepconv1_bn (BatchNorma (None, 19, 19, 728)  2912        block11_sepconv1[0][0]           \n",
      "__________________________________________________________________________________________________\n",
      "block11_sepconv2_act (Activatio (None, 19, 19, 728)  0           block11_sepconv1_bn[0][0]        \n",
      "__________________________________________________________________________________________________\n",
      "block11_sepconv2 (SeparableConv (None, 19, 19, 728)  536536      block11_sepconv2_act[0][0]       \n",
      "__________________________________________________________________________________________________\n",
      "block11_sepconv2_bn (BatchNorma (None, 19, 19, 728)  2912        block11_sepconv2[0][0]           \n",
      "__________________________________________________________________________________________________\n",
      "block11_sepconv3_act (Activatio (None, 19, 19, 728)  0           block11_sepconv2_bn[0][0]        \n",
      "__________________________________________________________________________________________________\n",
      "block11_sepconv3 (SeparableConv (None, 19, 19, 728)  536536      block11_sepconv3_act[0][0]       \n",
      "__________________________________________________________________________________________________\n",
      "block11_sepconv3_bn (BatchNorma (None, 19, 19, 728)  2912        block11_sepconv3[0][0]           \n",
      "__________________________________________________________________________________________________\n",
      "add_45 (Add)                    (None, 19, 19, 728)  0           block11_sepconv3_bn[0][0]        \n",
      "                                                                 add_44[0][0]                     \n",
      "__________________________________________________________________________________________________\n",
      "block12_sepconv1_act (Activatio (None, 19, 19, 728)  0           add_45[0][0]                     \n",
      "__________________________________________________________________________________________________\n",
      "block12_sepconv1 (SeparableConv (None, 19, 19, 728)  536536      block12_sepconv1_act[0][0]       \n",
      "__________________________________________________________________________________________________\n",
      "block12_sepconv1_bn (BatchNorma (None, 19, 19, 728)  2912        block12_sepconv1[0][0]           \n",
      "__________________________________________________________________________________________________\n",
      "block12_sepconv2_act (Activatio (None, 19, 19, 728)  0           block12_sepconv1_bn[0][0]        \n",
      "__________________________________________________________________________________________________\n",
      "block12_sepconv2 (SeparableConv (None, 19, 19, 728)  536536      block12_sepconv2_act[0][0]       \n",
      "__________________________________________________________________________________________________\n",
      "block12_sepconv2_bn (BatchNorma (None, 19, 19, 728)  2912        block12_sepconv2[0][0]           \n",
      "__________________________________________________________________________________________________\n",
      "block12_sepconv3_act (Activatio (None, 19, 19, 728)  0           block12_sepconv2_bn[0][0]        \n",
      "__________________________________________________________________________________________________\n",
      "block12_sepconv3 (SeparableConv (None, 19, 19, 728)  536536      block12_sepconv3_act[0][0]       \n",
      "__________________________________________________________________________________________________\n",
      "block12_sepconv3_bn (BatchNorma (None, 19, 19, 728)  2912        block12_sepconv3[0][0]           \n",
      "__________________________________________________________________________________________________\n",
      "add_46 (Add)                    (None, 19, 19, 728)  0           block12_sepconv3_bn[0][0]        \n",
      "                                                                 add_45[0][0]                     \n",
      "__________________________________________________________________________________________________\n",
      "block13_sepconv1_act (Activatio (None, 19, 19, 728)  0           add_46[0][0]                     \n",
      "__________________________________________________________________________________________________\n",
      "block13_sepconv1 (SeparableConv (None, 19, 19, 728)  536536      block13_sepconv1_act[0][0]       \n",
      "__________________________________________________________________________________________________\n",
      "block13_sepconv1_bn (BatchNorma (None, 19, 19, 728)  2912        block13_sepconv1[0][0]           \n",
      "__________________________________________________________________________________________________\n",
      "block13_sepconv2_act (Activatio (None, 19, 19, 728)  0           block13_sepconv1_bn[0][0]        \n",
      "__________________________________________________________________________________________________\n",
      "block13_sepconv2 (SeparableConv (None, 19, 19, 1024) 752024      block13_sepconv2_act[0][0]       \n",
      "__________________________________________________________________________________________________\n",
      "block13_sepconv2_bn (BatchNorma (None, 19, 19, 1024) 4096        block13_sepconv2[0][0]           \n",
      "__________________________________________________________________________________________________\n",
      "conv2d_15 (Conv2D)              (None, 10, 10, 1024) 745472      add_46[0][0]                     \n",
      "__________________________________________________________________________________________________\n",
      "block13_pool (MaxPooling2D)     (None, 10, 10, 1024) 0           block13_sepconv2_bn[0][0]        \n",
      "__________________________________________________________________________________________________\n",
      "batch_normalization_15 (BatchNo (None, 10, 10, 1024) 4096        conv2d_15[0][0]                  \n",
      "__________________________________________________________________________________________________\n",
      "add_47 (Add)                    (None, 10, 10, 1024) 0           block13_pool[0][0]               \n",
      "                                                                 batch_normalization_15[0][0]     \n",
      "__________________________________________________________________________________________________\n",
      "block14_sepconv1 (SeparableConv (None, 10, 10, 1536) 1582080     add_47[0][0]                     \n",
      "__________________________________________________________________________________________________\n",
      "block14_sepconv1_bn (BatchNorma (None, 10, 10, 1536) 6144        block14_sepconv1[0][0]           \n",
      "__________________________________________________________________________________________________\n",
      "block14_sepconv1_act (Activatio (None, 10, 10, 1536) 0           block14_sepconv1_bn[0][0]        \n",
      "__________________________________________________________________________________________________\n",
      "block14_sepconv2 (SeparableConv (None, 10, 10, 2048) 3159552     block14_sepconv1_act[0][0]       \n",
      "__________________________________________________________________________________________________\n",
      "block14_sepconv2_bn (BatchNorma (None, 10, 10, 2048) 8192        block14_sepconv2[0][0]           \n",
      "__________________________________________________________________________________________________\n",
      "block14_sepconv2_act (Activatio (None, 10, 10, 2048) 0           block14_sepconv2_bn[0][0]        \n",
      "__________________________________________________________________________________________________\n",
      "global_average_pooling2d_3 (Glo (None, 2048)         0           block14_sepconv2_act[0][0]       \n",
      "__________________________________________________________________________________________________\n",
      "dense_3 (Dense)                 (None, 3)            6147        global_average_pooling2d_3[0][0] \n",
      "==================================================================================================\n",
      "Total params: 20,867,627\n",
      "Trainable params: 20,813,099\n",
      "Non-trainable params: 54,528\n",
      "__________________________________________________________________________________________________\n"
     ]
    }
   ],
   "source": [
    "Dense_net.summary()"
   ]
  },
  {
   "cell_type": "code",
   "execution_count": 135,
   "metadata": {
    "colab": {
     "base_uri": "https://localhost:8080/",
     "height": 458
    },
    "id": "u1cu0pN-7XNZ",
    "outputId": "fb346f0b-6717-44bf-b738-87aa6357360f"
   },
   "outputs": [],
   "source": [
    "x = Dense_net.get_layer(\"global_average_pooling2d_3\").output\n",
    "\n",
    "#x = tf.keras.layers.Dense(1024, activation='softmax')(x)\n",
    "x = tf.keras.layers.Dense(11, activation='softmax')(x)\n",
    "model = keras.Model(inputs = Dense_net.input,outputs=x)\n",
    "model.compile( optimizer= 'adam',loss=\"categorical_crossentropy\", metrics=[\"accuracy\"])"
   ]
  },
  {
   "cell_type": "code",
   "execution_count": 136,
   "metadata": {
    "scrolled": true
   },
   "outputs": [
    {
     "name": "stdout",
     "output_type": "stream",
     "text": [
      "Epoch 1/80\n",
      "154/154 [==============================] - 117s 675ms/step - loss: 3190.3311 - accuracy: 0.4513 - val_loss: 3049.9089 - val_accuracy: 0.7079\n",
      "Epoch 2/80\n",
      "154/154 [==============================] - 105s 681ms/step - loss: 3405.6655 - accuracy: 0.4972 - val_loss: 3863.4604 - val_accuracy: 0.2921\n",
      "Epoch 3/80\n",
      "154/154 [==============================] - 106s 688ms/step - loss: 4769.7441 - accuracy: 0.5028 - val_loss: 5462.7344 - val_accuracy: 0.7079\n",
      "Epoch 4/80\n",
      "154/154 [==============================] - 106s 686ms/step - loss: 6937.7158 - accuracy: 0.4412 - val_loss: 10391.2842 - val_accuracy: 0.2921\n",
      "Epoch 5/80\n",
      "154/154 [==============================] - 106s 687ms/step - loss: 11270.2764 - accuracy: 0.4326 - val_loss: 12725.9697 - val_accuracy: 0.7079\n",
      "Epoch 6/80\n",
      "154/154 [==============================] - 105s 685ms/step - loss: 15581.6562 - accuracy: 0.4712 - val_loss: 143505.6562 - val_accuracy: 0.2921\n",
      "Epoch 7/80\n",
      "154/154 [==============================] - 105s 683ms/step - loss: 29360.8320 - accuracy: 0.4375 - val_loss: 36958.8203 - val_accuracy: 0.2921\n",
      "Epoch 8/80\n",
      "154/154 [==============================] - 105s 683ms/step - loss: 41523.1172 - accuracy: 0.3271 - val_loss: 49208.8320 - val_accuracy: 0.2921\n",
      "Epoch 9/80\n",
      "154/154 [==============================] - 105s 684ms/step - loss: 50432.6523 - accuracy: 0.3981 - val_loss: 55514.1523 - val_accuracy: 0.7079\n",
      "Epoch 10/80\n",
      "154/154 [==============================] - 106s 689ms/step - loss: 62610.0898 - accuracy: 0.3287 - val_loss: 64344.1992 - val_accuracy: 0.2921\n",
      "Epoch 11/80\n",
      "154/154 [==============================] - 106s 688ms/step - loss: 74619.2422 - accuracy: 0.3746 - val_loss: 86777.6016 - val_accuracy: 0.7079\n",
      "Epoch 12/80\n",
      "154/154 [==============================] - 106s 688ms/step - loss: 84907.4844 - accuracy: 0.4237 - val_loss: 85241.4844 - val_accuracy: 0.7079\n",
      "Epoch 13/80\n",
      "154/154 [==============================] - 106s 689ms/step - loss: 99362.0469 - accuracy: 0.4034 - val_loss: 105964.1797 - val_accuracy: 0.2921\n",
      "Epoch 14/80\n",
      "154/154 [==============================] - 106s 688ms/step - loss: 109252.6094 - accuracy: 0.3113 - val_loss: 118050.6641 - val_accuracy: 0.2921\n",
      "Epoch 15/80\n",
      "154/154 [==============================] - 106s 687ms/step - loss: 130167.3125 - accuracy: 0.3900 - val_loss: 138251.4531 - val_accuracy: 0.2921\n",
      "Epoch 16/80\n",
      "154/154 [==============================] - 106s 686ms/step - loss: 143321.8438 - accuracy: 0.5438 - val_loss: 154557.5156 - val_accuracy: 0.7079\n",
      "Epoch 17/80\n",
      "154/154 [==============================] - 106s 686ms/step - loss: 158135.8594 - accuracy: 0.5755 - val_loss: 201041.6094 - val_accuracy: 0.2921\n",
      "Epoch 18/80\n",
      "154/154 [==============================] - 106s 688ms/step - loss: 173930.7031 - accuracy: 0.2983 - val_loss: 195062.3594 - val_accuracy: 0.2921\n",
      "Epoch 19/80\n",
      "154/154 [==============================] - 106s 688ms/step - loss: 194942.1406 - accuracy: 0.4188 - val_loss: 192998.3125 - val_accuracy: 0.2921\n",
      "Epoch 20/80\n",
      "154/154 [==============================] - 106s 688ms/step - loss: 211256.3594 - accuracy: 0.5856 - val_loss: 202163.0781 - val_accuracy: 0.2921\n",
      "Epoch 21/80\n",
      "154/154 [==============================] - 105s 685ms/step - loss: 224548.8594 - accuracy: 0.4858 - val_loss: 240250.5781 - val_accuracy: 0.7079\n",
      "Epoch 22/80\n",
      "154/154 [==============================] - 106s 688ms/step - loss: 246604.0469 - accuracy: 0.6291 - val_loss: 244145.1875 - val_accuracy: 0.2921\n",
      "Epoch 23/80\n",
      "154/154 [==============================] - 106s 688ms/step - loss: 268419.5625 - accuracy: 0.6144 - val_loss: 258568.0312 - val_accuracy: 0.2921\n",
      "Epoch 24/80\n",
      "154/154 [==============================] - 106s 687ms/step - loss: 280207.8125 - accuracy: 0.5722 - val_loss: 285432.4688 - val_accuracy: 0.7079\n",
      "Epoch 25/80\n",
      "154/154 [==============================] - 106s 691ms/step - loss: 303448.2500 - accuracy: 0.4700 - val_loss: 309280.7188 - val_accuracy: 0.7079\n",
      "Epoch 26/80\n",
      "154/154 [==============================] - 106s 688ms/step - loss: 317671.9062 - accuracy: 0.4355 - val_loss: 348061.3438 - val_accuracy: 0.7079\n",
      "Epoch 27/80\n",
      "154/154 [==============================] - 105s 685ms/step - loss: 348662.0625 - accuracy: 0.4919 - val_loss: 358411.0312 - val_accuracy: 0.2921\n",
      "Epoch 28/80\n",
      "154/154 [==============================] - 106s 687ms/step - loss: 374203.0625 - accuracy: 0.4627 - val_loss: 399380.9062 - val_accuracy: 0.7079\n",
      "Epoch 29/80\n",
      "154/154 [==============================] - 106s 686ms/step - loss: 397022.2188 - accuracy: 0.6437 - val_loss: 377913.0312 - val_accuracy: 0.7079\n",
      "Epoch 30/80\n",
      "154/154 [==============================] - 105s 685ms/step - loss: 418877.7812 - accuracy: 0.6067 - val_loss: 430089.9375 - val_accuracy: 0.2921\n",
      "Epoch 31/80\n",
      "154/154 [==============================] - 106s 688ms/step - loss: 439502.7500 - accuracy: 0.5515 - val_loss: 451758.7812 - val_accuracy: 0.7079\n",
      "Epoch 32/80\n",
      "154/154 [==============================] - 106s 687ms/step - loss: 462887.3750 - accuracy: 0.5386 - val_loss: 466586.8438 - val_accuracy: 0.7079\n",
      "Epoch 33/80\n",
      "154/154 [==============================] - 106s 689ms/step - loss: 488402.4375 - accuracy: 0.4655 - val_loss: 456517.6875 - val_accuracy: 0.2921\n",
      "Epoch 34/80\n",
      "154/154 [==============================] - 106s 686ms/step - loss: 507741.3438 - accuracy: 0.5004 - val_loss: 459985.0938 - val_accuracy: 0.2921\n",
      "Epoch 35/80\n",
      "154/154 [==============================] - 106s 686ms/step - loss: 543985.1250 - accuracy: 0.5844 - val_loss: 516667.8438 - val_accuracy: 0.2921\n",
      "Epoch 36/80\n",
      "154/154 [==============================] - 105s 685ms/step - loss: 572569.8125 - accuracy: 0.6416 - val_loss: 598412.3125 - val_accuracy: 0.7079\n",
      "Epoch 37/80\n",
      "154/154 [==============================] - 106s 686ms/step - loss: 604265.8125 - accuracy: 0.6960 - val_loss: 581018.8750 - val_accuracy: 0.7079\n",
      "Epoch 38/80\n",
      "154/154 [==============================] - 106s 688ms/step - loss: 620315.3125 - accuracy: 0.6347 - val_loss: 628361.5625 - val_accuracy: 0.7079\n",
      "Epoch 39/80\n",
      "154/154 [==============================] - 106s 688ms/step - loss: 663521.3750 - accuracy: 0.6372 - val_loss: 659477.0000 - val_accuracy: 0.7079\n",
      "Epoch 40/80\n",
      "154/154 [==============================] - 105s 685ms/step - loss: 681651.5625 - accuracy: 0.6956 - val_loss: 648544.6250 - val_accuracy: 0.7079\n",
      "Epoch 41/80\n",
      "154/154 [==============================] - 105s 685ms/step - loss: 711402.9375 - accuracy: 0.6226 - val_loss: 720768.5000 - val_accuracy: 0.2921\n",
      "Epoch 42/80\n",
      "154/154 [==============================] - 105s 684ms/step - loss: 752848.5625 - accuracy: 0.4801 - val_loss: 696419.5000 - val_accuracy: 0.7079\n",
      "Epoch 43/80\n",
      "154/154 [==============================] - 106s 686ms/step - loss: 795205.0625 - accuracy: 0.7009 - val_loss: 745172.5625 - val_accuracy: 0.7079\n",
      "Epoch 44/80\n",
      "154/154 [==============================] - 106s 687ms/step - loss: 809566.1875 - accuracy: 0.5897 - val_loss: 849093.2500 - val_accuracy: 0.7079\n",
      "Epoch 45/80\n",
      "154/154 [==============================] - 106s 688ms/step - loss: 853121.9375 - accuracy: 0.7009 - val_loss: 806034.8750 - val_accuracy: 0.7079\n",
      "Epoch 46/80\n",
      "154/154 [==============================] - 106s 688ms/step - loss: 879952.7500 - accuracy: 0.6936 - val_loss: 824508.0000 - val_accuracy: 0.7079\n",
      "Epoch 47/80\n",
      "154/154 [==============================] - 106s 687ms/step - loss: 920091.4375 - accuracy: 0.6498 - val_loss: 890379.0000 - val_accuracy: 0.7079\n",
      "Epoch 48/80\n",
      "154/154 [==============================] - 105s 684ms/step - loss: 961245.8125 - accuracy: 0.6554 - val_loss: 956890.5000 - val_accuracy: 0.7079\n",
      "Epoch 49/80\n",
      "154/154 [==============================] - 106s 689ms/step - loss: 980963.2500 - accuracy: 0.5820 - val_loss: 948306.3750 - val_accuracy: 0.7079\n",
      "Epoch 50/80\n",
      "154/154 [==============================] - 105s 685ms/step - loss: 1019438.3125 - accuracy: 0.5694 - val_loss: 1039949.0000 - val_accuracy: 0.7079\n",
      "Epoch 51/80\n",
      "154/154 [==============================] - 106s 688ms/step - loss: 1048950.7500 - accuracy: 0.5345 - val_loss: 1022098.4375 - val_accuracy: 0.7079\n",
      "Epoch 52/80\n",
      "154/154 [==============================] - 106s 689ms/step - loss: 1116803.2500 - accuracy: 0.7005 - val_loss: 1055680.6250 - val_accuracy: 0.7079\n",
      "Epoch 53/80\n",
      "154/154 [==============================] - 106s 689ms/step - loss: 1150956.1250 - accuracy: 0.6944 - val_loss: 1094498.7500 - val_accuracy: 0.7079\n",
      "Epoch 54/80\n",
      "154/154 [==============================] - 105s 683ms/step - loss: 1169404.6250 - accuracy: 0.5982 - val_loss: 1214756.8750 - val_accuracy: 0.7079\n",
      "Epoch 55/80\n",
      "154/154 [==============================] - 106s 687ms/step - loss: 1217203.3750 - accuracy: 0.5670 - val_loss: 1120873.7500 - val_accuracy: 0.7079\n",
      "Epoch 56/80\n",
      "154/154 [==============================] - 105s 684ms/step - loss: 1236287.1250 - accuracy: 0.6351 - val_loss: 1207645.6250 - val_accuracy: 0.7079\n",
      "Epoch 57/80\n",
      "154/154 [==============================] - 106s 687ms/step - loss: 1305762.1250 - accuracy: 0.6976 - val_loss: 1206364.8750 - val_accuracy: 0.7079\n",
      "Epoch 58/80\n",
      "154/154 [==============================] - 106s 687ms/step - loss: 1327623.8750 - accuracy: 0.6968 - val_loss: 1289510.6250 - val_accuracy: 0.7079\n",
      "Epoch 59/80\n",
      "154/154 [==============================] - 106s 688ms/step - loss: 1346771.7500 - accuracy: 0.6769 - val_loss: 1384340.3750 - val_accuracy: 0.7079\n",
      "Epoch 60/80\n",
      "154/154 [==============================] - 105s 684ms/step - loss: 1419220.7500 - accuracy: 0.7021 - val_loss: 1404160.3750 - val_accuracy: 0.7079\n",
      "Epoch 61/80\n",
      "154/154 [==============================] - 106s 688ms/step - loss: 1447988.8750 - accuracy: 0.6295 - val_loss: 1389998.6250 - val_accuracy: 0.7079\n",
      "Epoch 62/80\n",
      "154/154 [==============================] - 106s 686ms/step - loss: 1498127.0000 - accuracy: 0.7025 - val_loss: 1410314.1250 - val_accuracy: 0.7079\n",
      "Epoch 63/80\n",
      "154/154 [==============================] - 106s 686ms/step - loss: 1538967.5000 - accuracy: 0.6993 - val_loss: 1544849.1250 - val_accuracy: 0.7079\n",
      "Epoch 64/80\n",
      "154/154 [==============================] - 106s 687ms/step - loss: 1598574.6250 - accuracy: 0.6193 - val_loss: 1545469.2500 - val_accuracy: 0.7079\n",
      "Epoch 65/80\n",
      "154/154 [==============================] - 106s 686ms/step - loss: 1650698.1250 - accuracy: 0.7013 - val_loss: 1652374.5000 - val_accuracy: 0.7079\n",
      "Epoch 66/80\n",
      "154/154 [==============================] - 105s 682ms/step - loss: 1689134.8750 - accuracy: 0.6944 - val_loss: 1615345.3750 - val_accuracy: 0.7079\n",
      "Epoch 67/80\n",
      "154/154 [==============================] - 105s 684ms/step - loss: 1735936.3750 - accuracy: 0.6997 - val_loss: 1731670.5000 - val_accuracy: 0.7079\n",
      "Epoch 68/80\n",
      "154/154 [==============================] - 106s 686ms/step - loss: 1774120.2500 - accuracy: 0.6976 - val_loss: 1787324.3750 - val_accuracy: 0.7079\n",
      "Epoch 69/80\n",
      "154/154 [==============================] - 105s 685ms/step - loss: 1818676.7500 - accuracy: 0.7021 - val_loss: 1775738.0000 - val_accuracy: 0.7079\n",
      "Epoch 70/80\n",
      "154/154 [==============================] - 106s 687ms/step - loss: 1879289.1250 - accuracy: 0.6936 - val_loss: 1788056.7500 - val_accuracy: 0.7079\n",
      "Epoch 71/80\n",
      "154/154 [==============================] - 106s 688ms/step - loss: 1921403.6250 - accuracy: 0.6997 - val_loss: 1815046.8750 - val_accuracy: 0.7079\n",
      "Epoch 72/80\n",
      "154/154 [==============================] - 106s 687ms/step - loss: 1955682.5000 - accuracy: 0.6631 - val_loss: 1883193.6250 - val_accuracy: 0.7079\n",
      "Epoch 73/80\n",
      "154/154 [==============================] - 105s 685ms/step - loss: 2030147.1250 - accuracy: 0.7017 - val_loss: 1993604.0000 - val_accuracy: 0.7079\n",
      "Epoch 74/80\n",
      "154/154 [==============================] - 105s 685ms/step - loss: 2080147.5000 - accuracy: 0.6932 - val_loss: 2013871.7500 - val_accuracy: 0.7079\n",
      "Epoch 75/80\n",
      "154/154 [==============================] - 105s 685ms/step - loss: 2133408.5000 - accuracy: 0.7033 - val_loss: 2046970.0000 - val_accuracy: 0.7079\n",
      "Epoch 76/80\n",
      "154/154 [==============================] - 106s 686ms/step - loss: 2206917.7500 - accuracy: 0.6981 - val_loss: 2194359.7500 - val_accuracy: 0.7079\n",
      "Epoch 77/80\n",
      "154/154 [==============================] - 104s 678ms/step - loss: 2274123.7500 - accuracy: 0.6972 - val_loss: 2166205.7500 - val_accuracy: 0.7079\n",
      "Epoch 78/80\n",
      "154/154 [==============================] - 105s 679ms/step - loss: 2298255.0000 - accuracy: 0.6989 - val_loss: 2188883.2500 - val_accuracy: 0.7079\n",
      "Epoch 79/80\n",
      "154/154 [==============================] - 105s 681ms/step - loss: 2345228.5000 - accuracy: 0.6997 - val_loss: 2291680.2500 - val_accuracy: 0.7079\n",
      "Epoch 80/80\n",
      "154/154 [==============================] - 106s 686ms/step - loss: 2433354.0000 - accuracy: 0.6997 - val_loss: 2351976.7500 - val_accuracy: 0.7079\n"
     ]
    }
   ],
   "source": [
    "history=model.fit(\n",
    "    train_dataset,\n",
    "    steps_per_epoch=data_labels.shape[0] // BATCH_SIZE,\n",
    "    epochs=80,\n",
    "    validation_data=test_dataset\n",
    "    )"
   ]
  },
  {
   "cell_type": "code",
   "execution_count": 137,
   "metadata": {
    "id": "o3dnottQ-aH_"
   },
   "outputs": [],
   "source": [
    "def display_training_curves(training, validation, title, subplot):\n",
    "    if subplot%10==1: # set up the subplots on the first call\n",
    "        plt.subplots(figsize=(10,10), facecolor='#F0F0F0')\n",
    "        #plt.tight_layout()\n",
    "    ax = plt.subplot(subplot)\n",
    "    ax.set_facecolor('#F8F8F8')\n",
    "    ax.plot(training)\n",
    "    ax.plot(validation)\n",
    "    ax.set_title('model '+ title)\n",
    "    ax.set_ylabel(title)\n",
    "    #ax.set_ylim(0.28,1.05)\n",
    "    ax.set_xlabel('epoch')\n",
    "    ax.legend(['train', 'valid.'])"
   ]
  },
  {
   "cell_type": "code",
   "execution_count": 138,
   "metadata": {},
   "outputs": [
    {
     "data": {
      "image/png": "[encoded data removed]",
      "text/plain": [
       "<Figure size 720x720 with 2 Axes>"
      ]
     },
     "metadata": {},
     "output_type": "display_data"
    }
   ],
   "source": [
    "display_training_curves(history.history['accuracy'][1:], history.history['val_accuracy'][1:], 'accuracy', 211)\n",
    "display_training_curves(history.history['loss'][1:], history.history['val_loss'][1:], 'loss', 212)"
   ]
  },
  {
   "cell_type": "code",
   "execution_count": 139,
   "metadata": {},
   "outputs": [],
   "source": [
    "import pickle\n",
    "with open('training_log/first_try_segmentation.pkl', 'wb') as output:\n",
    "        pickle.dump(history.history, output)"
   ]
  },
  {
   "cell_type": "code",
   "execution_count": null,
   "metadata": {},
   "outputs": [],
   "source": []
  }
 ],
 "metadata": {
  "accelerator": "TPU",
  "colab": {
   "name": "new_data.ipynb",
   "provenance": []
  },
  "kernelspec": {
   "display_name": "Python 3",
   "language": "python",
   "name": "python3"
  },
  "language_info": {
   "codemirror_mode": {
    "name": "ipython",
    "version": 3
   },
   "file_extension": ".py",
   "mimetype": "text/x-python",
   "name": "python",
   "nbconvert_exporter": "python",
   "pygments_lexer": "ipython3",
   "version": "3.8.5"
  }
 },
 "nbformat": 4,
 "nbformat_minor": 1
}
