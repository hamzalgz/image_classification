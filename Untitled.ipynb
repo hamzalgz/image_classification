{
 "cells": [
  {
   "cell_type": "code",
   "execution_count": null,
   "metadata": {},
   "outputs": [],
   "source": [
    "    model = keras.models.load_model('models\\model_i_'+str(18-i)+'_g.h5',custom_objects=dependencies)\n",
    "    # fit model\n",
    "    train_time = time.time()\n",
    "    history=model.fit(x_train_preprocessed, y_train, epochs=60, validation_data=(x_test_preprocessed, y_test), batch_size=16)\n",
    "    train_time = time.time() - train_time\n",
    "    # fit model end and saving model training time\n",
    "    train_history.accuracy_history(history.history,'training_log\\part_'+str(18-i)+'\\part_'+str(18-i)+'_top_1_acc.png')\n",
    "    train_history.top_5_accuracy_history(history.history,'training_log\\part_'+str(18-i)+'\\part_'+str(18-i)+'_top_5_acc.png')\n",
    "    train_history.loss_history(history.history,'training_log\\part_'+str(18-i)+'\\part_'+str(18-i)+'_loss.png')\n",
    "    with open('training_log\\part_'+str(18-i)+'\\part_'+str(18-i)+'_time.txt', \"w\") as text_file:\n",
    "        text_file.write('training time for part '+str(18-i)+' : '+str(int(train_time))+' sec')\n",
    "    with open('training_log\\part_'+str(18-i)+'\\part_'+str(18-i)+'_history.pkl', 'wb') as output:\n",
    "        pickle.dump(history.history, output)"
   ]
  }
 ],
 "metadata": {
  "kernelspec": {
   "display_name": "Python 3",
   "language": "python",
   "name": "python3"
  },
  "language_info": {
   "codemirror_mode": {
    "name": "ipython",
    "version": 3
   },
   "file_extension": ".py",
   "mimetype": "text/x-python",
   "name": "python",
   "nbconvert_exporter": "python",
   "pygments_lexer": "ipython3",
   "version": "3.8.5"
  }
 },
 "nbformat": 4,
 "nbformat_minor": 4
}
